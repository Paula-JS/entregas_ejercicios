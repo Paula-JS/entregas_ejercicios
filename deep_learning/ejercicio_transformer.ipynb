{
 "cells": [
  {
   "cell_type": "markdown",
   "metadata": {},
   "source": [
    "1. CREAMOS UN RAG ARTESANO\n",
    "\n",
    "- Texto a chunks\n",
    "\n",
    "- chunks a embeddings\n",
    "\n",
    "- Solicitamos input\n",
    "\n",
    "- input a embeding\n",
    "\n",
    "- Comparamos input vs chunks\n",
    "\n",
    "- Enviamos peticion al llm con contexto (chunk) + pregunta (input)\n",
    "\n",
    "2. METELO TODO EN UN STREAMLIT\n",
    "\n",
    "- Boton para cambiar el archivo de texto\n",
    "\n",
    "- Text input area para recoger la pregunta\n",
    "\n",
    "- Muestra la respuesta \n",
    "\n",
    "3. CAMBIA LA FORMA DE ALMACENAR TUS EMBEDDINGS (SQLite)\n",
    "\n"
   ]
  },
  {
   "cell_type": "code",
   "execution_count": 1,
   "metadata": {},
   "outputs": [],
   "source": [
    "#pip install sentence-transformers"
   ]
  },
  {
   "cell_type": "code",
   "execution_count": 2,
   "metadata": {},
   "outputs": [
    {
     "name": "stderr",
     "output_type": "stream",
     "text": [
      "/opt/miniconda3/envs/sklearn_env/lib/python3.11/site-packages/tqdm/auto.py:21: TqdmWarning: IProgress not found. Please update jupyter and ipywidgets. See https://ipywidgets.readthedocs.io/en/stable/user_install.html\n",
      "  from .autonotebook import tqdm as notebook_tqdm\n"
     ]
    }
   ],
   "source": [
    "from sentence_transformers import SentenceTransformer\n",
    "import numpy as np"
   ]
  },
  {
   "cell_type": "markdown",
   "metadata": {},
   "source": [
    "## Abrimos el archivo txt que hemos creado previamente de 6000 caracteres"
   ]
  },
  {
   "cell_type": "code",
   "execution_count": 3,
   "metadata": {},
   "outputs": [
    {
     "name": "stdout",
     "output_type": "stream",
     "text": [
      "Era una noche sin luna, el tipo de noche que parece engullirlo todo. Los árboles, tan oscuros como sombras, se mecían con el viento, pero en el aire flotaba un extraño silencio, como si el mundo entero hubiera dejado de respirar por un momento. Tomás caminaba a paso firme por el estrecho sendero de tierra que serpenteaba entre los árboles, su linterna iluminando a duras penas la oscuridad impenetrable que lo rodeaba.\n",
      "\n",
      "Había oído historias sobre el bosque. Decían que en su interior vivían sombras que no se veían pero se sentían, que las personas que se aventuraban demasiado adentro nunca regresaban. Aún así, Tomás no creía en leyendas. Solo le preocupaba la historia de su amigo Marcos, quien había desaparecido allí hacía dos semanas. Marcos había decidido explorar el bosque y, antes de irse, le había prometido a Tomás que volvería con algo interesante, algo que cambiaría sus vidas. Tomás nunca escuchó de él nuevamente.\n",
      "\n",
      "\"Debe estar bromeando\", pensó, mientras el eco de sus propios pasos comenzaba a resonar en la quietud del bosque. Había decidido ir en su búsqueda. Sabía que si no lo hacía, nunca podría vivir con la duda. Así que esa noche, armado solo con una linterna y una determinación que no sabía si era coraje o terquedad, se adentró en el mismo sendero que Marcos había tomado.\n",
      "\n",
      "El aire era denso, casi pegajoso, y el sonido de sus pasos sobre el suelo era la única música que acompañaba su marcha. La linterna, de vez en cuando, parpadeaba como si vacilara, incapaz de sostenerse en la obscuridad. Algo extraño pasaba en ese lugar, algo que no podía identificar pero que sentía en sus huesos.\n",
      "\n",
      "Tras caminar un buen rato, llegó a una pequeña cueva, oculta entre los árboles. La entrada, apenas visible, parecía un resquicio en la tierra, como si el mismo bosque intentara mantenerla en secreto. Sin pensarlo demasiado, Tomás se acercó y, con un profundo suspiro, entró en la penumbra.\n",
      "\n",
      "Dentro, la cueva estaba fría y húmeda, y el aire tenía un olor acre que le invadió las fosas nasales. Con cada paso, el sonido de su respiración parecía multiplicarse, volviéndose más pesado y angustiante. La linterna, ahora mucho más débil, iluminaba solo unos pocos metros frente a él. Sin embargo, había algo más: un extraño murmullo, casi imperceptible, que venía de lo más profundo de la cueva.\n",
      "\n",
      "Tomás se quedó quieto, intentando discernir el origen de ese sonido. Al principio pensó que podría ser el viento, pero el murmullo era demasiado específico, demasiado… humano. Un estremecimiento le recorrió la espalda, pero apretó los dientes y siguió adelante. El eco de sus propios pasos lo acompañaba como un lamento, como si el lugar lo estuviera absorbiendo.\n",
      "\n",
      "A medida que avanzaba, el sonido se hizo más claro. De repente, algo cambió. La linterna titiló y se apagó por completo, sumiéndolo en una oscuridad absoluta. Tomás trató de encenderla de nuevo, pero no lo consiguió. Su corazón empezó a latir con fuerza, y un sudor frío comenzó a recorrer su frente.\n",
      "\n",
      "\"Debe ser una pila\", murmuró para sí mismo, aunque sabía que no tenía sentido. La linterna estaba casi nueva. De pronto, un susurro le llegó al oído, claro y nítido, como si alguien estuviera justo detrás de él:\n",
      "\n",
      "— No sigas.\n",
      "\n",
      "Tomás dio un salto hacia atrás, el miedo invadiendo su cuerpo de forma instantánea. Se giró, buscando desesperadamente la fuente de la voz, pero no vio nada. Solo la penumbra, densa y profunda.\n",
      "\n",
      "— ¿Quién está ahí? —gritó, pero su voz salió ahogada, como si el mismo aire lo estuviera sofocando.\n",
      "\n",
      "El silencio respondió. Un silencio tan absoluto que hasta el eco parecía haberse rendido.\n",
      "\n",
      "Un frío indescriptible lo rodeó, como si el mismo espacio se hubiera vuelto más espeso, más peligroso. Tomás sintió cómo su cuerpo temblaba, incapaz de mover una sola pierna. Había algo en la cueva, algo que lo estaba observando, algo que no pertenecía a este mundo. En su mente, una idea se formó de manera tan clara que fue como si se materializara en un pensamiento sólido: no estaba solo.\n",
      "\n",
      "Decidió moverse. De alguna manera, encontró el coraje para dar un paso hacia adelante. Pero cuando lo hizo, algo extraño ocurrió. Un sonido lejano, casi como un crujido, se escuchó en el fondo de la cueva. Tomás se giró con rapidez, y vio una figura borrosa en la distancia. Un hombre, o algo que alguna vez fue humano, estaba parado allí. La figura no se movía, pero Tomás podía sentir su presencia, como un peso sobre su pecho.\n",
      "\n",
      "Los ojos de la figura brillaban en la oscuridad, dos puntos de luz amarilla que no parpadeaban, fijos en él. Tomás intentó retroceder, pero el suelo debajo de sus pies se volvió resbaladizo. Tropezó, cayendo de espaldas. Cuando levantó la vista, la figura ya no estaba en su lugar, pero el murmullo, cada vez más fuerte, parecía venir de todas partes a la vez.\n",
      "\n",
      "Con un esfuerzo titánico, logró ponerse de pie y, tambaleándose, corrió de vuelta por el túnel, sin saber muy bien hacia dónde iba. Los ecos de su propia carrera lo perseguían, distorsionándose, transformándose en risas apagadas, susurros que se transformaban en gritos, hasta que, finalmente, las voces dejaron de ser humanas.\n",
      "\n",
      "Tomás vio la entrada de la cueva a lo lejos y, en su desesperación, aceleró aún más el paso. Pero al salir, no encontró el sendero que había recorrido. El bosque estaba completamente cambiado. La vegetación estaba más densa, las sombras más oscuras y amenazantes. La luna seguía sin aparecer, y el silencio, ese mismo silencio opresivo que había sentido antes, lo envolvía por completo.\n",
      "\n",
      "No había forma de regresar.\n",
      "\n",
      "Entonces, como si el bosque hubiera esperado ese momento, escuchó nuevamente la voz. Esta vez, más clara, más cercana. Y esta vez, le hablaba directamente a su mente:\n",
      "\n",
      "— Bienvenido.\n",
      "\n",
      "El grito de Tomás se ahogó en la oscuridad, mientras las sombras lo rodeaban, y el eco de su desesperación se fundía con el de aquellos que, como él, se habían perdido en el mismo lugar.\n"
     ]
    }
   ],
   "source": [
    "# Abrir el archivo en modo lectura ('r')\n",
    "with open(\"texto.txt\", 'r', encoding='utf-8') as file:\n",
    "    # Leer todo el contenido del archivo\n",
    "    texto = file.read()\n",
    "\n",
    "# Mostrar el contenido leído\n",
    "print(texto)\n"
   ]
  },
  {
   "cell_type": "markdown",
   "metadata": {},
   "source": [
    "## Dividimos el texto en chunks de 1000 caracteres"
   ]
  },
  {
   "cell_type": "code",
   "execution_count": 4,
   "metadata": {},
   "outputs": [
    {
     "ename": "",
     "evalue": "",
     "output_type": "error",
     "traceback": [
      "\u001b[1;31mEl kernel se bloqueó al ejecutar código en la celda actual o en una celda anterior. \n",
      "\u001b[1;31mRevise el código de las celdas para identificar una posible causa del error. \n",
      "\u001b[1;31mHaga clic <a href='https://aka.ms/vscodeJupyterKernelCrash'>aquí</a> para obtener más información. \n",
      "\u001b[1;31mVea Jupyter <a href='command:jupyter.viewOutput'>log</a> para obtener más detalles."
     ]
    }
   ],
   "source": [
    "chunks = [texto[i:i+1000] for i in range (0, len(texto), 1000)]"
   ]
  },
  {
   "cell_type": "markdown",
   "metadata": {},
   "source": [
    "## Convertir los chunks a embeddings"
   ]
  },
  {
   "cell_type": "code",
   "execution_count": 5,
   "metadata": {},
   "outputs": [],
   "source": [
    "# Inicializar el modelo de embeddings\n",
    "model = SentenceTransformer('paraphrase-MiniLM-L6-v2')\n",
    "\n",
    "# Generar los embeddings para cada chunk\n",
    "embeddings = [model.encode(chunk) for chunk in chunks]"
   ]
  }
 ],
 "metadata": {
  "kernelspec": {
   "display_name": "sklearn_env",
   "language": "python",
   "name": "python3"
  },
  "language_info": {
   "codemirror_mode": {
    "name": "ipython",
    "version": 3
   },
   "file_extension": ".py",
   "mimetype": "text/x-python",
   "name": "python",
   "nbconvert_exporter": "python",
   "pygments_lexer": "ipython3",
   "version": "3.11.0"
  }
 },
 "nbformat": 4,
 "nbformat_minor": 2
}
