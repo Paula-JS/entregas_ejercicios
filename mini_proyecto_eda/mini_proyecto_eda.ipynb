{
 "cells": [
  {
   "cell_type": "markdown",
   "metadata": {},
   "source": [
    "## Mini-Proyecto EDA"
   ]
  },
  {
   "cell_type": "markdown",
   "metadata": {},
   "source": [
    "Descripción del perfil de Jorge Luis\n",
    "\n",
    "Perfil del Cliente\n",
    "\n",
    "Nombre y Apellidos: Jorge Luis Gómez\n",
    "\n",
    "Edad: 34 años\n",
    "\n",
    "Situación familiar: Padre soltero de un niño de 6 años\n",
    "\n",
    "Prioridades de vivienda:\n",
    "\n",
    "    Ubicación en una zona con acceso a centros educativos públicos de calidad para garantizar la mejor educación posible a su hijo.\n",
    "    Proximidad a parques o espacios verdes donde pueda disfrutar de actividades al aire libre con su hijo.\n",
    "    Acceso cercano al transporte público, dado que no posee vehículo propio.\n",
    "\n",
    "Resumen del Perfil:\n",
    "\n",
    "Nuestro colega busca un entorno que combine comodidad, accesibilidad y un ambiente familiar. Su interés principal es asegurar un equilibrio entre la proximidad a servicios esenciales, la calidad de vida y la participación en actividades comunitarias que favorezcan la integración y socialización en su nueva ciudad."
   ]
  },
  {
   "cell_type": "code",
   "execution_count": 24,
   "metadata": {},
   "outputs": [],
   "source": [
    "import pandas as pd\n",
    "import numpy as np\n",
    "import ipywidgets as widgets\n",
    "import matplotlib.pyplot as plt\n",
    "import plotly.graph_objects as go\n"
   ]
  },
  {
   "cell_type": "code",
   "execution_count": 4,
   "metadata": {},
   "outputs": [
    {
     "data": {
      "text/html": [
       "<div>\n",
       "<style scoped>\n",
       "    .dataframe tbody tr th:only-of-type {\n",
       "        vertical-align: middle;\n",
       "    }\n",
       "\n",
       "    .dataframe tbody tr th {\n",
       "        vertical-align: top;\n",
       "    }\n",
       "\n",
       "    .dataframe thead th {\n",
       "        text-align: right;\n",
       "    }\n",
       "</style>\n",
       "<table border=\"1\" class=\"dataframe\">\n",
       "  <thead>\n",
       "    <tr style=\"text-align: right;\">\n",
       "      <th></th>\n",
       "      <th>Id. Parada</th>\n",
       "      <th>Cod. Via / Cod. Vía</th>\n",
       "      <th>Num. Portal</th>\n",
       "      <th>Suprimida</th>\n",
       "      <th>Denominació / Denominación</th>\n",
       "      <th>Línies / Líneas</th>\n",
       "      <th>Pròximes Arribades / Proximas Llegadas</th>\n",
       "      <th>geo_shape</th>\n",
       "      <th>geo_point_2d</th>\n",
       "    </tr>\n",
       "  </thead>\n",
       "  <tbody>\n",
       "    <tr>\n",
       "      <th>0</th>\n",
       "      <td>397.0</td>\n",
       "      <td>NaN</td>\n",
       "      <td>59</td>\n",
       "      <td>0</td>\n",
       "      <td>Felipe Valls - Lluís Cano (397)</td>\n",
       "      <td>62,N3</td>\n",
       "      <td>http://www.emtvalencia.es/QR.php?sec=est&amp;p=397</td>\n",
       "      <td>{\"coordinates\": [-0.4191237742755592, 39.50142...</td>\n",
       "      <td>39.501427898376356, -0.4191237742755592</td>\n",
       "    </tr>\n",
       "    <tr>\n",
       "      <th>1</th>\n",
       "      <td>948.0</td>\n",
       "      <td>NaN</td>\n",
       "      <td>62</td>\n",
       "      <td>0</td>\n",
       "      <td>Tavernes Blanques (948)</td>\n",
       "      <td>16,N2</td>\n",
       "      <td>http://www.emtvalencia.es/QR.php?sec=est&amp;p=948</td>\n",
       "      <td>{\"coordinates\": [-0.3654941003557221, 39.50687...</td>\n",
       "      <td>39.5068784141963, -0.3654941003557221</td>\n",
       "    </tr>\n",
       "    <tr>\n",
       "      <th>2</th>\n",
       "      <td>475.0</td>\n",
       "      <td>12180.0</td>\n",
       "      <td>3</td>\n",
       "      <td>0</td>\n",
       "      <td>Brasil - Artur Piera (475)</td>\n",
       "      <td>73</td>\n",
       "      <td>http://www.emtvalencia.es/QR.php?sec=est&amp;p=475</td>\n",
       "      <td>{\"coordinates\": [-0.3951866421883474, 39.47071...</td>\n",
       "      <td>39.47071907570776, -0.3951866421883474</td>\n",
       "    </tr>\n",
       "    <tr>\n",
       "      <th>3</th>\n",
       "      <td>484.0</td>\n",
       "      <td>18390.0</td>\n",
       "      <td>108</td>\n",
       "      <td>0</td>\n",
       "      <td>Cid - Passatge Vidal (484)</td>\n",
       "      <td>70,93,N4</td>\n",
       "      <td>http://www.emtvalencia.es/QR.php?sec=est&amp;p=484</td>\n",
       "      <td>{\"coordinates\": [-0.4032098687744392, 39.46960...</td>\n",
       "      <td>39.46960970393574, -0.4032098687744392</td>\n",
       "    </tr>\n",
       "    <tr>\n",
       "      <th>4</th>\n",
       "      <td>495.0</td>\n",
       "      <td>18390.0</td>\n",
       "      <td>85</td>\n",
       "      <td>0</td>\n",
       "      <td>Cid - Marconi (495)</td>\n",
       "      <td>93,98</td>\n",
       "      <td>http://www.emtvalencia.es/QR.php?sec=est&amp;p=495</td>\n",
       "      <td>{\"coordinates\": [-0.4132110636422129, 39.46923...</td>\n",
       "      <td>39.469233328598364, -0.4132110636422129</td>\n",
       "    </tr>\n",
       "    <tr>\n",
       "      <th>...</th>\n",
       "      <td>...</td>\n",
       "      <td>...</td>\n",
       "      <td>...</td>\n",
       "      <td>...</td>\n",
       "      <td>...</td>\n",
       "      <td>...</td>\n",
       "      <td>...</td>\n",
       "      <td>...</td>\n",
       "      <td>...</td>\n",
       "    </tr>\n",
       "    <tr>\n",
       "      <th>1121</th>\n",
       "      <td>2296.0</td>\n",
       "      <td>33480.0</td>\n",
       "      <td>SN</td>\n",
       "      <td>0</td>\n",
       "      <td>Amado Granell Mesado (imparell) - Antonio Ferr...</td>\n",
       "      <td>14</td>\n",
       "      <td>http://www.emtvalencia.es/QR.php?sec=est&amp;p=2296</td>\n",
       "      <td>{\"coordinates\": [-0.3593398778553022, 39.45139...</td>\n",
       "      <td>39.451398438149184, -0.3593398778553022</td>\n",
       "    </tr>\n",
       "    <tr>\n",
       "      <th>1122</th>\n",
       "      <td>2050.0</td>\n",
       "      <td>81672.0</td>\n",
       "      <td>S/N</td>\n",
       "      <td>0</td>\n",
       "      <td>Centre d'Investigació Príncep Felip (2050)</td>\n",
       "      <td>15,95</td>\n",
       "      <td>http://www.emtvalencia.es/QR.php?sec=est&amp;p=2050</td>\n",
       "      <td>{\"coordinates\": [-0.3462388297099983, 39.45189...</td>\n",
       "      <td>39.451893108982496, -0.3462388297099983</td>\n",
       "    </tr>\n",
       "    <tr>\n",
       "      <th>1123</th>\n",
       "      <td>2078.0</td>\n",
       "      <td>30210.0</td>\n",
       "      <td>23 DAVANT</td>\n",
       "      <td>0</td>\n",
       "      <td>Parc Central (2078)</td>\n",
       "      <td>8</td>\n",
       "      <td>http://www.emtvalencia.es/QR.php?sec=est&amp;p=2078</td>\n",
       "      <td>{\"coordinates\": [-0.37700013635997937, 39.4582...</td>\n",
       "      <td>39.458250528158615, -0.37700013635997937</td>\n",
       "    </tr>\n",
       "    <tr>\n",
       "      <th>1124</th>\n",
       "      <td>2303.0</td>\n",
       "      <td>31350.0</td>\n",
       "      <td>2 (DAVANT)</td>\n",
       "      <td>0</td>\n",
       "      <td>Andreu Alfaro - Louis Braille (2303)</td>\n",
       "      <td>12,28,N10</td>\n",
       "      <td>http://www.emtvalencia.es/QR.php?sec=est&amp;p=2303</td>\n",
       "      <td>{\"coordinates\": [-0.3949398474370588, 39.49751...</td>\n",
       "      <td>39.49751250712938, -0.3949398474370588</td>\n",
       "    </tr>\n",
       "    <tr>\n",
       "      <th>1125</th>\n",
       "      <td>2350.0</td>\n",
       "      <td>81175.0</td>\n",
       "      <td>S/N</td>\n",
       "      <td>0</td>\n",
       "      <td>José Roca Coll - Músic Gomis (2350)</td>\n",
       "      <td>73</td>\n",
       "      <td>http://www.emtvalencia.es/QR.php?sec=est&amp;p=2350</td>\n",
       "      <td>{\"coordinates\": [-0.39858953880204734, 39.4592...</td>\n",
       "      <td>39.45929152242264, -0.39858953880204734</td>\n",
       "    </tr>\n",
       "  </tbody>\n",
       "</table>\n",
       "<p>1126 rows × 9 columns</p>\n",
       "</div>"
      ],
      "text/plain": [
       "      Id. Parada  Cod. Via / Cod. Vía Num. Portal  Suprimida  \\\n",
       "0          397.0                  NaN          59          0   \n",
       "1          948.0                  NaN          62          0   \n",
       "2          475.0              12180.0           3          0   \n",
       "3          484.0              18390.0         108          0   \n",
       "4          495.0              18390.0          85          0   \n",
       "...          ...                  ...         ...        ...   \n",
       "1121      2296.0              33480.0          SN          0   \n",
       "1122      2050.0              81672.0         S/N          0   \n",
       "1123      2078.0              30210.0   23 DAVANT          0   \n",
       "1124      2303.0              31350.0  2 (DAVANT)          0   \n",
       "1125      2350.0              81175.0         S/N          0   \n",
       "\n",
       "                             Denominació / Denominación Línies / Líneas  \\\n",
       "0                       Felipe Valls - Lluís Cano (397)           62,N3   \n",
       "1                               Tavernes Blanques (948)           16,N2   \n",
       "2                            Brasil - Artur Piera (475)              73   \n",
       "3                            Cid - Passatge Vidal (484)        70,93,N4   \n",
       "4                                   Cid - Marconi (495)           93,98   \n",
       "...                                                 ...             ...   \n",
       "1121  Amado Granell Mesado (imparell) - Antonio Ferr...              14   \n",
       "1122         Centre d'Investigació Príncep Felip (2050)           15,95   \n",
       "1123                                Parc Central (2078)               8   \n",
       "1124               Andreu Alfaro - Louis Braille (2303)       12,28,N10   \n",
       "1125                José Roca Coll - Músic Gomis (2350)              73   \n",
       "\n",
       "               Pròximes Arribades / Proximas Llegadas  \\\n",
       "0      http://www.emtvalencia.es/QR.php?sec=est&p=397   \n",
       "1      http://www.emtvalencia.es/QR.php?sec=est&p=948   \n",
       "2      http://www.emtvalencia.es/QR.php?sec=est&p=475   \n",
       "3      http://www.emtvalencia.es/QR.php?sec=est&p=484   \n",
       "4      http://www.emtvalencia.es/QR.php?sec=est&p=495   \n",
       "...                                               ...   \n",
       "1121  http://www.emtvalencia.es/QR.php?sec=est&p=2296   \n",
       "1122  http://www.emtvalencia.es/QR.php?sec=est&p=2050   \n",
       "1123  http://www.emtvalencia.es/QR.php?sec=est&p=2078   \n",
       "1124  http://www.emtvalencia.es/QR.php?sec=est&p=2303   \n",
       "1125  http://www.emtvalencia.es/QR.php?sec=est&p=2350   \n",
       "\n",
       "                                              geo_shape  \\\n",
       "0     {\"coordinates\": [-0.4191237742755592, 39.50142...   \n",
       "1     {\"coordinates\": [-0.3654941003557221, 39.50687...   \n",
       "2     {\"coordinates\": [-0.3951866421883474, 39.47071...   \n",
       "3     {\"coordinates\": [-0.4032098687744392, 39.46960...   \n",
       "4     {\"coordinates\": [-0.4132110636422129, 39.46923...   \n",
       "...                                                 ...   \n",
       "1121  {\"coordinates\": [-0.3593398778553022, 39.45139...   \n",
       "1122  {\"coordinates\": [-0.3462388297099983, 39.45189...   \n",
       "1123  {\"coordinates\": [-0.37700013635997937, 39.4582...   \n",
       "1124  {\"coordinates\": [-0.3949398474370588, 39.49751...   \n",
       "1125  {\"coordinates\": [-0.39858953880204734, 39.4592...   \n",
       "\n",
       "                                  geo_point_2d  \n",
       "0      39.501427898376356, -0.4191237742755592  \n",
       "1        39.5068784141963, -0.3654941003557221  \n",
       "2       39.47071907570776, -0.3951866421883474  \n",
       "3       39.46960970393574, -0.4032098687744392  \n",
       "4      39.469233328598364, -0.4132110636422129  \n",
       "...                                        ...  \n",
       "1121   39.451398438149184, -0.3593398778553022  \n",
       "1122   39.451893108982496, -0.3462388297099983  \n",
       "1123  39.458250528158615, -0.37700013635997937  \n",
       "1124    39.49751250712938, -0.3949398474370588  \n",
       "1125   39.45929152242264, -0.39858953880204734  \n",
       "\n",
       "[1126 rows x 9 columns]"
      ]
     },
     "execution_count": 4,
     "metadata": {},
     "output_type": "execute_result"
    }
   ],
   "source": [
    "archivo = (\"emt.csv\")\n",
    "sep =(\";\")\n",
    "\n",
    "df_emt = pd.read_csv(archivo, sep=sep)\n",
    "df_emt"
   ]
  },
  {
   "cell_type": "markdown",
   "metadata": {},
   "source": [
    "En primer lugar analizaremos los centros educativos que ya era la prioridad de nuestro colega."
   ]
  },
  {
   "cell_type": "code",
   "execution_count": 8,
   "metadata": {},
   "outputs": [
    {
     "data": {
      "text/html": [
       "<div>\n",
       "<style scoped>\n",
       "    .dataframe tbody tr th:only-of-type {\n",
       "        vertical-align: middle;\n",
       "    }\n",
       "\n",
       "    .dataframe tbody tr th {\n",
       "        vertical-align: top;\n",
       "    }\n",
       "\n",
       "    .dataframe thead th {\n",
       "        text-align: right;\n",
       "    }\n",
       "</style>\n",
       "<table border=\"1\" class=\"dataframe\">\n",
       "  <thead>\n",
       "    <tr style=\"text-align: right;\">\n",
       "      <th></th>\n",
       "      <th>Geo Point</th>\n",
       "      <th>Geo Shape</th>\n",
       "      <th>codcen</th>\n",
       "      <th>dlibre</th>\n",
       "      <th>dgenerica_</th>\n",
       "      <th>despecific</th>\n",
       "      <th>regimen</th>\n",
       "      <th>direccion</th>\n",
       "      <th>codpos</th>\n",
       "      <th>municipio_</th>\n",
       "      <th>provincia_</th>\n",
       "      <th>telef</th>\n",
       "      <th>fax</th>\n",
       "      <th>mail</th>\n",
       "    </tr>\n",
       "  </thead>\n",
       "  <tbody>\n",
       "    <tr>\n",
       "      <th>0</th>\n",
       "      <td>39.50261499907377, -0.41316999999999976</td>\n",
       "      <td>{\"coordinates\": [-0.41317, 39.50261499907377],...</td>\n",
       "      <td>46002301</td>\n",
       "      <td>CENTRE PRIVAT NATIVIDAD DE NUESTRA SEÑORA</td>\n",
       "      <td>CENTRE PRIVAT D'EDUCACIÓ INFANTIL, PRIMÀRIA I ...</td>\n",
       "      <td>NATIVIDAD DE NUESTRA SEÑORA</td>\n",
       "      <td>CONCERTADO</td>\n",
       "      <td>CL. ESPARTERO, 2</td>\n",
       "      <td>46100</td>\n",
       "      <td>Burjassot</td>\n",
       "      <td>València</td>\n",
       "      <td>963635262</td>\n",
       "      <td>963634802</td>\n",
       "      <td>natividad@planalfa.es</td>\n",
       "    </tr>\n",
       "    <tr>\n",
       "      <th>1</th>\n",
       "      <td>39.5302359990736, -0.3807020000000016</td>\n",
       "      <td>{\"coordinates\": [-0.380702, 39.5302359990736],...</td>\n",
       "      <td>46009009</td>\n",
       "      <td>CEIP MANUEL GONZÁLEZ MARTÍ</td>\n",
       "      <td>COL·LEGI D'EDUCACIÓ INFANTIL I PRIMÀRIA</td>\n",
       "      <td>MANUEL GONZÁLEZ MARTÍ</td>\n",
       "      <td>PÚBLICO</td>\n",
       "      <td>CL. ALQUERIA GILET, S/N</td>\n",
       "      <td>46016</td>\n",
       "      <td>València</td>\n",
       "      <td>València</td>\n",
       "      <td>962566390</td>\n",
       "      <td>962566391</td>\n",
       "      <td>46009009@edu.gva.es</td>\n",
       "    </tr>\n",
       "    <tr>\n",
       "      <th>2</th>\n",
       "      <td>39.45169899907408, -0.37516600000000083</td>\n",
       "      <td>{\"coordinates\": [-0.375166, 39.45169899907408]...</td>\n",
       "      <td>46009368</td>\n",
       "      <td>CENTRE PRIVAT MARTÍ SOROLLA</td>\n",
       "      <td>CENTRE PRIVAT D'EDUCACIÓ INFANTIL I PRIMÀRIA</td>\n",
       "      <td>MARTÍ SOROLLA</td>\n",
       "      <td>CONCERTADO</td>\n",
       "      <td>CL. INGENIERO JOAQUÍN BENLLOCH, 45</td>\n",
       "      <td>46026</td>\n",
       "      <td>València</td>\n",
       "      <td>València</td>\n",
       "      <td>963730103</td>\n",
       "      <td>963730150</td>\n",
       "      <td>ftortosa@gruposorolla.es</td>\n",
       "    </tr>\n",
       "    <tr>\n",
       "      <th>3</th>\n",
       "      <td>39.47401799907396, -0.3823219999999999</td>\n",
       "      <td>{\"coordinates\": [-0.382322, 39.47401799907396]...</td>\n",
       "      <td>46009371</td>\n",
       "      <td>CENTRE PRIVAT ESCUELAS PÍAS</td>\n",
       "      <td>CENTRE PRIVAT D'EDUCACIÓ INFANTIL, PRIMÀRIA I ...</td>\n",
       "      <td>ESCUELAS PÍAS</td>\n",
       "      <td>CONCERTADO</td>\n",
       "      <td>CL. CARNICEROS, 6</td>\n",
       "      <td>46001</td>\n",
       "      <td>València</td>\n",
       "      <td>València</td>\n",
       "      <td>963915800</td>\n",
       "      <td>963915876</td>\n",
       "      <td>colegio.sanjoaquin@escolapiosbetania.es</td>\n",
       "    </tr>\n",
       "    <tr>\n",
       "      <th>4</th>\n",
       "      <td>39.47543999907394, -0.3713410000000003</td>\n",
       "      <td>{\"coordinates\": [-0.371341, 39.47543999907394]...</td>\n",
       "      <td>46009526</td>\n",
       "      <td>CENTRE PRIVAT ESCOLANÍA NTRA.SRA.DESAMPARADOS</td>\n",
       "      <td>CENTRE PRIVAT D'EDUCACIÓ PRIMÀRIA I SECUNDÀRIA</td>\n",
       "      <td>ESCOLANÍA NTRA.SRA.DESAMPARADOS</td>\n",
       "      <td>CONCERTADO</td>\n",
       "      <td>CL. GOBERNADOR VIEJO, 23</td>\n",
       "      <td>46003</td>\n",
       "      <td>València</td>\n",
       "      <td>València</td>\n",
       "      <td>963918434</td>\n",
       "      <td>0</td>\n",
       "      <td>valencia@escolania.org</td>\n",
       "    </tr>\n",
       "    <tr>\n",
       "      <th>...</th>\n",
       "      <td>...</td>\n",
       "      <td>...</td>\n",
       "      <td>...</td>\n",
       "      <td>...</td>\n",
       "      <td>...</td>\n",
       "      <td>...</td>\n",
       "      <td>...</td>\n",
       "      <td>...</td>\n",
       "      <td>...</td>\n",
       "      <td>...</td>\n",
       "      <td>...</td>\n",
       "      <td>...</td>\n",
       "      <td>...</td>\n",
       "      <td>...</td>\n",
       "    </tr>\n",
       "    <tr>\n",
       "      <th>529</th>\n",
       "      <td>39.48093999907391, -0.35487599999999997</td>\n",
       "      <td>{\"coordinates\": [-0.354876, 39.48093999907391]...</td>\n",
       "      <td>46036992</td>\n",
       "      <td>CENTRE ENSENYAMENTS ESPORTIUS C.F. DE JUDO Y D.A.</td>\n",
       "      <td>CENTRE AUTORITZAT D'ENSENYAMENTS ESPORTIUS</td>\n",
       "      <td>CENTRO DE FORMACIÓN DE JUDO Y DISCIPLINAS ASOC...</td>\n",
       "      <td>PRIVADO</td>\n",
       "      <td>CL. DANIEL BALACIART(POL.ESPORT.BENIMA</td>\n",
       "      <td>46020</td>\n",
       "      <td>València</td>\n",
       "      <td>València</td>\n",
       "      <td>963920630</td>\n",
       "      <td>0</td>\n",
       "      <td>adm@fvaljudo.es</td>\n",
       "    </tr>\n",
       "    <tr>\n",
       "      <th>530</th>\n",
       "      <td>39.45861799907405, -0.40538200000000024</td>\n",
       "      <td>{\"coordinates\": [-0.405382, 39.45861799907405]...</td>\n",
       "      <td>46037005</td>\n",
       "      <td>CENTRE PRIVAT FP MEDAC VALÈNCIA</td>\n",
       "      <td>CENTRE PRIVAT FORMACIÓ PROFESSIONAL ESPECÍFICA</td>\n",
       "      <td>MEDAC VALÈNCIA</td>\n",
       "      <td>PRIVADO</td>\n",
       "      <td>CL. ARGENTERS, 4</td>\n",
       "      <td>46014</td>\n",
       "      <td>València</td>\n",
       "      <td>València</td>\n",
       "      <td>963219999</td>\n",
       "      <td>0</td>\n",
       "      <td>valencia@medac.es</td>\n",
       "    </tr>\n",
       "    <tr>\n",
       "      <th>531</th>\n",
       "      <td>39.48667399907386, -0.3945380000000012</td>\n",
       "      <td>{\"coordinates\": [-0.394538, 39.48667399907386]...</td>\n",
       "      <td>46037121</td>\n",
       "      <td>CENTRE PRIVAT FP DE LA PROFESIÓN DE PANADERÍA ...</td>\n",
       "      <td>CENTRE PRIVAT FORMACIÓ PROFESSIONAL ESPECÍFICA</td>\n",
       "      <td>DE LA PROFESIÓN DE PANADERÍA Y PASTELERÍA</td>\n",
       "      <td>PRIVADO</td>\n",
       "      <td>AV. GENERAL AVILÉS, 32</td>\n",
       "      <td>46015</td>\n",
       "      <td>València</td>\n",
       "      <td>València</td>\n",
       "      <td>963918280</td>\n",
       "      <td>0</td>\n",
       "      <td>secretaria@fegreppa.com</td>\n",
       "    </tr>\n",
       "    <tr>\n",
       "      <th>532</th>\n",
       "      <td>39.43629299907419, -0.3964560000000006</td>\n",
       "      <td>{\"coordinates\": [-0.396456, 39.43629299907419]...</td>\n",
       "      <td>46037145</td>\n",
       "      <td>ESCOLA PRIVADA DE MÚSICA SEDAJAZZ</td>\n",
       "      <td>ESCOLA PRIVADA DE MÚSICA</td>\n",
       "      <td>SEDAJAZZ</td>\n",
       "      <td>PRIVADO</td>\n",
       "      <td>ED. ALQUERIA COCA, 5</td>\n",
       "      <td>46017</td>\n",
       "      <td>València</td>\n",
       "      <td>València</td>\n",
       "      <td>963765655</td>\n",
       "      <td>0</td>\n",
       "      <td>info@sedajazz.es</td>\n",
       "    </tr>\n",
       "    <tr>\n",
       "      <th>533</th>\n",
       "      <td>39.47612999907393, -0.3816880000000005</td>\n",
       "      <td>{\"coordinates\": [-0.381688, 39.47612999907393]...</td>\n",
       "      <td>46037236</td>\n",
       "      <td>CENTRE ESTRANGER LABA VALENCIA</td>\n",
       "      <td>CENTRE DOCENT PRIVAT ESTRANGER</td>\n",
       "      <td>LABA VALENCIA</td>\n",
       "      <td>PRIVADO</td>\n",
       "      <td>CL. QUART, 21</td>\n",
       "      <td>46001</td>\n",
       "      <td>València</td>\n",
       "      <td>València</td>\n",
       "      <td>963924919</td>\n",
       "      <td>0</td>\n",
       "      <td>contact@labavalencia.net</td>\n",
       "    </tr>\n",
       "  </tbody>\n",
       "</table>\n",
       "<p>534 rows × 14 columns</p>\n",
       "</div>"
      ],
      "text/plain": [
       "                                   Geo Point  \\\n",
       "0    39.50261499907377, -0.41316999999999976   \n",
       "1      39.5302359990736, -0.3807020000000016   \n",
       "2    39.45169899907408, -0.37516600000000083   \n",
       "3     39.47401799907396, -0.3823219999999999   \n",
       "4     39.47543999907394, -0.3713410000000003   \n",
       "..                                       ...   \n",
       "529  39.48093999907391, -0.35487599999999997   \n",
       "530  39.45861799907405, -0.40538200000000024   \n",
       "531   39.48667399907386, -0.3945380000000012   \n",
       "532   39.43629299907419, -0.3964560000000006   \n",
       "533   39.47612999907393, -0.3816880000000005   \n",
       "\n",
       "                                             Geo Shape    codcen  \\\n",
       "0    {\"coordinates\": [-0.41317, 39.50261499907377],...  46002301   \n",
       "1    {\"coordinates\": [-0.380702, 39.5302359990736],...  46009009   \n",
       "2    {\"coordinates\": [-0.375166, 39.45169899907408]...  46009368   \n",
       "3    {\"coordinates\": [-0.382322, 39.47401799907396]...  46009371   \n",
       "4    {\"coordinates\": [-0.371341, 39.47543999907394]...  46009526   \n",
       "..                                                 ...       ...   \n",
       "529  {\"coordinates\": [-0.354876, 39.48093999907391]...  46036992   \n",
       "530  {\"coordinates\": [-0.405382, 39.45861799907405]...  46037005   \n",
       "531  {\"coordinates\": [-0.394538, 39.48667399907386]...  46037121   \n",
       "532  {\"coordinates\": [-0.396456, 39.43629299907419]...  46037145   \n",
       "533  {\"coordinates\": [-0.381688, 39.47612999907393]...  46037236   \n",
       "\n",
       "                                                dlibre  \\\n",
       "0            CENTRE PRIVAT NATIVIDAD DE NUESTRA SEÑORA   \n",
       "1                           CEIP MANUEL GONZÁLEZ MARTÍ   \n",
       "2                          CENTRE PRIVAT MARTÍ SOROLLA   \n",
       "3                          CENTRE PRIVAT ESCUELAS PÍAS   \n",
       "4        CENTRE PRIVAT ESCOLANÍA NTRA.SRA.DESAMPARADOS   \n",
       "..                                                 ...   \n",
       "529  CENTRE ENSENYAMENTS ESPORTIUS C.F. DE JUDO Y D.A.   \n",
       "530                    CENTRE PRIVAT FP MEDAC VALÈNCIA   \n",
       "531  CENTRE PRIVAT FP DE LA PROFESIÓN DE PANADERÍA ...   \n",
       "532                  ESCOLA PRIVADA DE MÚSICA SEDAJAZZ   \n",
       "533                     CENTRE ESTRANGER LABA VALENCIA   \n",
       "\n",
       "                                            dgenerica_  \\\n",
       "0    CENTRE PRIVAT D'EDUCACIÓ INFANTIL, PRIMÀRIA I ...   \n",
       "1              COL·LEGI D'EDUCACIÓ INFANTIL I PRIMÀRIA   \n",
       "2         CENTRE PRIVAT D'EDUCACIÓ INFANTIL I PRIMÀRIA   \n",
       "3    CENTRE PRIVAT D'EDUCACIÓ INFANTIL, PRIMÀRIA I ...   \n",
       "4       CENTRE PRIVAT D'EDUCACIÓ PRIMÀRIA I SECUNDÀRIA   \n",
       "..                                                 ...   \n",
       "529         CENTRE AUTORITZAT D'ENSENYAMENTS ESPORTIUS   \n",
       "530     CENTRE PRIVAT FORMACIÓ PROFESSIONAL ESPECÍFICA   \n",
       "531     CENTRE PRIVAT FORMACIÓ PROFESSIONAL ESPECÍFICA   \n",
       "532                           ESCOLA PRIVADA DE MÚSICA   \n",
       "533                     CENTRE DOCENT PRIVAT ESTRANGER   \n",
       "\n",
       "                                            despecific     regimen  \\\n",
       "0                          NATIVIDAD DE NUESTRA SEÑORA  CONCERTADO   \n",
       "1                                MANUEL GONZÁLEZ MARTÍ     PÚBLICO   \n",
       "2                                        MARTÍ SOROLLA  CONCERTADO   \n",
       "3                                        ESCUELAS PÍAS  CONCERTADO   \n",
       "4                      ESCOLANÍA NTRA.SRA.DESAMPARADOS  CONCERTADO   \n",
       "..                                                 ...         ...   \n",
       "529  CENTRO DE FORMACIÓN DE JUDO Y DISCIPLINAS ASOC...     PRIVADO   \n",
       "530                                     MEDAC VALÈNCIA     PRIVADO   \n",
       "531          DE LA PROFESIÓN DE PANADERÍA Y PASTELERÍA     PRIVADO   \n",
       "532                                           SEDAJAZZ     PRIVADO   \n",
       "533                                      LABA VALENCIA     PRIVADO   \n",
       "\n",
       "                                  direccion  codpos municipio_ provincia_  \\\n",
       "0                          CL. ESPARTERO, 2   46100  Burjassot   València   \n",
       "1                   CL. ALQUERIA GILET, S/N   46016   València   València   \n",
       "2        CL. INGENIERO JOAQUÍN BENLLOCH, 45   46026   València   València   \n",
       "3                         CL. CARNICEROS, 6   46001   València   València   \n",
       "4                  CL. GOBERNADOR VIEJO, 23   46003   València   València   \n",
       "..                                      ...     ...        ...        ...   \n",
       "529  CL. DANIEL BALACIART(POL.ESPORT.BENIMA   46020   València   València   \n",
       "530                        CL. ARGENTERS, 4   46014   València   València   \n",
       "531                  AV. GENERAL AVILÉS, 32   46015   València   València   \n",
       "532                    ED. ALQUERIA COCA, 5   46017   València   València   \n",
       "533                           CL. QUART, 21   46001   València   València   \n",
       "\n",
       "         telef        fax                                     mail  \n",
       "0    963635262  963634802                    natividad@planalfa.es  \n",
       "1    962566390  962566391                      46009009@edu.gva.es  \n",
       "2    963730103  963730150                 ftortosa@gruposorolla.es  \n",
       "3    963915800  963915876  colegio.sanjoaquin@escolapiosbetania.es  \n",
       "4    963918434          0                   valencia@escolania.org  \n",
       "..         ...        ...                                      ...  \n",
       "529  963920630          0                          adm@fvaljudo.es  \n",
       "530  963219999          0                        valencia@medac.es  \n",
       "531  963918280          0                  secretaria@fegreppa.com  \n",
       "532  963765655          0                         info@sedajazz.es  \n",
       "533  963924919          0                 contact@labavalencia.net  \n",
       "\n",
       "[534 rows x 14 columns]"
      ]
     },
     "execution_count": 8,
     "metadata": {},
     "output_type": "execute_result"
    }
   ],
   "source": [
    "archivo = (\"centros-educativos-en-valencia.csv\")\n",
    "sep =(\";\")\n",
    "\n",
    "df_colegios= pd.read_csv(archivo, sep=sep)\n",
    "df_colegios"
   ]
  },
  {
   "cell_type": "code",
   "execution_count": 10,
   "metadata": {},
   "outputs": [
    {
     "data": {
      "text/html": [
       "<div>\n",
       "<style scoped>\n",
       "    .dataframe tbody tr th:only-of-type {\n",
       "        vertical-align: middle;\n",
       "    }\n",
       "\n",
       "    .dataframe tbody tr th {\n",
       "        vertical-align: top;\n",
       "    }\n",
       "\n",
       "    .dataframe thead th {\n",
       "        text-align: right;\n",
       "    }\n",
       "</style>\n",
       "<table border=\"1\" class=\"dataframe\">\n",
       "  <thead>\n",
       "    <tr style=\"text-align: right;\">\n",
       "      <th></th>\n",
       "      <th>Geo Point</th>\n",
       "      <th>Geo Shape</th>\n",
       "      <th>codcen</th>\n",
       "      <th>dlibre</th>\n",
       "      <th>dgenerica_</th>\n",
       "      <th>despecific</th>\n",
       "      <th>regimen</th>\n",
       "      <th>direccion</th>\n",
       "      <th>codpos</th>\n",
       "      <th>municipio_</th>\n",
       "      <th>provincia_</th>\n",
       "      <th>telef</th>\n",
       "      <th>fax</th>\n",
       "      <th>mail</th>\n",
       "    </tr>\n",
       "  </thead>\n",
       "  <tbody>\n",
       "    <tr>\n",
       "      <th>1</th>\n",
       "      <td>39.5302359990736, -0.3807020000000016</td>\n",
       "      <td>{\"coordinates\": [-0.380702, 39.5302359990736],...</td>\n",
       "      <td>46009009</td>\n",
       "      <td>CEIP MANUEL GONZÁLEZ MARTÍ</td>\n",
       "      <td>COL·LEGI D'EDUCACIÓ INFANTIL I PRIMÀRIA</td>\n",
       "      <td>MANUEL GONZÁLEZ MARTÍ</td>\n",
       "      <td>PÚBLICO</td>\n",
       "      <td>CL. ALQUERIA GILET, S/N</td>\n",
       "      <td>46016</td>\n",
       "      <td>València</td>\n",
       "      <td>València</td>\n",
       "      <td>962566390</td>\n",
       "      <td>962566391</td>\n",
       "      <td>46009009@edu.gva.es</td>\n",
       "    </tr>\n",
       "    <tr>\n",
       "      <th>22</th>\n",
       "      <td>39.48130099907391, -0.32878499999999977</td>\n",
       "      <td>{\"coordinates\": [-0.328785, 39.48130099907391]...</td>\n",
       "      <td>46011533</td>\n",
       "      <td>CEIP MALVA-ROSA</td>\n",
       "      <td>COL·LEGI D'EDUCACIÓ INFANTIL I PRIMÀRIA</td>\n",
       "      <td>MALVA-ROSA</td>\n",
       "      <td>PÚBLICO</td>\n",
       "      <td>CL. PICO DE TEIDE, 1-3</td>\n",
       "      <td>46011</td>\n",
       "      <td>València</td>\n",
       "      <td>València</td>\n",
       "      <td>962565200</td>\n",
       "      <td>962565201</td>\n",
       "      <td>46011533@edu.gva.es</td>\n",
       "    </tr>\n",
       "    <tr>\n",
       "      <th>23</th>\n",
       "      <td>39.45903399907406, -0.34142399999999995</td>\n",
       "      <td>{\"coordinates\": [-0.341424, 39.45903399907406]...</td>\n",
       "      <td>46011570</td>\n",
       "      <td>CEIP EL GRAU</td>\n",
       "      <td>COL·LEGI D'EDUCACIÓ INFANTIL I PRIMÀRIA</td>\n",
       "      <td>EL GRAU</td>\n",
       "      <td>PÚBLICO</td>\n",
       "      <td>AV. BALEARES, 64</td>\n",
       "      <td>46023</td>\n",
       "      <td>València</td>\n",
       "      <td>València</td>\n",
       "      <td>962566000</td>\n",
       "      <td>962566001</td>\n",
       "      <td>46011570@edu.gva.es</td>\n",
       "    </tr>\n",
       "    <tr>\n",
       "      <th>28</th>\n",
       "      <td>39.46112999907402, -0.36987699999999946</td>\n",
       "      <td>{\"coordinates\": [-0.369877, 39.46112999907402]...</td>\n",
       "      <td>46012197</td>\n",
       "      <td>CEIP JAIME BALMES</td>\n",
       "      <td>COL·LEGI D'EDUCACIÓ INFANTIL I PRIMÀRIA</td>\n",
       "      <td>JAIME BALMES</td>\n",
       "      <td>PÚBLICO</td>\n",
       "      <td>CL. MAESTRO AGUILAR, 15</td>\n",
       "      <td>46006</td>\n",
       "      <td>València</td>\n",
       "      <td>València</td>\n",
       "      <td>961205775</td>\n",
       "      <td>961205776</td>\n",
       "      <td>46012197@edu.gva.es</td>\n",
       "    </tr>\n",
       "    <tr>\n",
       "      <th>29</th>\n",
       "      <td>39.467280999074, -0.39990700000000096</td>\n",
       "      <td>{\"coordinates\": [-0.399907, 39.467280999074], ...</td>\n",
       "      <td>46012321</td>\n",
       "      <td>CEIP SECTOR AÉREO</td>\n",
       "      <td>COL·LEGI D'EDUCACIÓ INFANTIL I PRIMÀRIA</td>\n",
       "      <td>SECTOR AÉREO</td>\n",
       "      <td>PÚBLICO</td>\n",
       "      <td>CL. SANTA CRUZ DE TENERIFE, 1</td>\n",
       "      <td>46018</td>\n",
       "      <td>València</td>\n",
       "      <td>València</td>\n",
       "      <td>962566770</td>\n",
       "      <td>962566771</td>\n",
       "      <td>46012321@edu.gva.es</td>\n",
       "    </tr>\n",
       "    <tr>\n",
       "      <th>...</th>\n",
       "      <td>...</td>\n",
       "      <td>...</td>\n",
       "      <td>...</td>\n",
       "      <td>...</td>\n",
       "      <td>...</td>\n",
       "      <td>...</td>\n",
       "      <td>...</td>\n",
       "      <td>...</td>\n",
       "      <td>...</td>\n",
       "      <td>...</td>\n",
       "      <td>...</td>\n",
       "      <td>...</td>\n",
       "      <td>...</td>\n",
       "      <td>...</td>\n",
       "    </tr>\n",
       "    <tr>\n",
       "      <th>478</th>\n",
       "      <td>39.47526399907393, -0.349202000000001</td>\n",
       "      <td>{\"coordinates\": [-0.349202, 39.47526399907393]...</td>\n",
       "      <td>46028582</td>\n",
       "      <td>EI 1er CICLE MUNICIPAL PARDALETS</td>\n",
       "      <td>ESCOLA INFANTIL DE PRIMER CICLE</td>\n",
       "      <td>MUNICIPAL PARDALETS</td>\n",
       "      <td>PÚBLICO</td>\n",
       "      <td>CL. POETA ARTOLA, S/N</td>\n",
       "      <td>46021</td>\n",
       "      <td>València</td>\n",
       "      <td>València</td>\n",
       "      <td>960058642</td>\n",
       "      <td>0</td>\n",
       "      <td>pardalets.lcrgestio@gmail.com</td>\n",
       "    </tr>\n",
       "    <tr>\n",
       "      <th>480</th>\n",
       "      <td>39.46387699907402, -0.4018119999999993</td>\n",
       "      <td>{\"coordinates\": [-0.401812, 39.46387699907402]...</td>\n",
       "      <td>46029525</td>\n",
       "      <td>EI 1er CICLE MUNICIPAL SOLC</td>\n",
       "      <td>ESCOLA INFANTIL DE PRIMER CICLE</td>\n",
       "      <td>MUNICIPAL SOLC</td>\n",
       "      <td>PÚBLICO</td>\n",
       "      <td>CL. TRES FORQUES, 94</td>\n",
       "      <td>46018</td>\n",
       "      <td>València</td>\n",
       "      <td>València</td>\n",
       "      <td>963013205</td>\n",
       "      <td>0</td>\n",
       "      <td>eisolc@valencia.es</td>\n",
       "    </tr>\n",
       "    <tr>\n",
       "      <th>499</th>\n",
       "      <td>39.45339299907408, -0.3657030000000005</td>\n",
       "      <td>{\"coordinates\": [-0.365703, 39.45339299907408]...</td>\n",
       "      <td>46033279</td>\n",
       "      <td>EI 1er CICLE MUNICIPAL QUATRE CARRERES</td>\n",
       "      <td>ESCOLA INFANTIL DE PRIMER CICLE</td>\n",
       "      <td>MUNICIPAL QUATRE CARRERES</td>\n",
       "      <td>PÚBLICO</td>\n",
       "      <td>CL. BOMBERO RAMÓN DUART, 7</td>\n",
       "      <td>46013</td>\n",
       "      <td>València</td>\n",
       "      <td>València</td>\n",
       "      <td>963013221</td>\n",
       "      <td>0</td>\n",
       "      <td>eiquatrecarreres@valencia.es</td>\n",
       "    </tr>\n",
       "    <tr>\n",
       "      <th>502</th>\n",
       "      <td>39.467673999073995, -0.3999069999999993</td>\n",
       "      <td>{\"coordinates\": [-0.399907, 39.467673999073995...</td>\n",
       "      <td>46033334</td>\n",
       "      <td>EI 1er CICLE MUNICIPAL MINI-POLI</td>\n",
       "      <td>ESCOLA INFANTIL DE PRIMER CICLE</td>\n",
       "      <td>MUNICIPAL MINI-POLI</td>\n",
       "      <td>PÚBLICO</td>\n",
       "      <td>CL. SANTA CRUZ DE TENERIFE (CENTRAL P.</td>\n",
       "      <td>46018</td>\n",
       "      <td>València</td>\n",
       "      <td>València</td>\n",
       "      <td>960611169</td>\n",
       "      <td>0</td>\n",
       "      <td>eiminipoli@eulen.com</td>\n",
       "    </tr>\n",
       "    <tr>\n",
       "      <th>503</th>\n",
       "      <td>39.45254899907409, -0.3588799999999998</td>\n",
       "      <td>{\"coordinates\": [-0.35888, 39.45254899907409],...</td>\n",
       "      <td>46033437</td>\n",
       "      <td>EI 1er CICLE MUNICIPAL MESTRA EMPAR NAVARRO I ...</td>\n",
       "      <td>ESCOLA INFANTIL DE PRIMER CICLE</td>\n",
       "      <td>MUNICIPAL MESTRA EMPAR NAVARRO I GINER</td>\n",
       "      <td>PÚBLICO</td>\n",
       "      <td>CL. CINEASTA RICARDO MUÑOZ SUAY, S/N</td>\n",
       "      <td>46013</td>\n",
       "      <td>València</td>\n",
       "      <td>València</td>\n",
       "      <td>692830204</td>\n",
       "      <td>0</td>\n",
       "      <td>lamestraempar.lcrgestio@gmail.com</td>\n",
       "    </tr>\n",
       "  </tbody>\n",
       "</table>\n",
       "<p>160 rows × 14 columns</p>\n",
       "</div>"
      ],
      "text/plain": [
       "                                   Geo Point  \\\n",
       "1      39.5302359990736, -0.3807020000000016   \n",
       "22   39.48130099907391, -0.32878499999999977   \n",
       "23   39.45903399907406, -0.34142399999999995   \n",
       "28   39.46112999907402, -0.36987699999999946   \n",
       "29     39.467280999074, -0.39990700000000096   \n",
       "..                                       ...   \n",
       "478    39.47526399907393, -0.349202000000001   \n",
       "480   39.46387699907402, -0.4018119999999993   \n",
       "499   39.45339299907408, -0.3657030000000005   \n",
       "502  39.467673999073995, -0.3999069999999993   \n",
       "503   39.45254899907409, -0.3588799999999998   \n",
       "\n",
       "                                             Geo Shape    codcen  \\\n",
       "1    {\"coordinates\": [-0.380702, 39.5302359990736],...  46009009   \n",
       "22   {\"coordinates\": [-0.328785, 39.48130099907391]...  46011533   \n",
       "23   {\"coordinates\": [-0.341424, 39.45903399907406]...  46011570   \n",
       "28   {\"coordinates\": [-0.369877, 39.46112999907402]...  46012197   \n",
       "29   {\"coordinates\": [-0.399907, 39.467280999074], ...  46012321   \n",
       "..                                                 ...       ...   \n",
       "478  {\"coordinates\": [-0.349202, 39.47526399907393]...  46028582   \n",
       "480  {\"coordinates\": [-0.401812, 39.46387699907402]...  46029525   \n",
       "499  {\"coordinates\": [-0.365703, 39.45339299907408]...  46033279   \n",
       "502  {\"coordinates\": [-0.399907, 39.467673999073995...  46033334   \n",
       "503  {\"coordinates\": [-0.35888, 39.45254899907409],...  46033437   \n",
       "\n",
       "                                                dlibre  \\\n",
       "1                           CEIP MANUEL GONZÁLEZ MARTÍ   \n",
       "22                                     CEIP MALVA-ROSA   \n",
       "23                                        CEIP EL GRAU   \n",
       "28                                   CEIP JAIME BALMES   \n",
       "29                                   CEIP SECTOR AÉREO   \n",
       "..                                                 ...   \n",
       "478                   EI 1er CICLE MUNICIPAL PARDALETS   \n",
       "480                        EI 1er CICLE MUNICIPAL SOLC   \n",
       "499             EI 1er CICLE MUNICIPAL QUATRE CARRERES   \n",
       "502                   EI 1er CICLE MUNICIPAL MINI-POLI   \n",
       "503  EI 1er CICLE MUNICIPAL MESTRA EMPAR NAVARRO I ...   \n",
       "\n",
       "                                  dgenerica_  \\\n",
       "1    COL·LEGI D'EDUCACIÓ INFANTIL I PRIMÀRIA   \n",
       "22   COL·LEGI D'EDUCACIÓ INFANTIL I PRIMÀRIA   \n",
       "23   COL·LEGI D'EDUCACIÓ INFANTIL I PRIMÀRIA   \n",
       "28   COL·LEGI D'EDUCACIÓ INFANTIL I PRIMÀRIA   \n",
       "29   COL·LEGI D'EDUCACIÓ INFANTIL I PRIMÀRIA   \n",
       "..                                       ...   \n",
       "478          ESCOLA INFANTIL DE PRIMER CICLE   \n",
       "480          ESCOLA INFANTIL DE PRIMER CICLE   \n",
       "499          ESCOLA INFANTIL DE PRIMER CICLE   \n",
       "502          ESCOLA INFANTIL DE PRIMER CICLE   \n",
       "503          ESCOLA INFANTIL DE PRIMER CICLE   \n",
       "\n",
       "                                 despecific  regimen  \\\n",
       "1                     MANUEL GONZÁLEZ MARTÍ  PÚBLICO   \n",
       "22                               MALVA-ROSA  PÚBLICO   \n",
       "23                                  EL GRAU  PÚBLICO   \n",
       "28                             JAIME BALMES  PÚBLICO   \n",
       "29                             SECTOR AÉREO  PÚBLICO   \n",
       "..                                      ...      ...   \n",
       "478                     MUNICIPAL PARDALETS  PÚBLICO   \n",
       "480                          MUNICIPAL SOLC  PÚBLICO   \n",
       "499               MUNICIPAL QUATRE CARRERES  PÚBLICO   \n",
       "502                     MUNICIPAL MINI-POLI  PÚBLICO   \n",
       "503  MUNICIPAL MESTRA EMPAR NAVARRO I GINER  PÚBLICO   \n",
       "\n",
       "                                  direccion  codpos municipio_ provincia_  \\\n",
       "1                   CL. ALQUERIA GILET, S/N   46016   València   València   \n",
       "22                   CL. PICO DE TEIDE, 1-3   46011   València   València   \n",
       "23                         AV. BALEARES, 64   46023   València   València   \n",
       "28                  CL. MAESTRO AGUILAR, 15   46006   València   València   \n",
       "29            CL. SANTA CRUZ DE TENERIFE, 1   46018   València   València   \n",
       "..                                      ...     ...        ...        ...   \n",
       "478                   CL. POETA ARTOLA, S/N   46021   València   València   \n",
       "480                    CL. TRES FORQUES, 94   46018   València   València   \n",
       "499              CL. BOMBERO RAMÓN DUART, 7   46013   València   València   \n",
       "502  CL. SANTA CRUZ DE TENERIFE (CENTRAL P.   46018   València   València   \n",
       "503    CL. CINEASTA RICARDO MUÑOZ SUAY, S/N   46013   València   València   \n",
       "\n",
       "         telef        fax                               mail  \n",
       "1    962566390  962566391                46009009@edu.gva.es  \n",
       "22   962565200  962565201                46011533@edu.gva.es  \n",
       "23   962566000  962566001                46011570@edu.gva.es  \n",
       "28   961205775  961205776                46012197@edu.gva.es  \n",
       "29   962566770  962566771                46012321@edu.gva.es  \n",
       "..         ...        ...                                ...  \n",
       "478  960058642          0      pardalets.lcrgestio@gmail.com  \n",
       "480  963013205          0                 eisolc@valencia.es  \n",
       "499  963013221          0       eiquatrecarreres@valencia.es  \n",
       "502  960611169          0               eiminipoli@eulen.com  \n",
       "503  692830204          0  lamestraempar.lcrgestio@gmail.com  \n",
       "\n",
       "[160 rows x 14 columns]"
      ]
     },
     "execution_count": 10,
     "metadata": {},
     "output_type": "execute_result"
    }
   ],
   "source": [
    "df_colegios_valencia = df_colegios.loc[(df_colegios.loc[:,\"regimen\"] == 'PÚBLICO') & (df_colegios.loc[:,\"municipio_\"] == 'València')]\n",
    "df_colegios_valencia"
   ]
  },
  {
   "cell_type": "markdown",
   "metadata": {},
   "source": [
    "Selecciona solo aquellos colegios cuyo régimen es \"PÚBLICO\" y filtramos los colegios que están ubicados en el municipio de \"València\". Filtramos aquellos colegios cuyo nombre (almacenado en la columna dlibre) empieza con \"CEIP\" (lo que puede indicar que son centros de educación infantil y primaria, comúnmente en España)."
   ]
  },
  {
   "cell_type": "code",
   "execution_count": 15,
   "metadata": {},
   "outputs": [],
   "source": [
    "df_colegios = df_colegios.loc[(df_colegios.loc[:,\"regimen\"] == 'PÚBLICO') & (df_colegios.loc[:,\"municipio_\"] == 'València') & (df_colegios[\"dlibre\"].str.startswith(\"CEIP\"))]\n",
    "df_colegios_groupby = df_colegios.groupby('codpos').size().reset_index(name='num_colegios').sort_values(by = 'num_colegios',ascending = False)\n"
   ]
  },
  {
   "cell_type": "markdown",
   "metadata": {},
   "source": [
    "Los resultados están ordenados de tal manera que los códigos postales con más colegios están al principio. Finalmente, al ejecutar df_colegios_groupby, se muestra el DataFrame con el número de colegios por código postal en el municipio de Valencia, filtrados por el régimen \"PÚBLICO\" y que empiezan con \"CEIP\"."
   ]
  },
  {
   "cell_type": "code",
   "execution_count": 16,
   "metadata": {},
   "outputs": [
    {
     "data": {
      "text/html": [
       "<div>\n",
       "<style scoped>\n",
       "    .dataframe tbody tr th:only-of-type {\n",
       "        vertical-align: middle;\n",
       "    }\n",
       "\n",
       "    .dataframe tbody tr th {\n",
       "        vertical-align: top;\n",
       "    }\n",
       "\n",
       "    .dataframe thead th {\n",
       "        text-align: right;\n",
       "    }\n",
       "</style>\n",
       "<table border=\"1\" class=\"dataframe\">\n",
       "  <thead>\n",
       "    <tr style=\"text-align: right;\">\n",
       "      <th></th>\n",
       "      <th>codpos</th>\n",
       "      <th>num_colegios</th>\n",
       "    </tr>\n",
       "  </thead>\n",
       "  <tbody>\n",
       "    <tr>\n",
       "      <th>18</th>\n",
       "      <td>46022</td>\n",
       "      <td>9</td>\n",
       "    </tr>\n",
       "    <tr>\n",
       "      <th>13</th>\n",
       "      <td>46017</td>\n",
       "      <td>7</td>\n",
       "    </tr>\n",
       "    <tr>\n",
       "      <th>10</th>\n",
       "      <td>46014</td>\n",
       "      <td>6</td>\n",
       "    </tr>\n",
       "    <tr>\n",
       "      <th>14</th>\n",
       "      <td>46018</td>\n",
       "      <td>6</td>\n",
       "    </tr>\n",
       "    <tr>\n",
       "      <th>15</th>\n",
       "      <td>46019</td>\n",
       "      <td>5</td>\n",
       "    </tr>\n",
       "    <tr>\n",
       "      <th>7</th>\n",
       "      <td>46011</td>\n",
       "      <td>5</td>\n",
       "    </tr>\n",
       "    <tr>\n",
       "      <th>11</th>\n",
       "      <td>46015</td>\n",
       "      <td>4</td>\n",
       "    </tr>\n",
       "    <tr>\n",
       "      <th>2</th>\n",
       "      <td>46006</td>\n",
       "      <td>4</td>\n",
       "    </tr>\n",
       "    <tr>\n",
       "      <th>17</th>\n",
       "      <td>46021</td>\n",
       "      <td>4</td>\n",
       "    </tr>\n",
       "    <tr>\n",
       "      <th>20</th>\n",
       "      <td>46024</td>\n",
       "      <td>3</td>\n",
       "    </tr>\n",
       "    <tr>\n",
       "      <th>19</th>\n",
       "      <td>46023</td>\n",
       "      <td>3</td>\n",
       "    </tr>\n",
       "    <tr>\n",
       "      <th>5</th>\n",
       "      <td>46009</td>\n",
       "      <td>3</td>\n",
       "    </tr>\n",
       "    <tr>\n",
       "      <th>9</th>\n",
       "      <td>46013</td>\n",
       "      <td>3</td>\n",
       "    </tr>\n",
       "    <tr>\n",
       "      <th>22</th>\n",
       "      <td>46026</td>\n",
       "      <td>3</td>\n",
       "    </tr>\n",
       "    <tr>\n",
       "      <th>16</th>\n",
       "      <td>46020</td>\n",
       "      <td>2</td>\n",
       "    </tr>\n",
       "    <tr>\n",
       "      <th>21</th>\n",
       "      <td>46025</td>\n",
       "      <td>2</td>\n",
       "    </tr>\n",
       "    <tr>\n",
       "      <th>23</th>\n",
       "      <td>46035</td>\n",
       "      <td>2</td>\n",
       "    </tr>\n",
       "    <tr>\n",
       "      <th>8</th>\n",
       "      <td>46012</td>\n",
       "      <td>2</td>\n",
       "    </tr>\n",
       "    <tr>\n",
       "      <th>6</th>\n",
       "      <td>46010</td>\n",
       "      <td>2</td>\n",
       "    </tr>\n",
       "    <tr>\n",
       "      <th>4</th>\n",
       "      <td>46008</td>\n",
       "      <td>2</td>\n",
       "    </tr>\n",
       "    <tr>\n",
       "      <th>3</th>\n",
       "      <td>46007</td>\n",
       "      <td>2</td>\n",
       "    </tr>\n",
       "    <tr>\n",
       "      <th>0</th>\n",
       "      <td>46003</td>\n",
       "      <td>1</td>\n",
       "    </tr>\n",
       "    <tr>\n",
       "      <th>12</th>\n",
       "      <td>46016</td>\n",
       "      <td>1</td>\n",
       "    </tr>\n",
       "    <tr>\n",
       "      <th>1</th>\n",
       "      <td>46004</td>\n",
       "      <td>1</td>\n",
       "    </tr>\n",
       "    <tr>\n",
       "      <th>24</th>\n",
       "      <td>46112</td>\n",
       "      <td>1</td>\n",
       "    </tr>\n",
       "  </tbody>\n",
       "</table>\n",
       "</div>"
      ],
      "text/plain": [
       "    codpos  num_colegios\n",
       "18   46022             9\n",
       "13   46017             7\n",
       "10   46014             6\n",
       "14   46018             6\n",
       "15   46019             5\n",
       "7    46011             5\n",
       "11   46015             4\n",
       "2    46006             4\n",
       "17   46021             4\n",
       "20   46024             3\n",
       "19   46023             3\n",
       "5    46009             3\n",
       "9    46013             3\n",
       "22   46026             3\n",
       "16   46020             2\n",
       "21   46025             2\n",
       "23   46035             2\n",
       "8    46012             2\n",
       "6    46010             2\n",
       "4    46008             2\n",
       "3    46007             2\n",
       "0    46003             1\n",
       "12   46016             1\n",
       "1    46004             1\n",
       "24   46112             1"
      ]
     },
     "execution_count": 16,
     "metadata": {},
     "output_type": "execute_result"
    }
   ],
   "source": [
    "df_colegios_groupby"
   ]
  },
  {
   "cell_type": "markdown",
   "metadata": {},
   "source": [
    "Escogemos las zonas donde hay más colegios y las buscamos mediante su código postal: 46022, 46017 y 46018"
   ]
  },
  {
   "cell_type": "markdown",
   "metadata": {},
   "source": [
    "Esta zona es la 46022 y pertenece a los barrios de Beterós y La Carrasca con 9 centros educativos públicos"
   ]
  },
  {
   "cell_type": "markdown",
   "metadata": {},
   "source": [
    "![zona_46022](46022.jpeg)"
   ]
  },
  {
   "cell_type": "markdown",
   "metadata": {},
   "source": [
    "Esta zona es la 46017 y pertenece a los barrios de San Marcelino y La Torre, con 7 centros educativos públicos"
   ]
  },
  {
   "cell_type": "markdown",
   "metadata": {},
   "source": [
    "![zona_46017](46017.jpeg)"
   ]
  },
  {
   "cell_type": "markdown",
   "metadata": {},
   "source": [
    "Esta zona es la 46018 y pertenece a los barrios de Tres Forques y La FuenSanta con 6 centros educativos públicos"
   ]
  },
  {
   "cell_type": "markdown",
   "metadata": {},
   "source": [
    "![zona_46018](46018.png)"
   ]
  },
  {
   "cell_type": "markdown",
   "metadata": {},
   "source": [
    "Una vez hemos obtenido las 3 zonas con mayor cantidad de colegios públicos, nos pasamos a analizar qué zonas tienen una mayor cantidad de parques infantiles para que el pequeño se entretenga "
   ]
  },
  {
   "cell_type": "code",
   "execution_count": 17,
   "metadata": {},
   "outputs": [
    {
     "data": {
      "text/html": [
       "<div>\n",
       "<style scoped>\n",
       "    .dataframe tbody tr th:only-of-type {\n",
       "        vertical-align: middle;\n",
       "    }\n",
       "\n",
       "    .dataframe tbody tr th {\n",
       "        vertical-align: top;\n",
       "    }\n",
       "\n",
       "    .dataframe thead th {\n",
       "        text-align: right;\n",
       "    }\n",
       "</style>\n",
       "<table border=\"1\" class=\"dataframe\">\n",
       "  <thead>\n",
       "    <tr style=\"text-align: right;\">\n",
       "      <th></th>\n",
       "      <th>objectid</th>\n",
       "      <th>Codigo</th>\n",
       "      <th>Jardin</th>\n",
       "      <th>Barrio</th>\n",
       "      <th>DM</th>\n",
       "      <th>Zona</th>\n",
       "      <th>Mantenimie</th>\n",
       "      <th>Tipo</th>\n",
       "      <th>CREATED_USER</th>\n",
       "      <th>CREATED_DATE</th>\n",
       "      <th>LAST_EDITED_USER</th>\n",
       "      <th>LAST_EDITED_DATE</th>\n",
       "      <th>geo_shape</th>\n",
       "      <th>geo_point_2d</th>\n",
       "    </tr>\n",
       "  </thead>\n",
       "  <tbody>\n",
       "    <tr>\n",
       "      <th>0</th>\n",
       "      <td>92</td>\n",
       "      <td>99101122</td>\n",
       "      <td>Iglesia de Vera Pl</td>\n",
       "      <td>La Malva-Rosa</td>\n",
       "      <td>11.0</td>\n",
       "      <td>NORTE</td>\n",
       "      <td>SJ JARDINES NORTE</td>\n",
       "      <td>Juegos Infantiles</td>\n",
       "      <td>NaN</td>\n",
       "      <td>NaN</td>\n",
       "      <td>NaN</td>\n",
       "      <td>NaN</td>\n",
       "      <td>{\"coordinates\": [-0.32970728183685255, 39.4842...</td>\n",
       "      <td>39.48420206376716, -0.32970728183685255</td>\n",
       "    </tr>\n",
       "    <tr>\n",
       "      <th>1</th>\n",
       "      <td>93</td>\n",
       "      <td>99101123</td>\n",
       "      <td>Carola Reig Salva Pl</td>\n",
       "      <td>Betero</td>\n",
       "      <td>11.0</td>\n",
       "      <td>NORTE</td>\n",
       "      <td>SJ JARDINES NORTE</td>\n",
       "      <td>Juegos Infantiles</td>\n",
       "      <td>NaN</td>\n",
       "      <td>NaN</td>\n",
       "      <td>NaN</td>\n",
       "      <td>NaN</td>\n",
       "      <td>{\"coordinates\": [-0.33857397813375084, 39.4704...</td>\n",
       "      <td>39.47041677471436, -0.33857397813375084</td>\n",
       "    </tr>\n",
       "    <tr>\n",
       "      <th>2</th>\n",
       "      <td>95</td>\n",
       "      <td>99101128</td>\n",
       "      <td>Serreria C/ - Justo Vilar C/</td>\n",
       "      <td>Cabanyal-Canyamelar</td>\n",
       "      <td>11.0</td>\n",
       "      <td>NORTE</td>\n",
       "      <td>SJ JARDINES NORTE</td>\n",
       "      <td>Juegos Infantiles</td>\n",
       "      <td>NaN</td>\n",
       "      <td>NaN</td>\n",
       "      <td>NaN</td>\n",
       "      <td>NaN</td>\n",
       "      <td>{\"coordinates\": [-0.33447314272886003, 39.4670...</td>\n",
       "      <td>39.46706223918951, -0.33447314272886003</td>\n",
       "    </tr>\n",
       "    <tr>\n",
       "      <th>3</th>\n",
       "      <td>96</td>\n",
       "      <td>99101130</td>\n",
       "      <td>Remonta C/</td>\n",
       "      <td>Cabanyal-Canyamelar</td>\n",
       "      <td>11.0</td>\n",
       "      <td>NORTE</td>\n",
       "      <td>SJ JARDINES NORTE</td>\n",
       "      <td>Juegos Infantiles</td>\n",
       "      <td>NaN</td>\n",
       "      <td>NaN</td>\n",
       "      <td>NaN</td>\n",
       "      <td>NaN</td>\n",
       "      <td>{\"coordinates\": [-0.33072077575470954, 39.4746...</td>\n",
       "      <td>39.47464671747163, -0.33072077575470954</td>\n",
       "    </tr>\n",
       "    <tr>\n",
       "      <th>4</th>\n",
       "      <td>100</td>\n",
       "      <td>99101138</td>\n",
       "      <td>JJ Sister C/</td>\n",
       "      <td>El Grau</td>\n",
       "      <td>11.0</td>\n",
       "      <td>NORTE</td>\n",
       "      <td>SJ JARDINES NORTE</td>\n",
       "      <td>Juegos Infantiles</td>\n",
       "      <td>NaN</td>\n",
       "      <td>NaN</td>\n",
       "      <td>NaN</td>\n",
       "      <td>NaN</td>\n",
       "      <td>{\"coordinates\": [-0.3338307525882248, 39.45926...</td>\n",
       "      <td>39.45926791454811, -0.3338307525882248</td>\n",
       "    </tr>\n",
       "    <tr>\n",
       "      <th>...</th>\n",
       "      <td>...</td>\n",
       "      <td>...</td>\n",
       "      <td>...</td>\n",
       "      <td>...</td>\n",
       "      <td>...</td>\n",
       "      <td>...</td>\n",
       "      <td>...</td>\n",
       "      <td>...</td>\n",
       "      <td>...</td>\n",
       "      <td>...</td>\n",
       "      <td>...</td>\n",
       "      <td>...</td>\n",
       "      <td>...</td>\n",
       "      <td>...</td>\n",
       "    </tr>\n",
       "    <tr>\n",
       "      <th>488</th>\n",
       "      <td>485</td>\n",
       "      <td>99122006</td>\n",
       "      <td>Jardin del Turia Tramo 6</td>\n",
       "      <td>Cauce del Turia</td>\n",
       "      <td>20.0</td>\n",
       "      <td>TURIA</td>\n",
       "      <td>OAMJ</td>\n",
       "      <td>Juegos Infantiles</td>\n",
       "      <td>NaN</td>\n",
       "      <td>NaN</td>\n",
       "      <td>NaN</td>\n",
       "      <td>NaN</td>\n",
       "      <td>{\"coordinates\": [-0.3794848289408849, 39.48215...</td>\n",
       "      <td>39.482153265204744, -0.3794848289408849</td>\n",
       "    </tr>\n",
       "    <tr>\n",
       "      <th>489</th>\n",
       "      <td>489</td>\n",
       "      <td>99122012</td>\n",
       "      <td>Jardin del Turia Tramo 12</td>\n",
       "      <td>Cauce del Turia</td>\n",
       "      <td>20.0</td>\n",
       "      <td>TURIA</td>\n",
       "      <td>OAMJ</td>\n",
       "      <td>Juegos Infantiles</td>\n",
       "      <td>NaN</td>\n",
       "      <td>NaN</td>\n",
       "      <td>NaN</td>\n",
       "      <td>NaN</td>\n",
       "      <td>{\"coordinates\": [-0.35964027618013744, 39.4625...</td>\n",
       "      <td>39.46253577088889, -0.35964027618013744</td>\n",
       "    </tr>\n",
       "    <tr>\n",
       "      <th>490</th>\n",
       "      <td>490</td>\n",
       "      <td>99122012</td>\n",
       "      <td>Jardin del Turia Tramo 12</td>\n",
       "      <td>Cauce del Turia</td>\n",
       "      <td>20.0</td>\n",
       "      <td>TURIA</td>\n",
       "      <td>OAMJ</td>\n",
       "      <td>Juegos Infantiles</td>\n",
       "      <td>NaN</td>\n",
       "      <td>NaN</td>\n",
       "      <td>NaN</td>\n",
       "      <td>NaN</td>\n",
       "      <td>{\"coordinates\": [-0.3588234662409007, 39.46066...</td>\n",
       "      <td>39.46066610288398, -0.3588234662409007</td>\n",
       "    </tr>\n",
       "    <tr>\n",
       "      <th>491</th>\n",
       "      <td>94</td>\n",
       "      <td>99101127</td>\n",
       "      <td>Marti Grajales C/</td>\n",
       "      <td>Cabanyal-Canyamelar</td>\n",
       "      <td>11.0</td>\n",
       "      <td>NORTE</td>\n",
       "      <td>SJ JARDINES NORTE</td>\n",
       "      <td>Juegos Infantiles</td>\n",
       "      <td>NaN</td>\n",
       "      <td>NaN</td>\n",
       "      <td>NaN</td>\n",
       "      <td>NaN</td>\n",
       "      <td>{\"coordinates\": [-0.33341094653734205, 39.4684...</td>\n",
       "      <td>39.46845661398144, -0.33341094653734205</td>\n",
       "    </tr>\n",
       "    <tr>\n",
       "      <th>492</th>\n",
       "      <td>102</td>\n",
       "      <td>99101141</td>\n",
       "      <td>Jesus de Medinaceli Pl</td>\n",
       "      <td>El Grau</td>\n",
       "      <td>11.0</td>\n",
       "      <td>NORTE</td>\n",
       "      <td>SJ JARDINES NORTE</td>\n",
       "      <td>Juegos Infantiles</td>\n",
       "      <td>NaN</td>\n",
       "      <td>NaN</td>\n",
       "      <td>NaN</td>\n",
       "      <td>NaN</td>\n",
       "      <td>{\"coordinates\": [-0.33778834774135397, 39.4592...</td>\n",
       "      <td>39.45928171916552, -0.33778834774135397</td>\n",
       "    </tr>\n",
       "  </tbody>\n",
       "</table>\n",
       "<p>493 rows × 14 columns</p>\n",
       "</div>"
      ],
      "text/plain": [
       "     objectid    Codigo                        Jardin               Barrio  \\\n",
       "0          92  99101122            Iglesia de Vera Pl        La Malva-Rosa   \n",
       "1          93  99101123          Carola Reig Salva Pl               Betero   \n",
       "2          95  99101128  Serreria C/ - Justo Vilar C/  Cabanyal-Canyamelar   \n",
       "3          96  99101130                    Remonta C/  Cabanyal-Canyamelar   \n",
       "4         100  99101138                  JJ Sister C/              El Grau   \n",
       "..        ...       ...                           ...                  ...   \n",
       "488       485  99122006      Jardin del Turia Tramo 6      Cauce del Turia   \n",
       "489       489  99122012     Jardin del Turia Tramo 12      Cauce del Turia   \n",
       "490       490  99122012     Jardin del Turia Tramo 12      Cauce del Turia   \n",
       "491        94  99101127             Marti Grajales C/  Cabanyal-Canyamelar   \n",
       "492       102  99101141        Jesus de Medinaceli Pl              El Grau   \n",
       "\n",
       "       DM   Zona         Mantenimie               Tipo  CREATED_USER  \\\n",
       "0    11.0  NORTE  SJ JARDINES NORTE  Juegos Infantiles           NaN   \n",
       "1    11.0  NORTE  SJ JARDINES NORTE  Juegos Infantiles           NaN   \n",
       "2    11.0  NORTE  SJ JARDINES NORTE  Juegos Infantiles           NaN   \n",
       "3    11.0  NORTE  SJ JARDINES NORTE  Juegos Infantiles           NaN   \n",
       "4    11.0  NORTE  SJ JARDINES NORTE  Juegos Infantiles           NaN   \n",
       "..    ...    ...                ...                ...           ...   \n",
       "488  20.0  TURIA               OAMJ  Juegos Infantiles           NaN   \n",
       "489  20.0  TURIA               OAMJ  Juegos Infantiles           NaN   \n",
       "490  20.0  TURIA               OAMJ  Juegos Infantiles           NaN   \n",
       "491  11.0  NORTE  SJ JARDINES NORTE  Juegos Infantiles           NaN   \n",
       "492  11.0  NORTE  SJ JARDINES NORTE  Juegos Infantiles           NaN   \n",
       "\n",
       "     CREATED_DATE  LAST_EDITED_USER  LAST_EDITED_DATE  \\\n",
       "0             NaN               NaN               NaN   \n",
       "1             NaN               NaN               NaN   \n",
       "2             NaN               NaN               NaN   \n",
       "3             NaN               NaN               NaN   \n",
       "4             NaN               NaN               NaN   \n",
       "..            ...               ...               ...   \n",
       "488           NaN               NaN               NaN   \n",
       "489           NaN               NaN               NaN   \n",
       "490           NaN               NaN               NaN   \n",
       "491           NaN               NaN               NaN   \n",
       "492           NaN               NaN               NaN   \n",
       "\n",
       "                                             geo_shape  \\\n",
       "0    {\"coordinates\": [-0.32970728183685255, 39.4842...   \n",
       "1    {\"coordinates\": [-0.33857397813375084, 39.4704...   \n",
       "2    {\"coordinates\": [-0.33447314272886003, 39.4670...   \n",
       "3    {\"coordinates\": [-0.33072077575470954, 39.4746...   \n",
       "4    {\"coordinates\": [-0.3338307525882248, 39.45926...   \n",
       "..                                                 ...   \n",
       "488  {\"coordinates\": [-0.3794848289408849, 39.48215...   \n",
       "489  {\"coordinates\": [-0.35964027618013744, 39.4625...   \n",
       "490  {\"coordinates\": [-0.3588234662409007, 39.46066...   \n",
       "491  {\"coordinates\": [-0.33341094653734205, 39.4684...   \n",
       "492  {\"coordinates\": [-0.33778834774135397, 39.4592...   \n",
       "\n",
       "                                geo_point_2d  \n",
       "0    39.48420206376716, -0.32970728183685255  \n",
       "1    39.47041677471436, -0.33857397813375084  \n",
       "2    39.46706223918951, -0.33447314272886003  \n",
       "3    39.47464671747163, -0.33072077575470954  \n",
       "4     39.45926791454811, -0.3338307525882248  \n",
       "..                                       ...  \n",
       "488  39.482153265204744, -0.3794848289408849  \n",
       "489  39.46253577088889, -0.35964027618013744  \n",
       "490   39.46066610288398, -0.3588234662409007  \n",
       "491  39.46845661398144, -0.33341094653734205  \n",
       "492  39.45928171916552, -0.33778834774135397  \n",
       "\n",
       "[493 rows x 14 columns]"
      ]
     },
     "execution_count": 17,
     "metadata": {},
     "output_type": "execute_result"
    }
   ],
   "source": [
    "archivo=(\"zones-jocs-infantils-zona-juegos-infantiles.csv\")\n",
    "sep = (\";\")\n",
    "\n",
    "df_parques= pd.read_csv(archivo, sep=sep)\n",
    "df_parques"
   ]
  },
  {
   "cell_type": "code",
   "execution_count": 35,
   "metadata": {},
   "outputs": [],
   "source": [
    "df_zona1 = df_parques.loc[(df_parques.loc[:, \"Barrio\"] == 'Betero') |  (df_parques.loc[:, \"Barrio\"] == 'La Carrasca')]\n",
    "df_zona2 = df_parques.loc[(df_parques.loc[:, \"Barrio\"] == 'La Torre') |  (df_parques.loc[:, \"Barrio\"] == 'Sant Marceli')]\n",
    "df_zona3 = df_parques.loc[(df_parques.loc[:, \"Barrio\"] == 'Tres Forques') | (df_parques.loc[:, \"Barrio\"] == 'La Fuensanta')]"
   ]
  },
  {
   "cell_type": "code",
   "execution_count": 37,
   "metadata": {},
   "outputs": [],
   "source": [
    "df_zona1.loc[:,\"Barrio\"] = 'Betero y La Carrasca'\n",
    "df_zona2.loc[:, \"Barrio\"] = 'La Torre y Sant Marceli'\n",
    "df_zona3.loc[:,\"Barrio\"] = 'Tres Forques y La Fuensanta'"
   ]
  },
  {
   "cell_type": "markdown",
   "metadata": {},
   "source": [
    "Para visualizar los datos, utilizaremos la librería Plotly"
   ]
  },
  {
   "cell_type": "code",
   "execution_count": 40,
   "metadata": {},
   "outputs": [
    {
     "data": {
      "application/vnd.plotly.v1+json": {
       "config": {
        "plotlyServerURL": "https://plot.ly"
       },
       "data": [
        {
         "name": "Zona 1: Betero y La Carrasca",
         "opacity": 0.75,
         "type": "histogram",
         "x": [
          "Betero y La Carrasca",
          "Betero y La Carrasca",
          "Betero y La Carrasca",
          "Betero y La Carrasca",
          "Betero y La Carrasca",
          "Betero y La Carrasca",
          "Betero y La Carrasca",
          "Betero y La Carrasca",
          "Betero y La Carrasca",
          "Betero y La Carrasca",
          "Betero y La Carrasca",
          "Betero y La Carrasca",
          "Betero y La Carrasca",
          "Betero y La Carrasca",
          "Betero y La Carrasca",
          "Betero y La Carrasca"
         ]
        },
        {
         "name": "Zona 2: La Torre y Sant Marcel",
         "opacity": 0.75,
         "type": "histogram",
         "x": [
          "La Torre y Sant Marceli",
          "La Torre y Sant Marceli",
          "La Torre y Sant Marceli",
          "La Torre y Sant Marceli",
          "La Torre y Sant Marceli",
          "La Torre y Sant Marceli",
          "La Torre y Sant Marceli",
          "La Torre y Sant Marceli",
          "La Torre y Sant Marceli",
          "La Torre y Sant Marceli",
          "La Torre y Sant Marceli"
         ]
        },
        {
         "name": "Zona 3: Tres Forques y La Fuensanta",
         "opacity": 0.75,
         "type": "histogram",
         "x": [
          "Tres Forques y La Fuensanta",
          "Tres Forques y La Fuensanta",
          "Tres Forques y La Fuensanta",
          "Tres Forques y La Fuensanta",
          "Tres Forques y La Fuensanta",
          "Tres Forques y La Fuensanta",
          "Tres Forques y La Fuensanta"
         ]
        }
       ],
       "layout": {
        "bargap": 0.1,
        "barmode": "overlay",
        "template": {
         "data": {
          "bar": [
           {
            "error_x": {
             "color": "#f2f5fa"
            },
            "error_y": {
             "color": "#f2f5fa"
            },
            "marker": {
             "line": {
              "color": "rgb(17,17,17)",
              "width": 0.5
             },
             "pattern": {
              "fillmode": "overlay",
              "size": 10,
              "solidity": 0.2
             }
            },
            "type": "bar"
           }
          ],
          "barpolar": [
           {
            "marker": {
             "line": {
              "color": "rgb(17,17,17)",
              "width": 0.5
             },
             "pattern": {
              "fillmode": "overlay",
              "size": 10,
              "solidity": 0.2
             }
            },
            "type": "barpolar"
           }
          ],
          "carpet": [
           {
            "aaxis": {
             "endlinecolor": "#A2B1C6",
             "gridcolor": "#506784",
             "linecolor": "#506784",
             "minorgridcolor": "#506784",
             "startlinecolor": "#A2B1C6"
            },
            "baxis": {
             "endlinecolor": "#A2B1C6",
             "gridcolor": "#506784",
             "linecolor": "#506784",
             "minorgridcolor": "#506784",
             "startlinecolor": "#A2B1C6"
            },
            "type": "carpet"
           }
          ],
          "choropleth": [
           {
            "colorbar": {
             "outlinewidth": 0,
             "ticks": ""
            },
            "type": "choropleth"
           }
          ],
          "contour": [
           {
            "colorbar": {
             "outlinewidth": 0,
             "ticks": ""
            },
            "colorscale": [
             [
              0,
              "#0d0887"
             ],
             [
              0.1111111111111111,
              "#46039f"
             ],
             [
              0.2222222222222222,
              "#7201a8"
             ],
             [
              0.3333333333333333,
              "#9c179e"
             ],
             [
              0.4444444444444444,
              "#bd3786"
             ],
             [
              0.5555555555555556,
              "#d8576b"
             ],
             [
              0.6666666666666666,
              "#ed7953"
             ],
             [
              0.7777777777777778,
              "#fb9f3a"
             ],
             [
              0.8888888888888888,
              "#fdca26"
             ],
             [
              1,
              "#f0f921"
             ]
            ],
            "type": "contour"
           }
          ],
          "contourcarpet": [
           {
            "colorbar": {
             "outlinewidth": 0,
             "ticks": ""
            },
            "type": "contourcarpet"
           }
          ],
          "heatmap": [
           {
            "colorbar": {
             "outlinewidth": 0,
             "ticks": ""
            },
            "colorscale": [
             [
              0,
              "#0d0887"
             ],
             [
              0.1111111111111111,
              "#46039f"
             ],
             [
              0.2222222222222222,
              "#7201a8"
             ],
             [
              0.3333333333333333,
              "#9c179e"
             ],
             [
              0.4444444444444444,
              "#bd3786"
             ],
             [
              0.5555555555555556,
              "#d8576b"
             ],
             [
              0.6666666666666666,
              "#ed7953"
             ],
             [
              0.7777777777777778,
              "#fb9f3a"
             ],
             [
              0.8888888888888888,
              "#fdca26"
             ],
             [
              1,
              "#f0f921"
             ]
            ],
            "type": "heatmap"
           }
          ],
          "heatmapgl": [
           {
            "colorbar": {
             "outlinewidth": 0,
             "ticks": ""
            },
            "colorscale": [
             [
              0,
              "#0d0887"
             ],
             [
              0.1111111111111111,
              "#46039f"
             ],
             [
              0.2222222222222222,
              "#7201a8"
             ],
             [
              0.3333333333333333,
              "#9c179e"
             ],
             [
              0.4444444444444444,
              "#bd3786"
             ],
             [
              0.5555555555555556,
              "#d8576b"
             ],
             [
              0.6666666666666666,
              "#ed7953"
             ],
             [
              0.7777777777777778,
              "#fb9f3a"
             ],
             [
              0.8888888888888888,
              "#fdca26"
             ],
             [
              1,
              "#f0f921"
             ]
            ],
            "type": "heatmapgl"
           }
          ],
          "histogram": [
           {
            "marker": {
             "pattern": {
              "fillmode": "overlay",
              "size": 10,
              "solidity": 0.2
             }
            },
            "type": "histogram"
           }
          ],
          "histogram2d": [
           {
            "colorbar": {
             "outlinewidth": 0,
             "ticks": ""
            },
            "colorscale": [
             [
              0,
              "#0d0887"
             ],
             [
              0.1111111111111111,
              "#46039f"
             ],
             [
              0.2222222222222222,
              "#7201a8"
             ],
             [
              0.3333333333333333,
              "#9c179e"
             ],
             [
              0.4444444444444444,
              "#bd3786"
             ],
             [
              0.5555555555555556,
              "#d8576b"
             ],
             [
              0.6666666666666666,
              "#ed7953"
             ],
             [
              0.7777777777777778,
              "#fb9f3a"
             ],
             [
              0.8888888888888888,
              "#fdca26"
             ],
             [
              1,
              "#f0f921"
             ]
            ],
            "type": "histogram2d"
           }
          ],
          "histogram2dcontour": [
           {
            "colorbar": {
             "outlinewidth": 0,
             "ticks": ""
            },
            "colorscale": [
             [
              0,
              "#0d0887"
             ],
             [
              0.1111111111111111,
              "#46039f"
             ],
             [
              0.2222222222222222,
              "#7201a8"
             ],
             [
              0.3333333333333333,
              "#9c179e"
             ],
             [
              0.4444444444444444,
              "#bd3786"
             ],
             [
              0.5555555555555556,
              "#d8576b"
             ],
             [
              0.6666666666666666,
              "#ed7953"
             ],
             [
              0.7777777777777778,
              "#fb9f3a"
             ],
             [
              0.8888888888888888,
              "#fdca26"
             ],
             [
              1,
              "#f0f921"
             ]
            ],
            "type": "histogram2dcontour"
           }
          ],
          "mesh3d": [
           {
            "colorbar": {
             "outlinewidth": 0,
             "ticks": ""
            },
            "type": "mesh3d"
           }
          ],
          "parcoords": [
           {
            "line": {
             "colorbar": {
              "outlinewidth": 0,
              "ticks": ""
             }
            },
            "type": "parcoords"
           }
          ],
          "pie": [
           {
            "automargin": true,
            "type": "pie"
           }
          ],
          "scatter": [
           {
            "marker": {
             "line": {
              "color": "#283442"
             }
            },
            "type": "scatter"
           }
          ],
          "scatter3d": [
           {
            "line": {
             "colorbar": {
              "outlinewidth": 0,
              "ticks": ""
             }
            },
            "marker": {
             "colorbar": {
              "outlinewidth": 0,
              "ticks": ""
             }
            },
            "type": "scatter3d"
           }
          ],
          "scattercarpet": [
           {
            "marker": {
             "colorbar": {
              "outlinewidth": 0,
              "ticks": ""
             }
            },
            "type": "scattercarpet"
           }
          ],
          "scattergeo": [
           {
            "marker": {
             "colorbar": {
              "outlinewidth": 0,
              "ticks": ""
             }
            },
            "type": "scattergeo"
           }
          ],
          "scattergl": [
           {
            "marker": {
             "line": {
              "color": "#283442"
             }
            },
            "type": "scattergl"
           }
          ],
          "scattermapbox": [
           {
            "marker": {
             "colorbar": {
              "outlinewidth": 0,
              "ticks": ""
             }
            },
            "type": "scattermapbox"
           }
          ],
          "scatterpolar": [
           {
            "marker": {
             "colorbar": {
              "outlinewidth": 0,
              "ticks": ""
             }
            },
            "type": "scatterpolar"
           }
          ],
          "scatterpolargl": [
           {
            "marker": {
             "colorbar": {
              "outlinewidth": 0,
              "ticks": ""
             }
            },
            "type": "scatterpolargl"
           }
          ],
          "scatterternary": [
           {
            "marker": {
             "colorbar": {
              "outlinewidth": 0,
              "ticks": ""
             }
            },
            "type": "scatterternary"
           }
          ],
          "surface": [
           {
            "colorbar": {
             "outlinewidth": 0,
             "ticks": ""
            },
            "colorscale": [
             [
              0,
              "#0d0887"
             ],
             [
              0.1111111111111111,
              "#46039f"
             ],
             [
              0.2222222222222222,
              "#7201a8"
             ],
             [
              0.3333333333333333,
              "#9c179e"
             ],
             [
              0.4444444444444444,
              "#bd3786"
             ],
             [
              0.5555555555555556,
              "#d8576b"
             ],
             [
              0.6666666666666666,
              "#ed7953"
             ],
             [
              0.7777777777777778,
              "#fb9f3a"
             ],
             [
              0.8888888888888888,
              "#fdca26"
             ],
             [
              1,
              "#f0f921"
             ]
            ],
            "type": "surface"
           }
          ],
          "table": [
           {
            "cells": {
             "fill": {
              "color": "#506784"
             },
             "line": {
              "color": "rgb(17,17,17)"
             }
            },
            "header": {
             "fill": {
              "color": "#2a3f5f"
             },
             "line": {
              "color": "rgb(17,17,17)"
             }
            },
            "type": "table"
           }
          ]
         },
         "layout": {
          "annotationdefaults": {
           "arrowcolor": "#f2f5fa",
           "arrowhead": 0,
           "arrowwidth": 1
          },
          "autotypenumbers": "strict",
          "coloraxis": {
           "colorbar": {
            "outlinewidth": 0,
            "ticks": ""
           }
          },
          "colorscale": {
           "diverging": [
            [
             0,
             "#8e0152"
            ],
            [
             0.1,
             "#c51b7d"
            ],
            [
             0.2,
             "#de77ae"
            ],
            [
             0.3,
             "#f1b6da"
            ],
            [
             0.4,
             "#fde0ef"
            ],
            [
             0.5,
             "#f7f7f7"
            ],
            [
             0.6,
             "#e6f5d0"
            ],
            [
             0.7,
             "#b8e186"
            ],
            [
             0.8,
             "#7fbc41"
            ],
            [
             0.9,
             "#4d9221"
            ],
            [
             1,
             "#276419"
            ]
           ],
           "sequential": [
            [
             0,
             "#0d0887"
            ],
            [
             0.1111111111111111,
             "#46039f"
            ],
            [
             0.2222222222222222,
             "#7201a8"
            ],
            [
             0.3333333333333333,
             "#9c179e"
            ],
            [
             0.4444444444444444,
             "#bd3786"
            ],
            [
             0.5555555555555556,
             "#d8576b"
            ],
            [
             0.6666666666666666,
             "#ed7953"
            ],
            [
             0.7777777777777778,
             "#fb9f3a"
            ],
            [
             0.8888888888888888,
             "#fdca26"
            ],
            [
             1,
             "#f0f921"
            ]
           ],
           "sequentialminus": [
            [
             0,
             "#0d0887"
            ],
            [
             0.1111111111111111,
             "#46039f"
            ],
            [
             0.2222222222222222,
             "#7201a8"
            ],
            [
             0.3333333333333333,
             "#9c179e"
            ],
            [
             0.4444444444444444,
             "#bd3786"
            ],
            [
             0.5555555555555556,
             "#d8576b"
            ],
            [
             0.6666666666666666,
             "#ed7953"
            ],
            [
             0.7777777777777778,
             "#fb9f3a"
            ],
            [
             0.8888888888888888,
             "#fdca26"
            ],
            [
             1,
             "#f0f921"
            ]
           ]
          },
          "colorway": [
           "#636efa",
           "#EF553B",
           "#00cc96",
           "#ab63fa",
           "#FFA15A",
           "#19d3f3",
           "#FF6692",
           "#B6E880",
           "#FF97FF",
           "#FECB52"
          ],
          "font": {
           "color": "#f2f5fa"
          },
          "geo": {
           "bgcolor": "rgb(17,17,17)",
           "lakecolor": "rgb(17,17,17)",
           "landcolor": "rgb(17,17,17)",
           "showlakes": true,
           "showland": true,
           "subunitcolor": "#506784"
          },
          "hoverlabel": {
           "align": "left"
          },
          "hovermode": "closest",
          "mapbox": {
           "style": "dark"
          },
          "paper_bgcolor": "rgb(17,17,17)",
          "plot_bgcolor": "rgb(17,17,17)",
          "polar": {
           "angularaxis": {
            "gridcolor": "#506784",
            "linecolor": "#506784",
            "ticks": ""
           },
           "bgcolor": "rgb(17,17,17)",
           "radialaxis": {
            "gridcolor": "#506784",
            "linecolor": "#506784",
            "ticks": ""
           }
          },
          "scene": {
           "xaxis": {
            "backgroundcolor": "rgb(17,17,17)",
            "gridcolor": "#506784",
            "gridwidth": 2,
            "linecolor": "#506784",
            "showbackground": true,
            "ticks": "",
            "zerolinecolor": "#C8D4E3"
           },
           "yaxis": {
            "backgroundcolor": "rgb(17,17,17)",
            "gridcolor": "#506784",
            "gridwidth": 2,
            "linecolor": "#506784",
            "showbackground": true,
            "ticks": "",
            "zerolinecolor": "#C8D4E3"
           },
           "zaxis": {
            "backgroundcolor": "rgb(17,17,17)",
            "gridcolor": "#506784",
            "gridwidth": 2,
            "linecolor": "#506784",
            "showbackground": true,
            "ticks": "",
            "zerolinecolor": "#C8D4E3"
           }
          },
          "shapedefaults": {
           "line": {
            "color": "#f2f5fa"
           }
          },
          "sliderdefaults": {
           "bgcolor": "#C8D4E3",
           "bordercolor": "rgb(17,17,17)",
           "borderwidth": 1,
           "tickwidth": 0
          },
          "ternary": {
           "aaxis": {
            "gridcolor": "#506784",
            "linecolor": "#506784",
            "ticks": ""
           },
           "baxis": {
            "gridcolor": "#506784",
            "linecolor": "#506784",
            "ticks": ""
           },
           "bgcolor": "rgb(17,17,17)",
           "caxis": {
            "gridcolor": "#506784",
            "linecolor": "#506784",
            "ticks": ""
           }
          },
          "title": {
           "x": 0.05
          },
          "updatemenudefaults": {
           "bgcolor": "#506784",
           "borderwidth": 0
          },
          "xaxis": {
           "automargin": true,
           "gridcolor": "#283442",
           "linecolor": "#506784",
           "ticks": "",
           "title": {
            "standoff": 15
           },
           "zerolinecolor": "#283442",
           "zerolinewidth": 2
          },
          "yaxis": {
           "automargin": true,
           "gridcolor": "#283442",
           "linecolor": "#506784",
           "ticks": "",
           "title": {
            "standoff": 15
           },
           "zerolinecolor": "#283442",
           "zerolinewidth": 2
          }
         }
        },
        "title": {
         "text": "Parques por Zona"
        },
        "xaxis": {
         "title": {
          "text": "Área"
         }
        },
        "yaxis": {
         "title": {
          "text": "Cantidad de parques"
         }
        }
       }
      }
     },
     "metadata": {},
     "output_type": "display_data"
    }
   ],
   "source": [
    "fig = go.Figure()\n",
    "\n",
    "# Histograma para df_zona1\n",
    "fig.add_trace(go.Histogram(x=df_zona1[\"Barrio\"], name=\"Zona 1: Betero y La Carrasca\", opacity=0.75))\n",
    "\n",
    "# Histograma para df_zona2\n",
    "fig.add_trace(go.Histogram(x=df_zona2[\"Barrio\"], name=\"Zona 2: La Torre y Sant Marcel\", opacity=0.75))\n",
    "\n",
    "# Histograma para df_zona3\n",
    "fig.add_trace(go.Histogram(x=df_zona3[\"Barrio\"], name=\"Zona 3: Tres Forques y La Fuensanta\", opacity=0.75))\n",
    "\n",
    "# Configuración del diseño\n",
    "fig.update_layout(\n",
    "    title=\"Parques por Zona\",\n",
    "    xaxis_title=\"Área\",\n",
    "    yaxis_title=\"Cantidad de parques\",\n",
    "    barmode='overlay',  # Superponer los histogramas\n",
    "    bargap=0.1,  # Espacio entre barras\n",
    "    template=\"plotly_dark\"  # Estilo del gráfico (opcional)\n",
    ")\n",
    "fig.show()"
   ]
  },
  {
   "cell_type": "markdown",
   "metadata": {},
   "source": [
    "Una vez hemos obtenido los datos, nos quedamos con las dos zonas que tienen más parques: Zona 1 (Bétero y La Carrasca) y la Zona 2 (La Torre y Sant Marceli)"
   ]
  },
  {
   "cell_type": "markdown",
   "metadata": {},
   "source": [
    "Por último analizaremos cuál de las dos zonas está mejor comunicada en cuanto a lineas de metro se refiere. Para ello, hemos obtenido los datos del Ayuntamiento de Valencia."
   ]
  },
  {
   "cell_type": "code",
   "execution_count": 42,
   "metadata": {},
   "outputs": [
    {
     "data": {
      "text/html": [
       "<div>\n",
       "<style scoped>\n",
       "    .dataframe tbody tr th:only-of-type {\n",
       "        vertical-align: middle;\n",
       "    }\n",
       "\n",
       "    .dataframe tbody tr th {\n",
       "        vertical-align: top;\n",
       "    }\n",
       "\n",
       "    .dataframe thead th {\n",
       "        text-align: right;\n",
       "    }\n",
       "</style>\n",
       "<table border=\"1\" class=\"dataframe\">\n",
       "  <thead>\n",
       "    <tr style=\"text-align: right;\">\n",
       "      <th></th>\n",
       "      <th>gid</th>\n",
       "      <th>Denominació / Denominación</th>\n",
       "      <th>Línies / Líneas</th>\n",
       "      <th>Id. Parada</th>\n",
       "      <th>Id. Boca</th>\n",
       "      <th>Pròximes Arribades / Próximas llegadas</th>\n",
       "      <th>proximes_llegadas</th>\n",
       "      <th>geo_shape</th>\n",
       "      <th>geo_point_2d</th>\n",
       "    </tr>\n",
       "  </thead>\n",
       "  <tbody>\n",
       "    <tr>\n",
       "      <th>0</th>\n",
       "      <td>182</td>\n",
       "      <td>FOIOS</td>\n",
       "      <td>3</td>\n",
       "      <td>6</td>\n",
       "      <td>215</td>\n",
       "      <td>https://geoportal.valencia.es/geoportal-servic...</td>\n",
       "      <td>https://geoportal.valencia.es/geoportal-servic...</td>\n",
       "      <td>{\"coordinates\": [-0.353869438543834, 39.537223...</td>\n",
       "      <td>39.5372238152284, -0.353869438543834</td>\n",
       "    </tr>\n",
       "    <tr>\n",
       "      <th>1</th>\n",
       "      <td>187</td>\n",
       "      <td>RAFELBUNYOL</td>\n",
       "      <td>3</td>\n",
       "      <td>1</td>\n",
       "      <td>220</td>\n",
       "      <td>https://geoportal.valencia.es/geoportal-servic...</td>\n",
       "      <td>https://geoportal.valencia.es/geoportal-servic...</td>\n",
       "      <td>{\"coordinates\": [-0.33105832383704287, 39.5885...</td>\n",
       "      <td>39.588523863986794, -0.33105832383704287</td>\n",
       "    </tr>\n",
       "    <tr>\n",
       "      <th>2</th>\n",
       "      <td>22</td>\n",
       "      <td>Á. GIMERÁ</td>\n",
       "      <td>1,3,5,9</td>\n",
       "      <td>17</td>\n",
       "      <td>3</td>\n",
       "      <td>https://geoportal.valencia.es/geoportal-servic...</td>\n",
       "      <td>https://geoportal.valencia.es/geoportal-servic...</td>\n",
       "      <td>{\"coordinates\": [-0.38410946248914607, 39.4695...</td>\n",
       "      <td>39.46959137449779, -0.38410946248914607</td>\n",
       "    </tr>\n",
       "    <tr>\n",
       "      <th>3</th>\n",
       "      <td>11</td>\n",
       "      <td>ARAGÓN</td>\n",
       "      <td>5,7</td>\n",
       "      <td>24</td>\n",
       "      <td>13</td>\n",
       "      <td>https://geoportal.valencia.es/geoportal-servic...</td>\n",
       "      <td>https://geoportal.valencia.es/geoportal-servic...</td>\n",
       "      <td>{\"coordinates\": [-0.3577954459515307, 39.47269...</td>\n",
       "      <td>39.47269126027633, -0.3577954459515307</td>\n",
       "    </tr>\n",
       "    <tr>\n",
       "      <th>4</th>\n",
       "      <td>6</td>\n",
       "      <td>AMISTAT</td>\n",
       "      <td>5,7</td>\n",
       "      <td>23</td>\n",
       "      <td>11</td>\n",
       "      <td>https://geoportal.valencia.es/geoportal-servic...</td>\n",
       "      <td>https://geoportal.valencia.es/geoportal-servic...</td>\n",
       "      <td>{\"coordinates\": [-0.3518176379178333, 39.47074...</td>\n",
       "      <td>39.47074908629906, -0.3518176379178333</td>\n",
       "    </tr>\n",
       "    <tr>\n",
       "      <th>...</th>\n",
       "      <td>...</td>\n",
       "      <td>...</td>\n",
       "      <td>...</td>\n",
       "      <td>...</td>\n",
       "      <td>...</td>\n",
       "      <td>...</td>\n",
       "      <td>...</td>\n",
       "      <td>...</td>\n",
       "      <td>...</td>\n",
       "    </tr>\n",
       "    <tr>\n",
       "      <th>182</th>\n",
       "      <td>169</td>\n",
       "      <td>RIBA-ROJA DE TÚRIA</td>\n",
       "      <td>9</td>\n",
       "      <td>186</td>\n",
       "      <td>202</td>\n",
       "      <td>https://geoportal.valencia.es/geoportal-servic...</td>\n",
       "      <td>https://geoportal.valencia.es/geoportal-servic...</td>\n",
       "      <td>{\"coordinates\": [-0.5594444278345464, 39.54333...</td>\n",
       "      <td>39.54333495963937, -0.5594444278345464</td>\n",
       "    </tr>\n",
       "    <tr>\n",
       "      <th>183</th>\n",
       "      <td>2</td>\n",
       "      <td>ALAMEDA</td>\n",
       "      <td>3,5,7,9</td>\n",
       "      <td>14</td>\n",
       "      <td>6</td>\n",
       "      <td>https://geoportal.valencia.es/geoportal-servic...</td>\n",
       "      <td>https://geoportal.valencia.es/geoportal-servic...</td>\n",
       "      <td>{\"coordinates\": [-0.36549713547643425, 39.4736...</td>\n",
       "      <td>39.47363752703317, -0.36549713547643425</td>\n",
       "    </tr>\n",
       "    <tr>\n",
       "      <th>184</th>\n",
       "      <td>120</td>\n",
       "      <td>MARINA REIAL JOAN CARLES I</td>\n",
       "      <td>5</td>\n",
       "      <td>126</td>\n",
       "      <td>153</td>\n",
       "      <td>https://geoportal.valencia.es/geoportal-servic...</td>\n",
       "      <td>https://geoportal.valencia.es/geoportal-servic...</td>\n",
       "      <td>{\"coordinates\": [-0.3258508441839875, 39.46325...</td>\n",
       "      <td>39.46325302065733, -0.3258508441839875</td>\n",
       "    </tr>\n",
       "    <tr>\n",
       "      <th>185</th>\n",
       "      <td>127</td>\n",
       "      <td>SEMINARI - CEU</td>\n",
       "      <td>1</td>\n",
       "      <td>78</td>\n",
       "      <td>160</td>\n",
       "      <td>https://geoportal.valencia.es/geoportal-servic...</td>\n",
       "      <td>https://geoportal.valencia.es/geoportal-servic...</td>\n",
       "      <td>{\"coordinates\": [-0.38974443064379294, 39.5499...</td>\n",
       "      <td>39.54998779211858, -0.38974443064379294</td>\n",
       "    </tr>\n",
       "    <tr>\n",
       "      <th>186</th>\n",
       "      <td>151</td>\n",
       "      <td>CANTERER�A</td>\n",
       "      <td>1</td>\n",
       "      <td>56</td>\n",
       "      <td>184</td>\n",
       "      <td>https://geoportal.valencia.es/geoportal-servic...</td>\n",
       "      <td>https://geoportal.valencia.es/geoportal-servic...</td>\n",
       "      <td>{\"coordinates\": [-0.41207221163652963, 39.5023...</td>\n",
       "      <td>39.50238037049734, -0.41207221163652963</td>\n",
       "    </tr>\n",
       "  </tbody>\n",
       "</table>\n",
       "<p>187 rows × 9 columns</p>\n",
       "</div>"
      ],
      "text/plain": [
       "     gid  Denominació / Denominación Línies / Líneas  Id. Parada  Id. Boca  \\\n",
       "0    182                       FOIOS               3           6       215   \n",
       "1    187                 RAFELBUNYOL               3           1       220   \n",
       "2     22                   Á. GIMERÁ         1,3,5,9          17         3   \n",
       "3     11                      ARAGÓN             5,7          24        13   \n",
       "4      6                     AMISTAT             5,7          23        11   \n",
       "..   ...                         ...             ...         ...       ...   \n",
       "182  169          RIBA-ROJA DE TÚRIA               9         186       202   \n",
       "183    2                     ALAMEDA         3,5,7,9          14         6   \n",
       "184  120  MARINA REIAL JOAN CARLES I               5         126       153   \n",
       "185  127              SEMINARI - CEU               1          78       160   \n",
       "186  151                  CANTERER�A               1          56       184   \n",
       "\n",
       "                Pròximes Arribades / Próximas llegadas  \\\n",
       "0    https://geoportal.valencia.es/geoportal-servic...   \n",
       "1    https://geoportal.valencia.es/geoportal-servic...   \n",
       "2    https://geoportal.valencia.es/geoportal-servic...   \n",
       "3    https://geoportal.valencia.es/geoportal-servic...   \n",
       "4    https://geoportal.valencia.es/geoportal-servic...   \n",
       "..                                                 ...   \n",
       "182  https://geoportal.valencia.es/geoportal-servic...   \n",
       "183  https://geoportal.valencia.es/geoportal-servic...   \n",
       "184  https://geoportal.valencia.es/geoportal-servic...   \n",
       "185  https://geoportal.valencia.es/geoportal-servic...   \n",
       "186  https://geoportal.valencia.es/geoportal-servic...   \n",
       "\n",
       "                                     proximes_llegadas  \\\n",
       "0    https://geoportal.valencia.es/geoportal-servic...   \n",
       "1    https://geoportal.valencia.es/geoportal-servic...   \n",
       "2    https://geoportal.valencia.es/geoportal-servic...   \n",
       "3    https://geoportal.valencia.es/geoportal-servic...   \n",
       "4    https://geoportal.valencia.es/geoportal-servic...   \n",
       "..                                                 ...   \n",
       "182  https://geoportal.valencia.es/geoportal-servic...   \n",
       "183  https://geoportal.valencia.es/geoportal-servic...   \n",
       "184  https://geoportal.valencia.es/geoportal-servic...   \n",
       "185  https://geoportal.valencia.es/geoportal-servic...   \n",
       "186  https://geoportal.valencia.es/geoportal-servic...   \n",
       "\n",
       "                                             geo_shape  \\\n",
       "0    {\"coordinates\": [-0.353869438543834, 39.537223...   \n",
       "1    {\"coordinates\": [-0.33105832383704287, 39.5885...   \n",
       "2    {\"coordinates\": [-0.38410946248914607, 39.4695...   \n",
       "3    {\"coordinates\": [-0.3577954459515307, 39.47269...   \n",
       "4    {\"coordinates\": [-0.3518176379178333, 39.47074...   \n",
       "..                                                 ...   \n",
       "182  {\"coordinates\": [-0.5594444278345464, 39.54333...   \n",
       "183  {\"coordinates\": [-0.36549713547643425, 39.4736...   \n",
       "184  {\"coordinates\": [-0.3258508441839875, 39.46325...   \n",
       "185  {\"coordinates\": [-0.38974443064379294, 39.5499...   \n",
       "186  {\"coordinates\": [-0.41207221163652963, 39.5023...   \n",
       "\n",
       "                                 geo_point_2d  \n",
       "0        39.5372238152284, -0.353869438543834  \n",
       "1    39.588523863986794, -0.33105832383704287  \n",
       "2     39.46959137449779, -0.38410946248914607  \n",
       "3      39.47269126027633, -0.3577954459515307  \n",
       "4      39.47074908629906, -0.3518176379178333  \n",
       "..                                        ...  \n",
       "182    39.54333495963937, -0.5594444278345464  \n",
       "183   39.47363752703317, -0.36549713547643425  \n",
       "184    39.46325302065733, -0.3258508441839875  \n",
       "185   39.54998779211858, -0.38974443064379294  \n",
       "186   39.50238037049734, -0.41207221163652963  \n",
       "\n",
       "[187 rows x 9 columns]"
      ]
     },
     "execution_count": 42,
     "metadata": {},
     "output_type": "execute_result"
    }
   ],
   "source": [
    "archivo=(\"fgv-bocas.csv\")\n",
    "sep = (\";\")\n",
    "\n",
    "df_metro = pd.read_csv(archivo, sep=sep)\n",
    "df_metro"
   ]
  },
  {
   "cell_type": "markdown",
   "metadata": {},
   "source": [
    "Para realizar la búsqueda del transporte por zona, hemos buscado en google maps las lineas de metro que pasan por cada una de ellas, de esta mamenra sabremos qué datos filtrar en el df"
   ]
  },
  {
   "cell_type": "markdown",
   "metadata": {},
   "source": [
    "En la zona 1, podemos observar que pasa tanto la línea de metro, como de tranvía. \n",
    "\n",
    "![zona_1](zona1.jpeg)"
   ]
  },
  {
   "cell_type": "code",
   "execution_count": 43,
   "metadata": {},
   "outputs": [
    {
     "data": {
      "text/html": [
       "<div>\n",
       "<style scoped>\n",
       "    .dataframe tbody tr th:only-of-type {\n",
       "        vertical-align: middle;\n",
       "    }\n",
       "\n",
       "    .dataframe tbody tr th {\n",
       "        vertical-align: top;\n",
       "    }\n",
       "\n",
       "    .dataframe thead th {\n",
       "        text-align: right;\n",
       "    }\n",
       "</style>\n",
       "<table border=\"1\" class=\"dataframe\">\n",
       "  <thead>\n",
       "    <tr style=\"text-align: right;\">\n",
       "      <th></th>\n",
       "      <th>Denominació / Denominación</th>\n",
       "      <th>Línies / Líneas</th>\n",
       "    </tr>\n",
       "  </thead>\n",
       "  <tbody>\n",
       "    <tr>\n",
       "      <th>0</th>\n",
       "      <td>AMISTAT</td>\n",
       "      <td>5,7</td>\n",
       "    </tr>\n",
       "    <tr>\n",
       "      <th>1</th>\n",
       "      <td>ARAGÓN</td>\n",
       "      <td>5,7</td>\n",
       "    </tr>\n",
       "    <tr>\n",
       "      <th>2</th>\n",
       "      <td>AYORA</td>\n",
       "      <td>5,7</td>\n",
       "    </tr>\n",
       "    <tr>\n",
       "      <th>3</th>\n",
       "      <td>DR. LLUCH</td>\n",
       "      <td>4,6</td>\n",
       "    </tr>\n",
       "    <tr>\n",
       "      <th>4</th>\n",
       "      <td>EUGENIA VIÑES</td>\n",
       "      <td>4,6</td>\n",
       "    </tr>\n",
       "    <tr>\n",
       "      <th>5</th>\n",
       "      <td>LA CADENA</td>\n",
       "      <td>4,6</td>\n",
       "    </tr>\n",
       "    <tr>\n",
       "      <th>6</th>\n",
       "      <td>LA CARRASCA</td>\n",
       "      <td>4,6</td>\n",
       "    </tr>\n",
       "    <tr>\n",
       "      <th>7</th>\n",
       "      <td>LA MARINA</td>\n",
       "      <td>4,6</td>\n",
       "    </tr>\n",
       "    <tr>\n",
       "      <th>8</th>\n",
       "      <td>LES ARENES</td>\n",
       "      <td>4,6</td>\n",
       "    </tr>\n",
       "    <tr>\n",
       "      <th>9</th>\n",
       "      <td>PRIMADO REIG</td>\n",
       "      <td>4,6</td>\n",
       "    </tr>\n",
       "    <tr>\n",
       "      <th>10</th>\n",
       "      <td>SERRERÍA</td>\n",
       "      <td>4,6</td>\n",
       "    </tr>\n",
       "    <tr>\n",
       "      <th>11</th>\n",
       "      <td>TARONGERS</td>\n",
       "      <td>4,6</td>\n",
       "    </tr>\n",
       "    <tr>\n",
       "      <th>12</th>\n",
       "      <td>UNIVERSITAT POLITÈCNICA</td>\n",
       "      <td>4,6</td>\n",
       "    </tr>\n",
       "    <tr>\n",
       "      <th>13</th>\n",
       "      <td>V. ZARAGOZÁ</td>\n",
       "      <td>4,6</td>\n",
       "    </tr>\n",
       "  </tbody>\n",
       "</table>\n",
       "</div>"
      ],
      "text/plain": [
       "   Denominació / Denominación Línies / Líneas\n",
       "0                     AMISTAT             5,7\n",
       "1                      ARAGÓN             5,7\n",
       "2                       AYORA             5,7\n",
       "3                   DR. LLUCH             4,6\n",
       "4               EUGENIA VIÑES             4,6\n",
       "5                   LA CADENA             4,6\n",
       "6                 LA CARRASCA             4,6\n",
       "7                   LA MARINA             4,6\n",
       "8                  LES ARENES             4,6\n",
       "9                PRIMADO REIG             4,6\n",
       "10                   SERRERÍA             4,6\n",
       "11                  TARONGERS             4,6\n",
       "12    UNIVERSITAT POLITÈCNICA             4,6\n",
       "13                V. ZARAGOZÁ             4,6"
      ]
     },
     "execution_count": 43,
     "metadata": {},
     "output_type": "execute_result"
    }
   ],
   "source": [
    "df_metro_zona1 = df_metro.loc[(df_metro.loc[:, \"Línies / Líneas\"] == '5,7') | (df_metro.loc[:, \"Línies / Líneas\"] == '4,6')].groupby('Denominació / Denominación')['Línies / Líneas'].value_counts().reset_index()\n",
    "df_metro_zona1.iloc[:,0:2]"
   ]
  },
  {
   "cell_type": "code",
   "execution_count": 47,
   "metadata": {},
   "outputs": [
    {
     "data": {
      "text/html": [
       "<div>\n",
       "<style scoped>\n",
       "    .dataframe tbody tr th:only-of-type {\n",
       "        vertical-align: middle;\n",
       "    }\n",
       "\n",
       "    .dataframe tbody tr th {\n",
       "        vertical-align: top;\n",
       "    }\n",
       "\n",
       "    .dataframe thead th {\n",
       "        text-align: right;\n",
       "    }\n",
       "</style>\n",
       "<table border=\"1\" class=\"dataframe\">\n",
       "  <thead>\n",
       "    <tr style=\"text-align: right;\">\n",
       "      <th></th>\n",
       "      <th>Denominació / Denominación</th>\n",
       "      <th>Línies / Líneas</th>\n",
       "      <th>count</th>\n",
       "    </tr>\n",
       "  </thead>\n",
       "  <tbody>\n",
       "    <tr>\n",
       "      <th>0</th>\n",
       "      <td>AMISTAT</td>\n",
       "      <td>5,7</td>\n",
       "      <td>2</td>\n",
       "    </tr>\n",
       "    <tr>\n",
       "      <th>2</th>\n",
       "      <td>AYORA</td>\n",
       "      <td>5,7</td>\n",
       "      <td>2</td>\n",
       "    </tr>\n",
       "    <tr>\n",
       "      <th>6</th>\n",
       "      <td>LA CARRASCA</td>\n",
       "      <td>4,6</td>\n",
       "      <td>1</td>\n",
       "    </tr>\n",
       "    <tr>\n",
       "      <th>11</th>\n",
       "      <td>TARONGERS</td>\n",
       "      <td>4,6</td>\n",
       "      <td>1</td>\n",
       "    </tr>\n",
       "  </tbody>\n",
       "</table>\n",
       "</div>"
      ],
      "text/plain": [
       "   Denominació / Denominación Línies / Líneas  count\n",
       "0                     AMISTAT             5,7      2\n",
       "2                       AYORA             5,7      2\n",
       "6                 LA CARRASCA             4,6      1\n",
       "11                  TARONGERS             4,6      1"
      ]
     },
     "execution_count": 47,
     "metadata": {},
     "output_type": "execute_result"
    }
   ],
   "source": [
    "df_lineas_zona1 = df_metro_zona1.loc[(df_metro_zona1.loc[:, \"Denominació / Denominación\"] == \"AMISTAT\")| (df_metro_zona1.loc[:, \"Denominació / Denominación\"] == \"TARONGERS\") | (df_metro_zona1.loc[:, \"Denominació / Denominación\"] == \"AYORA\")| (df_metro_zona1.loc[:, \"Denominació / Denominación\"] == \"LA CARRASCA\")]\n",
    "\n",
    "df_lineas_zona1"
   ]
  },
  {
   "cell_type": "markdown",
   "metadata": {},
   "source": [
    "En la zona 2, podemos observar que sólo pasa la línea de metro \n",
    "\n",
    "![zona_2](zona2.jpeg)"
   ]
  },
  {
   "cell_type": "code",
   "execution_count": 50,
   "metadata": {},
   "outputs": [
    {
     "data": {
      "text/html": [
       "<div>\n",
       "<style scoped>\n",
       "    .dataframe tbody tr th:only-of-type {\n",
       "        vertical-align: middle;\n",
       "    }\n",
       "\n",
       "    .dataframe tbody tr th {\n",
       "        vertical-align: top;\n",
       "    }\n",
       "\n",
       "    .dataframe thead th {\n",
       "        text-align: right;\n",
       "    }\n",
       "</style>\n",
       "<table border=\"1\" class=\"dataframe\">\n",
       "  <thead>\n",
       "    <tr style=\"text-align: right;\">\n",
       "      <th></th>\n",
       "      <th>Denominació / Denominación</th>\n",
       "      <th>Línies / Líneas</th>\n",
       "    </tr>\n",
       "  </thead>\n",
       "  <tbody>\n",
       "    <tr>\n",
       "      <th>0</th>\n",
       "      <td>HOSPITAL</td>\n",
       "      <td>1,3,7</td>\n",
       "    </tr>\n",
       "    <tr>\n",
       "      <th>1</th>\n",
       "      <td>JOAQUÍN SOROLLA</td>\n",
       "      <td>1,3,7</td>\n",
       "    </tr>\n",
       "    <tr>\n",
       "      <th>2</th>\n",
       "      <td>PAIPORTA</td>\n",
       "      <td>1,3,7</td>\n",
       "    </tr>\n",
       "    <tr>\n",
       "      <th>3</th>\n",
       "      <td>PATRAIX</td>\n",
       "      <td>1,3,7</td>\n",
       "    </tr>\n",
       "    <tr>\n",
       "      <th>4</th>\n",
       "      <td>PICANYA</td>\n",
       "      <td>1,3,7</td>\n",
       "    </tr>\n",
       "    <tr>\n",
       "      <th>5</th>\n",
       "      <td>SANT ISIDRE</td>\n",
       "      <td>1,3,7</td>\n",
       "    </tr>\n",
       "    <tr>\n",
       "      <th>6</th>\n",
       "      <td>TORRENT</td>\n",
       "      <td>1,3,7</td>\n",
       "    </tr>\n",
       "    <tr>\n",
       "      <th>7</th>\n",
       "      <td>TORRENT AVINGUDA</td>\n",
       "      <td>1,3,7</td>\n",
       "    </tr>\n",
       "    <tr>\n",
       "      <th>8</th>\n",
       "      <td>VALENCIA SUD</td>\n",
       "      <td>1,3,7</td>\n",
       "    </tr>\n",
       "  </tbody>\n",
       "</table>\n",
       "</div>"
      ],
      "text/plain": [
       "  Denominació / Denominación Línies / Líneas\n",
       "0                   HOSPITAL           1,3,7\n",
       "1            JOAQUÍN SOROLLA           1,3,7\n",
       "2                   PAIPORTA           1,3,7\n",
       "3                    PATRAIX           1,3,7\n",
       "4                    PICANYA           1,3,7\n",
       "5                SANT ISIDRE           1,3,7\n",
       "6                    TORRENT           1,3,7\n",
       "7           TORRENT AVINGUDA           1,3,7\n",
       "8               VALENCIA SUD           1,3,7"
      ]
     },
     "execution_count": 50,
     "metadata": {},
     "output_type": "execute_result"
    }
   ],
   "source": [
    "df_metro_zona2 = df_metro.loc[(df_metro.loc[:, \"Línies / Líneas\"] == '1,3,7')].groupby('Denominació / Denominación')['Línies / Líneas'].value_counts().reset_index()\n",
    "df_metro_zona2.iloc[:,0:2]"
   ]
  },
  {
   "cell_type": "code",
   "execution_count": 51,
   "metadata": {},
   "outputs": [
    {
     "data": {
      "text/html": [
       "<div>\n",
       "<style scoped>\n",
       "    .dataframe tbody tr th:only-of-type {\n",
       "        vertical-align: middle;\n",
       "    }\n",
       "\n",
       "    .dataframe tbody tr th {\n",
       "        vertical-align: top;\n",
       "    }\n",
       "\n",
       "    .dataframe thead th {\n",
       "        text-align: right;\n",
       "    }\n",
       "</style>\n",
       "<table border=\"1\" class=\"dataframe\">\n",
       "  <thead>\n",
       "    <tr style=\"text-align: right;\">\n",
       "      <th></th>\n",
       "      <th>Denominació / Denominación</th>\n",
       "      <th>Línies / Líneas</th>\n",
       "      <th>count</th>\n",
       "    </tr>\n",
       "  </thead>\n",
       "  <tbody>\n",
       "    <tr>\n",
       "      <th>3</th>\n",
       "      <td>PATRAIX</td>\n",
       "      <td>1,3,7</td>\n",
       "      <td>2</td>\n",
       "    </tr>\n",
       "    <tr>\n",
       "      <th>5</th>\n",
       "      <td>SANT ISIDRE</td>\n",
       "      <td>1,3,7</td>\n",
       "      <td>1</td>\n",
       "    </tr>\n",
       "  </tbody>\n",
       "</table>\n",
       "</div>"
      ],
      "text/plain": [
       "  Denominació / Denominación Línies / Líneas  count\n",
       "3                    PATRAIX           1,3,7      2\n",
       "5                SANT ISIDRE           1,3,7      1"
      ]
     },
     "execution_count": 51,
     "metadata": {},
     "output_type": "execute_result"
    }
   ],
   "source": [
    "df_lineas_zona2 = df_metro_zona2.loc[(df_metro_zona2.loc[:, \"Denominació / Denominación\"] == \"SANT ISIDRE\")| (df_metro_zona2.loc[:, \"Denominació / Denominación\"] == \"PATRAIX\")]\n",
    "\n",
    "df_lineas_zona2"
   ]
  },
  {
   "cell_type": "code",
   "execution_count": 59,
   "metadata": {},
   "outputs": [],
   "source": [
    "df_lineas_zona1.loc[:,\"Línies / Líneas\"] = \"Zona 1\"\n",
    "df_lineas_zona2.loc[:, \"Línies / Líneas\"] = \"Zona 2\"\n"
   ]
  },
  {
   "cell_type": "code",
   "execution_count": 63,
   "metadata": {},
   "outputs": [
    {
     "data": {
      "text/html": [
       "<div>\n",
       "<style scoped>\n",
       "    .dataframe tbody tr th:only-of-type {\n",
       "        vertical-align: middle;\n",
       "    }\n",
       "\n",
       "    .dataframe tbody tr th {\n",
       "        vertical-align: top;\n",
       "    }\n",
       "\n",
       "    .dataframe thead th {\n",
       "        text-align: right;\n",
       "    }\n",
       "</style>\n",
       "<table border=\"1\" class=\"dataframe\">\n",
       "  <thead>\n",
       "    <tr style=\"text-align: right;\">\n",
       "      <th></th>\n",
       "      <th>Denominació / Denominación</th>\n",
       "      <th>Línies / Líneas</th>\n",
       "      <th>count</th>\n",
       "    </tr>\n",
       "  </thead>\n",
       "  <tbody>\n",
       "    <tr>\n",
       "      <th>0</th>\n",
       "      <td>AMISTAT</td>\n",
       "      <td>Zona 1</td>\n",
       "      <td>2</td>\n",
       "    </tr>\n",
       "    <tr>\n",
       "      <th>2</th>\n",
       "      <td>AYORA</td>\n",
       "      <td>Zona 1</td>\n",
       "      <td>2</td>\n",
       "    </tr>\n",
       "    <tr>\n",
       "      <th>6</th>\n",
       "      <td>LA CARRASCA</td>\n",
       "      <td>Zona 1</td>\n",
       "      <td>1</td>\n",
       "    </tr>\n",
       "    <tr>\n",
       "      <th>11</th>\n",
       "      <td>TARONGERS</td>\n",
       "      <td>Zona 1</td>\n",
       "      <td>1</td>\n",
       "    </tr>\n",
       "  </tbody>\n",
       "</table>\n",
       "</div>"
      ],
      "text/plain": [
       "   Denominació / Denominación Línies / Líneas  count\n",
       "0                     AMISTAT          Zona 1      2\n",
       "2                       AYORA          Zona 1      2\n",
       "6                 LA CARRASCA          Zona 1      1\n",
       "11                  TARONGERS          Zona 1      1"
      ]
     },
     "execution_count": 63,
     "metadata": {},
     "output_type": "execute_result"
    }
   ],
   "source": [
    "df_lineas_zona1"
   ]
  },
  {
   "cell_type": "code",
   "execution_count": null,
   "metadata": {},
   "outputs": [],
   "source": []
  },
  {
   "cell_type": "code",
   "execution_count": 64,
   "metadata": {},
   "outputs": [
    {
     "data": {
      "application/vnd.plotly.v1+json": {
       "config": {
        "plotlyServerURL": "https://plot.ly"
       },
       "data": [
        {
         "name": "Zona 1. Número de estaciones de metro.",
         "opacity": 0.75,
         "type": "histogram",
         "x": [
          "Zona 1",
          "Zona 1",
          "Zona 1",
          "Zona 1"
         ]
        },
        {
         "name": "Zona 2. Número de estaciones de metro.",
         "opacity": 0.75,
         "type": "histogram",
         "x": [
          "Zona 2",
          "Zona 2"
         ]
        }
       ],
       "layout": {
        "bargap": 0.1,
        "barmode": "overlay",
        "template": {
         "data": {
          "bar": [
           {
            "error_x": {
             "color": "#f2f5fa"
            },
            "error_y": {
             "color": "#f2f5fa"
            },
            "marker": {
             "line": {
              "color": "rgb(17,17,17)",
              "width": 0.5
             },
             "pattern": {
              "fillmode": "overlay",
              "size": 10,
              "solidity": 0.2
             }
            },
            "type": "bar"
           }
          ],
          "barpolar": [
           {
            "marker": {
             "line": {
              "color": "rgb(17,17,17)",
              "width": 0.5
             },
             "pattern": {
              "fillmode": "overlay",
              "size": 10,
              "solidity": 0.2
             }
            },
            "type": "barpolar"
           }
          ],
          "carpet": [
           {
            "aaxis": {
             "endlinecolor": "#A2B1C6",
             "gridcolor": "#506784",
             "linecolor": "#506784",
             "minorgridcolor": "#506784",
             "startlinecolor": "#A2B1C6"
            },
            "baxis": {
             "endlinecolor": "#A2B1C6",
             "gridcolor": "#506784",
             "linecolor": "#506784",
             "minorgridcolor": "#506784",
             "startlinecolor": "#A2B1C6"
            },
            "type": "carpet"
           }
          ],
          "choropleth": [
           {
            "colorbar": {
             "outlinewidth": 0,
             "ticks": ""
            },
            "type": "choropleth"
           }
          ],
          "contour": [
           {
            "colorbar": {
             "outlinewidth": 0,
             "ticks": ""
            },
            "colorscale": [
             [
              0,
              "#0d0887"
             ],
             [
              0.1111111111111111,
              "#46039f"
             ],
             [
              0.2222222222222222,
              "#7201a8"
             ],
             [
              0.3333333333333333,
              "#9c179e"
             ],
             [
              0.4444444444444444,
              "#bd3786"
             ],
             [
              0.5555555555555556,
              "#d8576b"
             ],
             [
              0.6666666666666666,
              "#ed7953"
             ],
             [
              0.7777777777777778,
              "#fb9f3a"
             ],
             [
              0.8888888888888888,
              "#fdca26"
             ],
             [
              1,
              "#f0f921"
             ]
            ],
            "type": "contour"
           }
          ],
          "contourcarpet": [
           {
            "colorbar": {
             "outlinewidth": 0,
             "ticks": ""
            },
            "type": "contourcarpet"
           }
          ],
          "heatmap": [
           {
            "colorbar": {
             "outlinewidth": 0,
             "ticks": ""
            },
            "colorscale": [
             [
              0,
              "#0d0887"
             ],
             [
              0.1111111111111111,
              "#46039f"
             ],
             [
              0.2222222222222222,
              "#7201a8"
             ],
             [
              0.3333333333333333,
              "#9c179e"
             ],
             [
              0.4444444444444444,
              "#bd3786"
             ],
             [
              0.5555555555555556,
              "#d8576b"
             ],
             [
              0.6666666666666666,
              "#ed7953"
             ],
             [
              0.7777777777777778,
              "#fb9f3a"
             ],
             [
              0.8888888888888888,
              "#fdca26"
             ],
             [
              1,
              "#f0f921"
             ]
            ],
            "type": "heatmap"
           }
          ],
          "heatmapgl": [
           {
            "colorbar": {
             "outlinewidth": 0,
             "ticks": ""
            },
            "colorscale": [
             [
              0,
              "#0d0887"
             ],
             [
              0.1111111111111111,
              "#46039f"
             ],
             [
              0.2222222222222222,
              "#7201a8"
             ],
             [
              0.3333333333333333,
              "#9c179e"
             ],
             [
              0.4444444444444444,
              "#bd3786"
             ],
             [
              0.5555555555555556,
              "#d8576b"
             ],
             [
              0.6666666666666666,
              "#ed7953"
             ],
             [
              0.7777777777777778,
              "#fb9f3a"
             ],
             [
              0.8888888888888888,
              "#fdca26"
             ],
             [
              1,
              "#f0f921"
             ]
            ],
            "type": "heatmapgl"
           }
          ],
          "histogram": [
           {
            "marker": {
             "pattern": {
              "fillmode": "overlay",
              "size": 10,
              "solidity": 0.2
             }
            },
            "type": "histogram"
           }
          ],
          "histogram2d": [
           {
            "colorbar": {
             "outlinewidth": 0,
             "ticks": ""
            },
            "colorscale": [
             [
              0,
              "#0d0887"
             ],
             [
              0.1111111111111111,
              "#46039f"
             ],
             [
              0.2222222222222222,
              "#7201a8"
             ],
             [
              0.3333333333333333,
              "#9c179e"
             ],
             [
              0.4444444444444444,
              "#bd3786"
             ],
             [
              0.5555555555555556,
              "#d8576b"
             ],
             [
              0.6666666666666666,
              "#ed7953"
             ],
             [
              0.7777777777777778,
              "#fb9f3a"
             ],
             [
              0.8888888888888888,
              "#fdca26"
             ],
             [
              1,
              "#f0f921"
             ]
            ],
            "type": "histogram2d"
           }
          ],
          "histogram2dcontour": [
           {
            "colorbar": {
             "outlinewidth": 0,
             "ticks": ""
            },
            "colorscale": [
             [
              0,
              "#0d0887"
             ],
             [
              0.1111111111111111,
              "#46039f"
             ],
             [
              0.2222222222222222,
              "#7201a8"
             ],
             [
              0.3333333333333333,
              "#9c179e"
             ],
             [
              0.4444444444444444,
              "#bd3786"
             ],
             [
              0.5555555555555556,
              "#d8576b"
             ],
             [
              0.6666666666666666,
              "#ed7953"
             ],
             [
              0.7777777777777778,
              "#fb9f3a"
             ],
             [
              0.8888888888888888,
              "#fdca26"
             ],
             [
              1,
              "#f0f921"
             ]
            ],
            "type": "histogram2dcontour"
           }
          ],
          "mesh3d": [
           {
            "colorbar": {
             "outlinewidth": 0,
             "ticks": ""
            },
            "type": "mesh3d"
           }
          ],
          "parcoords": [
           {
            "line": {
             "colorbar": {
              "outlinewidth": 0,
              "ticks": ""
             }
            },
            "type": "parcoords"
           }
          ],
          "pie": [
           {
            "automargin": true,
            "type": "pie"
           }
          ],
          "scatter": [
           {
            "marker": {
             "line": {
              "color": "#283442"
             }
            },
            "type": "scatter"
           }
          ],
          "scatter3d": [
           {
            "line": {
             "colorbar": {
              "outlinewidth": 0,
              "ticks": ""
             }
            },
            "marker": {
             "colorbar": {
              "outlinewidth": 0,
              "ticks": ""
             }
            },
            "type": "scatter3d"
           }
          ],
          "scattercarpet": [
           {
            "marker": {
             "colorbar": {
              "outlinewidth": 0,
              "ticks": ""
             }
            },
            "type": "scattercarpet"
           }
          ],
          "scattergeo": [
           {
            "marker": {
             "colorbar": {
              "outlinewidth": 0,
              "ticks": ""
             }
            },
            "type": "scattergeo"
           }
          ],
          "scattergl": [
           {
            "marker": {
             "line": {
              "color": "#283442"
             }
            },
            "type": "scattergl"
           }
          ],
          "scattermapbox": [
           {
            "marker": {
             "colorbar": {
              "outlinewidth": 0,
              "ticks": ""
             }
            },
            "type": "scattermapbox"
           }
          ],
          "scatterpolar": [
           {
            "marker": {
             "colorbar": {
              "outlinewidth": 0,
              "ticks": ""
             }
            },
            "type": "scatterpolar"
           }
          ],
          "scatterpolargl": [
           {
            "marker": {
             "colorbar": {
              "outlinewidth": 0,
              "ticks": ""
             }
            },
            "type": "scatterpolargl"
           }
          ],
          "scatterternary": [
           {
            "marker": {
             "colorbar": {
              "outlinewidth": 0,
              "ticks": ""
             }
            },
            "type": "scatterternary"
           }
          ],
          "surface": [
           {
            "colorbar": {
             "outlinewidth": 0,
             "ticks": ""
            },
            "colorscale": [
             [
              0,
              "#0d0887"
             ],
             [
              0.1111111111111111,
              "#46039f"
             ],
             [
              0.2222222222222222,
              "#7201a8"
             ],
             [
              0.3333333333333333,
              "#9c179e"
             ],
             [
              0.4444444444444444,
              "#bd3786"
             ],
             [
              0.5555555555555556,
              "#d8576b"
             ],
             [
              0.6666666666666666,
              "#ed7953"
             ],
             [
              0.7777777777777778,
              "#fb9f3a"
             ],
             [
              0.8888888888888888,
              "#fdca26"
             ],
             [
              1,
              "#f0f921"
             ]
            ],
            "type": "surface"
           }
          ],
          "table": [
           {
            "cells": {
             "fill": {
              "color": "#506784"
             },
             "line": {
              "color": "rgb(17,17,17)"
             }
            },
            "header": {
             "fill": {
              "color": "#2a3f5f"
             },
             "line": {
              "color": "rgb(17,17,17)"
             }
            },
            "type": "table"
           }
          ]
         },
         "layout": {
          "annotationdefaults": {
           "arrowcolor": "#f2f5fa",
           "arrowhead": 0,
           "arrowwidth": 1
          },
          "autotypenumbers": "strict",
          "coloraxis": {
           "colorbar": {
            "outlinewidth": 0,
            "ticks": ""
           }
          },
          "colorscale": {
           "diverging": [
            [
             0,
             "#8e0152"
            ],
            [
             0.1,
             "#c51b7d"
            ],
            [
             0.2,
             "#de77ae"
            ],
            [
             0.3,
             "#f1b6da"
            ],
            [
             0.4,
             "#fde0ef"
            ],
            [
             0.5,
             "#f7f7f7"
            ],
            [
             0.6,
             "#e6f5d0"
            ],
            [
             0.7,
             "#b8e186"
            ],
            [
             0.8,
             "#7fbc41"
            ],
            [
             0.9,
             "#4d9221"
            ],
            [
             1,
             "#276419"
            ]
           ],
           "sequential": [
            [
             0,
             "#0d0887"
            ],
            [
             0.1111111111111111,
             "#46039f"
            ],
            [
             0.2222222222222222,
             "#7201a8"
            ],
            [
             0.3333333333333333,
             "#9c179e"
            ],
            [
             0.4444444444444444,
             "#bd3786"
            ],
            [
             0.5555555555555556,
             "#d8576b"
            ],
            [
             0.6666666666666666,
             "#ed7953"
            ],
            [
             0.7777777777777778,
             "#fb9f3a"
            ],
            [
             0.8888888888888888,
             "#fdca26"
            ],
            [
             1,
             "#f0f921"
            ]
           ],
           "sequentialminus": [
            [
             0,
             "#0d0887"
            ],
            [
             0.1111111111111111,
             "#46039f"
            ],
            [
             0.2222222222222222,
             "#7201a8"
            ],
            [
             0.3333333333333333,
             "#9c179e"
            ],
            [
             0.4444444444444444,
             "#bd3786"
            ],
            [
             0.5555555555555556,
             "#d8576b"
            ],
            [
             0.6666666666666666,
             "#ed7953"
            ],
            [
             0.7777777777777778,
             "#fb9f3a"
            ],
            [
             0.8888888888888888,
             "#fdca26"
            ],
            [
             1,
             "#f0f921"
            ]
           ]
          },
          "colorway": [
           "#636efa",
           "#EF553B",
           "#00cc96",
           "#ab63fa",
           "#FFA15A",
           "#19d3f3",
           "#FF6692",
           "#B6E880",
           "#FF97FF",
           "#FECB52"
          ],
          "font": {
           "color": "#f2f5fa"
          },
          "geo": {
           "bgcolor": "rgb(17,17,17)",
           "lakecolor": "rgb(17,17,17)",
           "landcolor": "rgb(17,17,17)",
           "showlakes": true,
           "showland": true,
           "subunitcolor": "#506784"
          },
          "hoverlabel": {
           "align": "left"
          },
          "hovermode": "closest",
          "mapbox": {
           "style": "dark"
          },
          "paper_bgcolor": "rgb(17,17,17)",
          "plot_bgcolor": "rgb(17,17,17)",
          "polar": {
           "angularaxis": {
            "gridcolor": "#506784",
            "linecolor": "#506784",
            "ticks": ""
           },
           "bgcolor": "rgb(17,17,17)",
           "radialaxis": {
            "gridcolor": "#506784",
            "linecolor": "#506784",
            "ticks": ""
           }
          },
          "scene": {
           "xaxis": {
            "backgroundcolor": "rgb(17,17,17)",
            "gridcolor": "#506784",
            "gridwidth": 2,
            "linecolor": "#506784",
            "showbackground": true,
            "ticks": "",
            "zerolinecolor": "#C8D4E3"
           },
           "yaxis": {
            "backgroundcolor": "rgb(17,17,17)",
            "gridcolor": "#506784",
            "gridwidth": 2,
            "linecolor": "#506784",
            "showbackground": true,
            "ticks": "",
            "zerolinecolor": "#C8D4E3"
           },
           "zaxis": {
            "backgroundcolor": "rgb(17,17,17)",
            "gridcolor": "#506784",
            "gridwidth": 2,
            "linecolor": "#506784",
            "showbackground": true,
            "ticks": "",
            "zerolinecolor": "#C8D4E3"
           }
          },
          "shapedefaults": {
           "line": {
            "color": "#f2f5fa"
           }
          },
          "sliderdefaults": {
           "bgcolor": "#C8D4E3",
           "bordercolor": "rgb(17,17,17)",
           "borderwidth": 1,
           "tickwidth": 0
          },
          "ternary": {
           "aaxis": {
            "gridcolor": "#506784",
            "linecolor": "#506784",
            "ticks": ""
           },
           "baxis": {
            "gridcolor": "#506784",
            "linecolor": "#506784",
            "ticks": ""
           },
           "bgcolor": "rgb(17,17,17)",
           "caxis": {
            "gridcolor": "#506784",
            "linecolor": "#506784",
            "ticks": ""
           }
          },
          "title": {
           "x": 0.05
          },
          "updatemenudefaults": {
           "bgcolor": "#506784",
           "borderwidth": 0
          },
          "xaxis": {
           "automargin": true,
           "gridcolor": "#283442",
           "linecolor": "#506784",
           "ticks": "",
           "title": {
            "standoff": 15
           },
           "zerolinecolor": "#283442",
           "zerolinewidth": 2
          },
          "yaxis": {
           "automargin": true,
           "gridcolor": "#283442",
           "linecolor": "#506784",
           "ticks": "",
           "title": {
            "standoff": 15
           },
           "zerolinecolor": "#283442",
           "zerolinewidth": 2
          }
         }
        },
        "title": {
         "text": "Líneas de transporte por zona"
        },
        "xaxis": {
         "title": {
          "text": "Área"
         }
        },
        "yaxis": {
         "title": {
          "text": "Cantidad de parques"
         }
        }
       }
      }
     },
     "metadata": {},
     "output_type": "display_data"
    }
   ],
   "source": [
    "fig = go.Figure()\n",
    "\n",
    "# Histograma para df_zona1\n",
    "fig.add_trace(go.Histogram(x=df_lineas_zona1[\"Línies / Líneas\"], name= \"Zona 1. Número de estaciones de metro.\", opacity=0.75))\n",
    "\n",
    "# Histograma para df_zona2\n",
    "fig.add_trace(go.Histogram(x=df_lineas_zona2[\"Línies / Líneas\"], name= \"Zona 2. Número de estaciones de metro.\", opacity=0.75))\n",
    "\n",
    "\n",
    "# Configuración del diseño\n",
    "fig.update_layout(\n",
    "    title=\"Líneas de transporte por zona\",\n",
    "    xaxis_title=\"Área\",\n",
    "    yaxis_title=\"Cantidad de parques\",\n",
    "    barmode='overlay',  # Superponer los histogramas\n",
    "    bargap=0.1,  # Espacio entre barras\n",
    "    template=\"plotly_dark\"  # Estilo del gráfico (opcional)\n",
    ")\n",
    "fig.show()"
   ]
  },
  {
   "cell_type": "markdown",
   "metadata": {},
   "source": [
    "Finalmente, según los datos obtenidos hemos concluído que la mejor zona para que nuestro colega viva en base a sus necesidades en la zona 1, Betero y La Carrasca, ya que es la zona donde hay más centros educativas, más parques infantiles y además es la que mejor comunicada está ya que por ella pasan 4 líneas de metro y tranvía. Sin contar las numerosas líneas de autobuses las cuales no nos ha dado tiempo a analizar :)"
   ]
  }
 ],
 "metadata": {
  "kernelspec": {
   "display_name": "general.env",
   "language": "python",
   "name": "python3"
  },
  "language_info": {
   "codemirror_mode": {
    "name": "ipython",
    "version": 3
   },
   "file_extension": ".py",
   "mimetype": "text/x-python",
   "name": "python",
   "nbconvert_exporter": "python",
   "pygments_lexer": "ipython3",
   "version": "3.11.10"
  }
 },
 "nbformat": 4,
 "nbformat_minor": 2
}
