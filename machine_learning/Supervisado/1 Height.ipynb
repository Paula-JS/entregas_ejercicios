{
 "cells": [
  {
   "cell_type": "markdown",
   "metadata": {},
   "source": [
    "# REGRESIÓN LINEAL \n",
    "\n",
    "### **¿Qué es la regresión?** \n",
    "\n",
    "Es una técnica utilizada en machine learning supervisado, para predecir un valor continuo (o numérico) a partir de un conjunto de datos de entrenamiento. Es uno de los tipos más comunes de modelos supervisados, donde el modelo aprende a partir de ejemplos etiquetados (es decir, datos de entrada junto con sus correspondientes valores de salida).\n",
    "\n",
    "### **¿Cómo funciona la regresión?**\n",
    "\n",
    "Entrenamiento con datos etiquetados: Se tiene un conjunto de datos que consta de variables independientes (características de entrada) y una variable dependiente (el valor de salida que queremos predecir). Por ejemplo, si estamos prediciendo el precio de una casa, las características de entrada podrían ser el tamaño de la casa, el número de habitaciones, la ubicación, etc., y el valor de salida sería el precio de la casa.\n",
    "\n",
    "Modelo de regresión: El objetivo del modelo de regresión es aprender una función matemática que relacione las características de entrada con el valor de salida. Este modelo puede ser una simple ecuación lineal (como en la regresión lineal) o una función más compleja (como en la regresión polinómica o modelos de redes neuronales).\n",
    "\n",
    "Predicción: Una vez entrenado el modelo, se puede usar para predecir el valor de salida (la variable dependiente) para nuevos datos de entrada no vistos durante el entrenamiento.\n",
    "\n",
    "### **Tipos comunes de regresión**\n",
    "**Regresión lineal:** Es el tipo más simple y común de regresión. Asume que hay una relación lineal entre las variables independientes y la variable dependiente. \n",
    "\n",
    "**Regresión polinómica:** Es una extensión de la regresión lineal, donde se utilizan potencias de las características de entrada para capturar relaciones no lineales entre las variables.\n",
    "\n",
    "**Regresión logística:** Aunque se llama \"regresión\", en realidad es un modelo de clasificación. Se utiliza cuando la variable de salida es categórica (por ejemplo, sí/no), y predice probabilidades de que ocurra un evento.\n",
    "\n",
    "**Regresión de Ridge y Lasso:** Son variantes de la regresión lineal que agregan un término de regularización para evitar el sobreajuste (overfitting). Ridge utiliza la regularización L2, mientras que Lasso utiliza la regularización L1.\n",
    "\n",
    "**Regresión de soporte vectorial (SVR):** Utiliza técnicas de máquinas de soporte vectorial para modelar la relación entre las características y el valor de salida, especialmente útil en escenarios donde se requieren modelos no lineales.\n",
    "\n",
    "### ***Evaluación del modelo**\n",
    "Para medir el desempeño de un modelo de regresión, se utilizan varias métricas, como:\n",
    "\n",
    "**Error cuadrático medio (MSE):** Mide la media de los errores al cuadrado entre las predicciones y los valores reales.\n",
    "\n",
    "**Raíz del error cuadrático medio (RMSE):** Es la raíz cuadrada del MSE, lo que da una medida de la magnitud de los errores en las mismas unidades de la variable dependiente.\n",
    "\n",
    "**Coeficiente de determinación (R²):** Mide qué tan bien se ajusta el modelo a los datos, es decir, qué porcentaje de la varianza de la variable dependiente se explica por las variables independientes.\n",
    "\n",
    "En resumen, la regresión en machine learning supervisado es una herramienta fundamental para predecir valores continuos y tiene una amplia gama de aplicaciones en la vida real.\n",
    "\n",
    "\n",
    "\n"
   ]
  },
  {
   "cell_type": "markdown",
   "metadata": {},
   "source": [
    "Importamos las librerías necesarias"
   ]
  },
  {
   "cell_type": "code",
   "execution_count": 1,
   "metadata": {},
   "outputs": [],
   "source": [
    "import pandas as pd\n",
    "import numpy as np\n",
    "import matplotlib.pyplot as plt\n",
    "import seaborn as sns"
   ]
  },
  {
   "cell_type": "markdown",
   "metadata": {},
   "source": [
    "### Se pide, usando regresión lineal:\n",
    "\n",
    "Dibujar con una línea la relación que hay entre la altura y la edad de los alumnos de esta clase: \n",
    "\n",
    "- ¿Es una buena técnica para este tipo de problemas? ¿Por qué? \n",
    "- ¿Qué error se comete? Calcula los errores que está cometiendo tu modelo uno a uno (lo tienes que calcular tú con python). Aparte, usa el MSE y el RMSE. ¿Alguno es mejor para este problema?\n",
    "- Representa la matriz de correlación, ¿los datos están correlacionados?"
   ]
  },
  {
   "cell_type": "code",
   "execution_count": 2,
   "metadata": {},
   "outputs": [],
   "source": [
    "lista_alumnos = [(\"Caranchoa\", 24, 1.82), \n",
    "                 (\"Leo Messi\", 25, 1.71), \n",
    "                 (\"El bicho\", 35, 1.66), \n",
    "                 (\"Paquirrin\", 37, 1.63), \n",
    "                 (\"John Cobra\", 29, 1.90), \n",
    "                 (\"El tomate\", 27, 1.80), \n",
    "                 (\"El chucky de cieza\", 28, 1.70), \n",
    "                 (\"Chiquito de la Calzada\", 32, 1.60), \n",
    "                 (\"El cuñao\", 36, 1.74), \n",
    "                 (\"Rafa Nadal\", 45, 1.72), \n",
    "                 (\"Pau Gasol\", 41, 1.65), \n",
    "                 (\"El hermano de Pau Gasol\", 30, 1.65), \n",
    "                 (\"Joselito\", 40, 1.60), \n",
    "                 (\"Maria Isabel\", 39, 1.80), \n",
    "                 (\"Melody\", 23, 1.77), \n",
    "                 (\"Las ketchup\", 32, 1.75), \n",
    "                 (\"Pumuki\", 27, 1.70), \n",
    "                 (\"Naranjito\", 34, 1.80), \n",
    "                 (\"Espinete\", 27, 1.77), \n",
    "                 (\"El Feli\", 28, 1.70), \n",
    "                 (\"Jose Luis\", 35, 1.80)] "
   ]
  },
  {
   "cell_type": "markdown",
   "metadata": {},
   "source": [
    "En primer lugar, creamos el df, renombrando las columnas"
   ]
  },
  {
   "cell_type": "code",
   "execution_count": 3,
   "metadata": {},
   "outputs": [],
   "source": [
    "lista_alumnos = pd.DataFrame(lista_alumnos)\n",
    "lista_alumnos = lista_alumnos.rename(columns={0:\"nombre\", 1:\"edad\", 2:\"altura\"})"
   ]
  },
  {
   "cell_type": "code",
   "execution_count": 4,
   "metadata": {},
   "outputs": [
    {
     "data": {
      "text/html": [
       "<div>\n",
       "<style scoped>\n",
       "    .dataframe tbody tr th:only-of-type {\n",
       "        vertical-align: middle;\n",
       "    }\n",
       "\n",
       "    .dataframe tbody tr th {\n",
       "        vertical-align: top;\n",
       "    }\n",
       "\n",
       "    .dataframe thead th {\n",
       "        text-align: right;\n",
       "    }\n",
       "</style>\n",
       "<table border=\"1\" class=\"dataframe\">\n",
       "  <thead>\n",
       "    <tr style=\"text-align: right;\">\n",
       "      <th></th>\n",
       "      <th>nombre</th>\n",
       "      <th>edad</th>\n",
       "      <th>altura</th>\n",
       "    </tr>\n",
       "  </thead>\n",
       "  <tbody>\n",
       "    <tr>\n",
       "      <th>0</th>\n",
       "      <td>Caranchoa</td>\n",
       "      <td>24</td>\n",
       "      <td>1.82</td>\n",
       "    </tr>\n",
       "    <tr>\n",
       "      <th>1</th>\n",
       "      <td>Leo Messi</td>\n",
       "      <td>25</td>\n",
       "      <td>1.71</td>\n",
       "    </tr>\n",
       "    <tr>\n",
       "      <th>2</th>\n",
       "      <td>El bicho</td>\n",
       "      <td>35</td>\n",
       "      <td>1.66</td>\n",
       "    </tr>\n",
       "    <tr>\n",
       "      <th>3</th>\n",
       "      <td>Paquirrin</td>\n",
       "      <td>37</td>\n",
       "      <td>1.63</td>\n",
       "    </tr>\n",
       "    <tr>\n",
       "      <th>4</th>\n",
       "      <td>John Cobra</td>\n",
       "      <td>29</td>\n",
       "      <td>1.90</td>\n",
       "    </tr>\n",
       "    <tr>\n",
       "      <th>5</th>\n",
       "      <td>El tomate</td>\n",
       "      <td>27</td>\n",
       "      <td>1.80</td>\n",
       "    </tr>\n",
       "    <tr>\n",
       "      <th>6</th>\n",
       "      <td>El chucky de cieza</td>\n",
       "      <td>28</td>\n",
       "      <td>1.70</td>\n",
       "    </tr>\n",
       "    <tr>\n",
       "      <th>7</th>\n",
       "      <td>Chiquito de la Calzada</td>\n",
       "      <td>32</td>\n",
       "      <td>1.60</td>\n",
       "    </tr>\n",
       "    <tr>\n",
       "      <th>8</th>\n",
       "      <td>El cuñao</td>\n",
       "      <td>36</td>\n",
       "      <td>1.74</td>\n",
       "    </tr>\n",
       "    <tr>\n",
       "      <th>9</th>\n",
       "      <td>Rafa Nadal</td>\n",
       "      <td>45</td>\n",
       "      <td>1.72</td>\n",
       "    </tr>\n",
       "    <tr>\n",
       "      <th>10</th>\n",
       "      <td>Pau Gasol</td>\n",
       "      <td>41</td>\n",
       "      <td>1.65</td>\n",
       "    </tr>\n",
       "    <tr>\n",
       "      <th>11</th>\n",
       "      <td>El hermano de Pau Gasol</td>\n",
       "      <td>30</td>\n",
       "      <td>1.65</td>\n",
       "    </tr>\n",
       "    <tr>\n",
       "      <th>12</th>\n",
       "      <td>Joselito</td>\n",
       "      <td>40</td>\n",
       "      <td>1.60</td>\n",
       "    </tr>\n",
       "    <tr>\n",
       "      <th>13</th>\n",
       "      <td>Maria Isabel</td>\n",
       "      <td>39</td>\n",
       "      <td>1.80</td>\n",
       "    </tr>\n",
       "    <tr>\n",
       "      <th>14</th>\n",
       "      <td>Melody</td>\n",
       "      <td>23</td>\n",
       "      <td>1.77</td>\n",
       "    </tr>\n",
       "    <tr>\n",
       "      <th>15</th>\n",
       "      <td>Las ketchup</td>\n",
       "      <td>32</td>\n",
       "      <td>1.75</td>\n",
       "    </tr>\n",
       "    <tr>\n",
       "      <th>16</th>\n",
       "      <td>Pumuki</td>\n",
       "      <td>27</td>\n",
       "      <td>1.70</td>\n",
       "    </tr>\n",
       "    <tr>\n",
       "      <th>17</th>\n",
       "      <td>Naranjito</td>\n",
       "      <td>34</td>\n",
       "      <td>1.80</td>\n",
       "    </tr>\n",
       "    <tr>\n",
       "      <th>18</th>\n",
       "      <td>Espinete</td>\n",
       "      <td>27</td>\n",
       "      <td>1.77</td>\n",
       "    </tr>\n",
       "    <tr>\n",
       "      <th>19</th>\n",
       "      <td>El Feli</td>\n",
       "      <td>28</td>\n",
       "      <td>1.70</td>\n",
       "    </tr>\n",
       "    <tr>\n",
       "      <th>20</th>\n",
       "      <td>Jose Luis</td>\n",
       "      <td>35</td>\n",
       "      <td>1.80</td>\n",
       "    </tr>\n",
       "  </tbody>\n",
       "</table>\n",
       "</div>"
      ],
      "text/plain": [
       "                     nombre  edad  altura\n",
       "0                 Caranchoa    24    1.82\n",
       "1                 Leo Messi    25    1.71\n",
       "2                  El bicho    35    1.66\n",
       "3                 Paquirrin    37    1.63\n",
       "4                John Cobra    29    1.90\n",
       "5                 El tomate    27    1.80\n",
       "6        El chucky de cieza    28    1.70\n",
       "7    Chiquito de la Calzada    32    1.60\n",
       "8                  El cuñao    36    1.74\n",
       "9                Rafa Nadal    45    1.72\n",
       "10                Pau Gasol    41    1.65\n",
       "11  El hermano de Pau Gasol    30    1.65\n",
       "12                 Joselito    40    1.60\n",
       "13             Maria Isabel    39    1.80\n",
       "14                   Melody    23    1.77\n",
       "15              Las ketchup    32    1.75\n",
       "16                   Pumuki    27    1.70\n",
       "17                Naranjito    34    1.80\n",
       "18                 Espinete    27    1.77\n",
       "19                  El Feli    28    1.70\n",
       "20                Jose Luis    35    1.80"
      ]
     },
     "execution_count": 4,
     "metadata": {},
     "output_type": "execute_result"
    }
   ],
   "source": [
    "lista_alumnos"
   ]
  },
  {
   "cell_type": "markdown",
   "metadata": {},
   "source": [
    "Miramos la información del df, miramos si hay nans, si las columnas están en tipo object, float o int"
   ]
  },
  {
   "cell_type": "code",
   "execution_count": 5,
   "metadata": {},
   "outputs": [
    {
     "name": "stdout",
     "output_type": "stream",
     "text": [
      "<class 'pandas.core.frame.DataFrame'>\n",
      "RangeIndex: 21 entries, 0 to 20\n",
      "Data columns (total 3 columns):\n",
      " #   Column  Non-Null Count  Dtype  \n",
      "---  ------  --------------  -----  \n",
      " 0   nombre  21 non-null     object \n",
      " 1   edad    21 non-null     int64  \n",
      " 2   altura  21 non-null     float64\n",
      "dtypes: float64(1), int64(1), object(1)\n",
      "memory usage: 636.0+ bytes\n"
     ]
    }
   ],
   "source": [
    "# Muestra la info\n",
    "lista_alumnos.info()\n"
   ]
  },
  {
   "cell_type": "markdown",
   "metadata": {},
   "source": [
    "Miramos las estadísticas del df, si la media es muy alta en unas columnas y en otras no, en este caso habría que normalizar los datos."
   ]
  },
  {
   "cell_type": "code",
   "execution_count": 6,
   "metadata": {},
   "outputs": [
    {
     "data": {
      "text/html": [
       "<div>\n",
       "<style scoped>\n",
       "    .dataframe tbody tr th:only-of-type {\n",
       "        vertical-align: middle;\n",
       "    }\n",
       "\n",
       "    .dataframe tbody tr th {\n",
       "        vertical-align: top;\n",
       "    }\n",
       "\n",
       "    .dataframe thead th {\n",
       "        text-align: right;\n",
       "    }\n",
       "</style>\n",
       "<table border=\"1\" class=\"dataframe\">\n",
       "  <thead>\n",
       "    <tr style=\"text-align: right;\">\n",
       "      <th></th>\n",
       "      <th>edad</th>\n",
       "      <th>altura</th>\n",
       "    </tr>\n",
       "  </thead>\n",
       "  <tbody>\n",
       "    <tr>\n",
       "      <th>count</th>\n",
       "      <td>21.000000</td>\n",
       "      <td>21.000000</td>\n",
       "    </tr>\n",
       "    <tr>\n",
       "      <th>mean</th>\n",
       "      <td>32.095238</td>\n",
       "      <td>1.727143</td>\n",
       "    </tr>\n",
       "    <tr>\n",
       "      <th>std</th>\n",
       "      <td>6.081980</td>\n",
       "      <td>0.079003</td>\n",
       "    </tr>\n",
       "    <tr>\n",
       "      <th>min</th>\n",
       "      <td>23.000000</td>\n",
       "      <td>1.600000</td>\n",
       "    </tr>\n",
       "    <tr>\n",
       "      <th>25%</th>\n",
       "      <td>27.000000</td>\n",
       "      <td>1.660000</td>\n",
       "    </tr>\n",
       "    <tr>\n",
       "      <th>50%</th>\n",
       "      <td>32.000000</td>\n",
       "      <td>1.720000</td>\n",
       "    </tr>\n",
       "    <tr>\n",
       "      <th>75%</th>\n",
       "      <td>36.000000</td>\n",
       "      <td>1.800000</td>\n",
       "    </tr>\n",
       "    <tr>\n",
       "      <th>max</th>\n",
       "      <td>45.000000</td>\n",
       "      <td>1.900000</td>\n",
       "    </tr>\n",
       "  </tbody>\n",
       "</table>\n",
       "</div>"
      ],
      "text/plain": [
       "            edad     altura\n",
       "count  21.000000  21.000000\n",
       "mean   32.095238   1.727143\n",
       "std     6.081980   0.079003\n",
       "min    23.000000   1.600000\n",
       "25%    27.000000   1.660000\n",
       "50%    32.000000   1.720000\n",
       "75%    36.000000   1.800000\n",
       "max    45.000000   1.900000"
      ]
     },
     "execution_count": 6,
     "metadata": {},
     "output_type": "execute_result"
    }
   ],
   "source": [
    "# Muestra los estadísticos del df\n",
    "lista_alumnos.describe()\n"
   ]
  },
  {
   "cell_type": "markdown",
   "metadata": {},
   "source": [
    "Generamos un scatter plot para conocer la distribución de los datos"
   ]
  },
  {
   "cell_type": "code",
   "execution_count": 7,
   "metadata": {},
   "outputs": [
    {
     "data": {
      "text/plain": [
       "<matplotlib.collections.PathCollection at 0x127421b50>"
      ]
     },
     "execution_count": 7,
     "metadata": {},
     "output_type": "execute_result"
    },
    {
     "data": {
      "image/png": "[encoded data removed]",
      "text/plain": [
       "<Figure size 640x480 with 1 Axes>"
      ]
     },
     "metadata": {},
     "output_type": "display_data"
    }
   ],
   "source": [
    "# Genera un scatter plot con Edad y Altura\n",
    "plt.scatter(x = lista_alumnos.loc[:, \"edad\"], y= lista_alumnos.loc[:, \"altura\"])"
   ]
  },
  {
   "cell_type": "markdown",
   "metadata": {},
   "source": [
    "Así mismo, generamos un heatmap para conocer la correlación de X e Y. En este caso, nos fijaremos cuáles son las x que tienen más correlación con las y para nuestra muestra, si hay x que tienen poca relación en todo caso tendríamos que valorar si nos las cargamos. "
   ]
  },
  {
   "cell_type": "code",
   "execution_count": 8,
   "metadata": {},
   "outputs": [
    {
     "data": {
      "image/png": "[encoded data removed]",
      "text/plain": [
       "<Figure size 640x480 with 2 Axes>"
      ]
     },
     "metadata": {},
     "output_type": "display_data"
    }
   ],
   "source": [
    "# Genera un heatmap\n",
    "sns.heatmap(lista_alumnos.loc[: , [\"edad\", \"altura\"]].corr(), annot=True);"
   ]
  },
  {
   "cell_type": "code",
   "execution_count": 9,
   "metadata": {},
   "outputs": [
    {
     "name": "stderr",
     "output_type": "stream",
     "text": [
      "/var/folders/63/v12my1fn6ng3qhj_v65jgd000000gn/T/ipykernel_2106/1326017935.py:1: UserWarning: \n",
      "\n",
      "`distplot` is a deprecated function and will be removed in seaborn v0.14.0.\n",
      "\n",
      "Please adapt your code to use either `displot` (a figure-level function with\n",
      "similar flexibility) or `histplot` (an axes-level function for histograms).\n",
      "\n",
      "For a guide to updating your code to use the new functions, please see\n",
      "https://gist.github.com/mwaskom/de44147ed2974457ad6372750bbe5751\n",
      "\n",
      "  sns.distplot(lista_alumnos.loc[:, \"altura\"]);\n"
     ]
    },
    {
     "data": {
      "image/png": "[encoded data removed]",
      "text/plain": [
       "<Figure size 640x480 with 1 Axes>"
      ]
     },
     "metadata": {},
     "output_type": "display_data"
    }
   ],
   "source": [
    "sns.distplot(lista_alumnos.loc[:, \"altura\"]);"
   ]
  },
  {
   "cell_type": "markdown",
   "metadata": {},
   "source": [
    "Una vez ya hemos visto la relación de las x (variables independiente o variables de entrada) junto con las y (variable independiente, variable de salida), pasamos a entrenar el modelo de Machina Learning Supervisado"
   ]
  },
  {
   "cell_type": "markdown",
   "metadata": {},
   "source": [
    "### Training a lineal regresion model (x,y)\n",
    "\n",
    "Divide el df en features (X) y target (y)\n",
    "\n",
    "Paso 1.  Asignamos las variables para las x y el target y"
   ]
  },
  {
   "cell_type": "code",
   "execution_count": 10,
   "metadata": {},
   "outputs": [],
   "source": [
    "x = lista_alumnos.loc[:, [\"edad\"]]\n",
    "y = lista_alumnos.loc[:, \"altura\"]"
   ]
  },
  {
   "cell_type": "markdown",
   "metadata": {},
   "source": [
    "## Preparamos las muestras para el modelo\n",
    "\n",
    "Importamos la librería sklearn, dentro de esta model_selection > train_test_split\n",
    "\n",
    "Para ello, dividimos los datos en conjuntos de entrenamiento y test, en este caso se le ha asignado un 30% de test, por lo que entrenamos el modelo con el 70% de los datos y lo testeamos con el 30% restante.\n",
    "\n",
    "Qué es random_state: random_state=42: Es un valor que establece la semilla del generador de números aleatorios. Esto garantiza que la división de los datos sea reproducible; es decir, cada vez que corras el código con el mismo valor de random_state, obtendrás la misma división de los datos. Si no estableces un valor específico para random_state, obtendrás una división diferente cada vez que ejecutes el código.\n",
    "\n",
    "x_train, x_test, y_train, y_test: Son las variables que almacenarán los datos divididos:\n",
    "\n",
    "x_train: Conjunto de características de entrenamiento (70% de los datos).\n",
    "\n",
    "x_test: Conjunto de características de prueba (30% de los datos).\n",
    "\n",
    "y_train: Conjunto de variable objetivo de entrenamiento (correspondiente al 70% de los datos).\n",
    "\n",
    "y_test: Conjunto de variable objetivo de prueba (correspondiente al 30% de los datos)."
   ]
  },
  {
   "cell_type": "code",
   "execution_count": 11,
   "metadata": {},
   "outputs": [],
   "source": [
    "from sklearn.model_selection import train_test_split\n",
    "\n",
    "# Divide los datos en conjunto de entrenamiento y test\n",
    "# Siendo el tamaño del conjunto test un 30% y la semilla sea 42\n",
    "\n",
    "x_train, x_test, y_train, y_test = train_test_split(x, y, test_size = 0.30, random_state = 42)"
   ]
  },
  {
   "cell_type": "markdown",
   "metadata": {},
   "source": [
    "**X.shape** devuelve las dimensiones de x, que será una tupla con el número de filas y columnas. Por ejemplo, si x tiene 1000 muestras y 10 características, la salida sería (1000, 10).\n",
    "\n",
    "**X_train.shape** devuelve las dimensiones de x_train, es decir, el número de muestras de entrenamiento y el número de características. Por ejemplo, si se dividieron 1000 muestras y 10 características en un 70%-30%, la salida podría ser (700, 10) si tienes 700 muestras para entrenamiento.\n",
    "\n",
    "**y_train.shape** devuelve las dimensiones de y_train, que corresponderá al número de muestras de entrenamiento. En el ejemplo anterior, debería ser (700,), ya que hay 700 etiquetas de salida para las 700 muestras de entrenamiento\n",
    "\n",
    "**x_test.shape** devuelve las dimensiones de x_test, mostrando el número de muestras de prueba y el número de características. Siguiendo el ejemplo anterior, la salida podría ser (300, 10) si tienes 300 muestras de prueba.\n",
    "\n",
    "**y_test.shape** devuelve las dimensiones de y_test, es decir, el número de muestras de prueba. Siguiendo el ejemplo, la salida podría ser (300,), ya que hay 300 etiquetas de salida para las 300 muestras de prueba"
   ]
  },
  {
   "cell_type": "code",
   "execution_count": 12,
   "metadata": {},
   "outputs": [
    {
     "name": "stdout",
     "output_type": "stream",
     "text": [
      "Total features shape: (21, 1)\n",
      "Train features shape: (14, 1)\n",
      "Train target shape: (14,)\n",
      "Test features shape: (7, 1)\n",
      "Test target shape: (7,)\n"
     ]
    }
   ],
   "source": [
    "# Muestra el tamaño de X, X_train, y_train, X_test e y_test\n",
    "print(\"Total features shape:\", x.shape)\n",
    "print(\"Train features shape:\", x_train.shape)\n",
    "print(\"Train target shape:\", y_train.shape)\n",
    "print(\"Test features shape:\", x_test.shape)\n",
    "print(\"Test target shape:\", y_test.shape)"
   ]
  },
  {
   "cell_type": "markdown",
   "metadata": {},
   "source": [
    "## Instanciamos el modelo y lo entrenamos\n",
    "\n",
    "Importamos las librerías necesarias.\n",
    "\n",
    "LinearRegression() es una clase del módulo sklearn.linear_model que se utiliza para crear un modelo de regresión lineal. Lo asignamos a una variable.\n",
    "\n",
    "Instanciación: La línea de código instancia un modelo de regresión lineal, pero aún no lo entrena. En este punto, lm es un modelo \"vacío\" que necesita ser ajustado (entrenado) con datos de entrenamiento.\n",
    "Para entrenar el modelo, necesitarás usar el método fit() en un conjunto de datos. Por ejemplo: lm.fit(X_train, y_train) --> entrenamos el modelo con las variables de X e y train"
   ]
  },
  {
   "cell_type": "code",
   "execution_count": 36,
   "metadata": {},
   "outputs": [
    {
     "data": {
      "text/html": [
       "<style>#sk-container-id-2 {\n",
       "  /* Definition of color scheme common for light and dark mode */\n",
       "  --sklearn-color-text: black;\n",
       "  --sklearn-color-line: gray;\n",
       "  /* Definition of color scheme for unfitted estimators */\n",
       "  --sklearn-color-unfitted-level-0: #fff5e6;\n",
       "  --sklearn-color-unfitted-level-1: #f6e4d2;\n",
       "  --sklearn-color-unfitted-level-2: #ffe0b3;\n",
       "  --sklearn-color-unfitted-level-3: chocolate;\n",
       "  /* Definition of color scheme for fitted estimators */\n",
       "  --sklearn-color-fitted-level-0: #f0f8ff;\n",
       "  --sklearn-color-fitted-level-1: #d4ebff;\n",
       "  --sklearn-color-fitted-level-2: #b3dbfd;\n",
       "  --sklearn-color-fitted-level-3: cornflowerblue;\n",
       "\n",
       "  /* Specific color for light theme */\n",
       "  --sklearn-color-text-on-default-background: var(--sg-text-color, var(--theme-code-foreground, var(--jp-content-font-color1, black)));\n",
       "  --sklearn-color-background: var(--sg-background-color, var(--theme-background, var(--jp-layout-color0, white)));\n",
       "  --sklearn-color-border-box: var(--sg-text-color, var(--theme-code-foreground, var(--jp-content-font-color1, black)));\n",
       "  --sklearn-color-icon: #696969;\n",
       "\n",
       "  @media (prefers-color-scheme: dark) {\n",
       "    /* Redefinition of color scheme for dark theme */\n",
       "    --sklearn-color-text-on-default-background: var(--sg-text-color, var(--theme-code-foreground, var(--jp-content-font-color1, white)));\n",
       "    --sklearn-color-background: var(--sg-background-color, var(--theme-background, var(--jp-layout-color0, #111)));\n",
       "    --sklearn-color-border-box: var(--sg-text-color, var(--theme-code-foreground, var(--jp-content-font-color1, white)));\n",
       "    --sklearn-color-icon: #878787;\n",
       "  }\n",
       "}\n",
       "\n",
       "#sk-container-id-2 {\n",
       "  color: var(--sklearn-color-text);\n",
       "}\n",
       "\n",
       "#sk-container-id-2 pre {\n",
       "  padding: 0;\n",
       "}\n",
       "\n",
       "#sk-container-id-2 input.sk-hidden--visually {\n",
       "  border: 0;\n",
       "  clip: rect(1px 1px 1px 1px);\n",
       "  clip: rect(1px, 1px, 1px, 1px);\n",
       "  height: 1px;\n",
       "  margin: -1px;\n",
       "  overflow: hidden;\n",
       "  padding: 0;\n",
       "  position: absolute;\n",
       "  width: 1px;\n",
       "}\n",
       "\n",
       "#sk-container-id-2 div.sk-dashed-wrapped {\n",
       "  border: 1px dashed var(--sklearn-color-line);\n",
       "  margin: 0 0.4em 0.5em 0.4em;\n",
       "  box-sizing: border-box;\n",
       "  padding-bottom: 0.4em;\n",
       "  background-color: var(--sklearn-color-background);\n",
       "}\n",
       "\n",
       "#sk-container-id-2 div.sk-container {\n",
       "  /* jupyter's `normalize.less` sets `[hidden] { display: none; }`\n",
       "     but bootstrap.min.css set `[hidden] { display: none !important; }`\n",
       "     so we also need the `!important` here to be able to override the\n",
       "     default hidden behavior on the sphinx rendered scikit-learn.org.\n",
       "     See: https://github.com/scikit-learn/scikit-learn/issues/21755 */\n",
       "  display: inline-block !important;\n",
       "  position: relative;\n",
       "}\n",
       "\n",
       "#sk-container-id-2 div.sk-text-repr-fallback {\n",
       "  display: none;\n",
       "}\n",
       "\n",
       "div.sk-parallel-item,\n",
       "div.sk-serial,\n",
       "div.sk-item {\n",
       "  /* draw centered vertical line to link estimators */\n",
       "  background-image: linear-gradient(var(--sklearn-color-text-on-default-background), var(--sklearn-color-text-on-default-background));\n",
       "  background-size: 2px 100%;\n",
       "  background-repeat: no-repeat;\n",
       "  background-position: center center;\n",
       "}\n",
       "\n",
       "/* Parallel-specific style estimator block */\n",
       "\n",
       "#sk-container-id-2 div.sk-parallel-item::after {\n",
       "  content: \"\";\n",
       "  width: 100%;\n",
       "  border-bottom: 2px solid var(--sklearn-color-text-on-default-background);\n",
       "  flex-grow: 1;\n",
       "}\n",
       "\n",
       "#sk-container-id-2 div.sk-parallel {\n",
       "  display: flex;\n",
       "  align-items: stretch;\n",
       "  justify-content: center;\n",
       "  background-color: var(--sklearn-color-background);\n",
       "  position: relative;\n",
       "}\n",
       "\n",
       "#sk-container-id-2 div.sk-parallel-item {\n",
       "  display: flex;\n",
       "  flex-direction: column;\n",
       "}\n",
       "\n",
       "#sk-container-id-2 div.sk-parallel-item:first-child::after {\n",
       "  align-self: flex-end;\n",
       "  width: 50%;\n",
       "}\n",
       "\n",
       "#sk-container-id-2 div.sk-parallel-item:last-child::after {\n",
       "  align-self: flex-start;\n",
       "  width: 50%;\n",
       "}\n",
       "\n",
       "#sk-container-id-2 div.sk-parallel-item:only-child::after {\n",
       "  width: 0;\n",
       "}\n",
       "\n",
       "/* Serial-specific style estimator block */\n",
       "\n",
       "#sk-container-id-2 div.sk-serial {\n",
       "  display: flex;\n",
       "  flex-direction: column;\n",
       "  align-items: center;\n",
       "  background-color: var(--sklearn-color-background);\n",
       "  padding-right: 1em;\n",
       "  padding-left: 1em;\n",
       "}\n",
       "\n",
       "\n",
       "/* Toggleable style: style used for estimator/Pipeline/ColumnTransformer box that is\n",
       "clickable and can be expanded/collapsed.\n",
       "- Pipeline and ColumnTransformer use this feature and define the default style\n",
       "- Estimators will overwrite some part of the style using the `sk-estimator` class\n",
       "*/\n",
       "\n",
       "/* Pipeline and ColumnTransformer style (default) */\n",
       "\n",
       "#sk-container-id-2 div.sk-toggleable {\n",
       "  /* Default theme specific background. It is overwritten whether we have a\n",
       "  specific estimator or a Pipeline/ColumnTransformer */\n",
       "  background-color: var(--sklearn-color-background);\n",
       "}\n",
       "\n",
       "/* Toggleable label */\n",
       "#sk-container-id-2 label.sk-toggleable__label {\n",
       "  cursor: pointer;\n",
       "  display: block;\n",
       "  width: 100%;\n",
       "  margin-bottom: 0;\n",
       "  padding: 0.5em;\n",
       "  box-sizing: border-box;\n",
       "  text-align: center;\n",
       "}\n",
       "\n",
       "#sk-container-id-2 label.sk-toggleable__label-arrow:before {\n",
       "  /* Arrow on the left of the label */\n",
       "  content: \"▸\";\n",
       "  float: left;\n",
       "  margin-right: 0.25em;\n",
       "  color: var(--sklearn-color-icon);\n",
       "}\n",
       "\n",
       "#sk-container-id-2 label.sk-toggleable__label-arrow:hover:before {\n",
       "  color: var(--sklearn-color-text);\n",
       "}\n",
       "\n",
       "/* Toggleable content - dropdown */\n",
       "\n",
       "#sk-container-id-2 div.sk-toggleable__content {\n",
       "  max-height: 0;\n",
       "  max-width: 0;\n",
       "  overflow: hidden;\n",
       "  text-align: left;\n",
       "  /* unfitted */\n",
       "  background-color: var(--sklearn-color-unfitted-level-0);\n",
       "}\n",
       "\n",
       "#sk-container-id-2 div.sk-toggleable__content.fitted {\n",
       "  /* fitted */\n",
       "  background-color: var(--sklearn-color-fitted-level-0);\n",
       "}\n",
       "\n",
       "#sk-container-id-2 div.sk-toggleable__content pre {\n",
       "  margin: 0.2em;\n",
       "  border-radius: 0.25em;\n",
       "  color: var(--sklearn-color-text);\n",
       "  /* unfitted */\n",
       "  background-color: var(--sklearn-color-unfitted-level-0);\n",
       "}\n",
       "\n",
       "#sk-container-id-2 div.sk-toggleable__content.fitted pre {\n",
       "  /* unfitted */\n",
       "  background-color: var(--sklearn-color-fitted-level-0);\n",
       "}\n",
       "\n",
       "#sk-container-id-2 input.sk-toggleable__control:checked~div.sk-toggleable__content {\n",
       "  /* Expand drop-down */\n",
       "  max-height: 200px;\n",
       "  max-width: 100%;\n",
       "  overflow: auto;\n",
       "}\n",
       "\n",
       "#sk-container-id-2 input.sk-toggleable__control:checked~label.sk-toggleable__label-arrow:before {\n",
       "  content: \"▾\";\n",
       "}\n",
       "\n",
       "/* Pipeline/ColumnTransformer-specific style */\n",
       "\n",
       "#sk-container-id-2 div.sk-label input.sk-toggleable__control:checked~label.sk-toggleable__label {\n",
       "  color: var(--sklearn-color-text);\n",
       "  background-color: var(--sklearn-color-unfitted-level-2);\n",
       "}\n",
       "\n",
       "#sk-container-id-2 div.sk-label.fitted input.sk-toggleable__control:checked~label.sk-toggleable__label {\n",
       "  background-color: var(--sklearn-color-fitted-level-2);\n",
       "}\n",
       "\n",
       "/* Estimator-specific style */\n",
       "\n",
       "/* Colorize estimator box */\n",
       "#sk-container-id-2 div.sk-estimator input.sk-toggleable__control:checked~label.sk-toggleable__label {\n",
       "  /* unfitted */\n",
       "  background-color: var(--sklearn-color-unfitted-level-2);\n",
       "}\n",
       "\n",
       "#sk-container-id-2 div.sk-estimator.fitted input.sk-toggleable__control:checked~label.sk-toggleable__label {\n",
       "  /* fitted */\n",
       "  background-color: var(--sklearn-color-fitted-level-2);\n",
       "}\n",
       "\n",
       "#sk-container-id-2 div.sk-label label.sk-toggleable__label,\n",
       "#sk-container-id-2 div.sk-label label {\n",
       "  /* The background is the default theme color */\n",
       "  color: var(--sklearn-color-text-on-default-background);\n",
       "}\n",
       "\n",
       "/* On hover, darken the color of the background */\n",
       "#sk-container-id-2 div.sk-label:hover label.sk-toggleable__label {\n",
       "  color: var(--sklearn-color-text);\n",
       "  background-color: var(--sklearn-color-unfitted-level-2);\n",
       "}\n",
       "\n",
       "/* Label box, darken color on hover, fitted */\n",
       "#sk-container-id-2 div.sk-label.fitted:hover label.sk-toggleable__label.fitted {\n",
       "  color: var(--sklearn-color-text);\n",
       "  background-color: var(--sklearn-color-fitted-level-2);\n",
       "}\n",
       "\n",
       "/* Estimator label */\n",
       "\n",
       "#sk-container-id-2 div.sk-label label {\n",
       "  font-family: monospace;\n",
       "  font-weight: bold;\n",
       "  display: inline-block;\n",
       "  line-height: 1.2em;\n",
       "}\n",
       "\n",
       "#sk-container-id-2 div.sk-label-container {\n",
       "  text-align: center;\n",
       "}\n",
       "\n",
       "/* Estimator-specific */\n",
       "#sk-container-id-2 div.sk-estimator {\n",
       "  font-family: monospace;\n",
       "  border: 1px dotted var(--sklearn-color-border-box);\n",
       "  border-radius: 0.25em;\n",
       "  box-sizing: border-box;\n",
       "  margin-bottom: 0.5em;\n",
       "  /* unfitted */\n",
       "  background-color: var(--sklearn-color-unfitted-level-0);\n",
       "}\n",
       "\n",
       "#sk-container-id-2 div.sk-estimator.fitted {\n",
       "  /* fitted */\n",
       "  background-color: var(--sklearn-color-fitted-level-0);\n",
       "}\n",
       "\n",
       "/* on hover */\n",
       "#sk-container-id-2 div.sk-estimator:hover {\n",
       "  /* unfitted */\n",
       "  background-color: var(--sklearn-color-unfitted-level-2);\n",
       "}\n",
       "\n",
       "#sk-container-id-2 div.sk-estimator.fitted:hover {\n",
       "  /* fitted */\n",
       "  background-color: var(--sklearn-color-fitted-level-2);\n",
       "}\n",
       "\n",
       "/* Specification for estimator info (e.g. \"i\" and \"?\") */\n",
       "\n",
       "/* Common style for \"i\" and \"?\" */\n",
       "\n",
       ".sk-estimator-doc-link,\n",
       "a:link.sk-estimator-doc-link,\n",
       "a:visited.sk-estimator-doc-link {\n",
       "  float: right;\n",
       "  font-size: smaller;\n",
       "  line-height: 1em;\n",
       "  font-family: monospace;\n",
       "  background-color: var(--sklearn-color-background);\n",
       "  border-radius: 1em;\n",
       "  height: 1em;\n",
       "  width: 1em;\n",
       "  text-decoration: none !important;\n",
       "  margin-left: 1ex;\n",
       "  /* unfitted */\n",
       "  border: var(--sklearn-color-unfitted-level-1) 1pt solid;\n",
       "  color: var(--sklearn-color-unfitted-level-1);\n",
       "}\n",
       "\n",
       ".sk-estimator-doc-link.fitted,\n",
       "a:link.sk-estimator-doc-link.fitted,\n",
       "a:visited.sk-estimator-doc-link.fitted {\n",
       "  /* fitted */\n",
       "  border: var(--sklearn-color-fitted-level-1) 1pt solid;\n",
       "  color: var(--sklearn-color-fitted-level-1);\n",
       "}\n",
       "\n",
       "/* On hover */\n",
       "div.sk-estimator:hover .sk-estimator-doc-link:hover,\n",
       ".sk-estimator-doc-link:hover,\n",
       "div.sk-label-container:hover .sk-estimator-doc-link:hover,\n",
       ".sk-estimator-doc-link:hover {\n",
       "  /* unfitted */\n",
       "  background-color: var(--sklearn-color-unfitted-level-3);\n",
       "  color: var(--sklearn-color-background);\n",
       "  text-decoration: none;\n",
       "}\n",
       "\n",
       "div.sk-estimator.fitted:hover .sk-estimator-doc-link.fitted:hover,\n",
       ".sk-estimator-doc-link.fitted:hover,\n",
       "div.sk-label-container:hover .sk-estimator-doc-link.fitted:hover,\n",
       ".sk-estimator-doc-link.fitted:hover {\n",
       "  /* fitted */\n",
       "  background-color: var(--sklearn-color-fitted-level-3);\n",
       "  color: var(--sklearn-color-background);\n",
       "  text-decoration: none;\n",
       "}\n",
       "\n",
       "/* Span, style for the box shown on hovering the info icon */\n",
       ".sk-estimator-doc-link span {\n",
       "  display: none;\n",
       "  z-index: 9999;\n",
       "  position: relative;\n",
       "  font-weight: normal;\n",
       "  right: .2ex;\n",
       "  padding: .5ex;\n",
       "  margin: .5ex;\n",
       "  width: min-content;\n",
       "  min-width: 20ex;\n",
       "  max-width: 50ex;\n",
       "  color: var(--sklearn-color-text);\n",
       "  box-shadow: 2pt 2pt 4pt #999;\n",
       "  /* unfitted */\n",
       "  background: var(--sklearn-color-unfitted-level-0);\n",
       "  border: .5pt solid var(--sklearn-color-unfitted-level-3);\n",
       "}\n",
       "\n",
       ".sk-estimator-doc-link.fitted span {\n",
       "  /* fitted */\n",
       "  background: var(--sklearn-color-fitted-level-0);\n",
       "  border: var(--sklearn-color-fitted-level-3);\n",
       "}\n",
       "\n",
       ".sk-estimator-doc-link:hover span {\n",
       "  display: block;\n",
       "}\n",
       "\n",
       "/* \"?\"-specific style due to the `<a>` HTML tag */\n",
       "\n",
       "#sk-container-id-2 a.estimator_doc_link {\n",
       "  float: right;\n",
       "  font-size: 1rem;\n",
       "  line-height: 1em;\n",
       "  font-family: monospace;\n",
       "  background-color: var(--sklearn-color-background);\n",
       "  border-radius: 1rem;\n",
       "  height: 1rem;\n",
       "  width: 1rem;\n",
       "  text-decoration: none;\n",
       "  /* unfitted */\n",
       "  color: var(--sklearn-color-unfitted-level-1);\n",
       "  border: var(--sklearn-color-unfitted-level-1) 1pt solid;\n",
       "}\n",
       "\n",
       "#sk-container-id-2 a.estimator_doc_link.fitted {\n",
       "  /* fitted */\n",
       "  border: var(--sklearn-color-fitted-level-1) 1pt solid;\n",
       "  color: var(--sklearn-color-fitted-level-1);\n",
       "}\n",
       "\n",
       "/* On hover */\n",
       "#sk-container-id-2 a.estimator_doc_link:hover {\n",
       "  /* unfitted */\n",
       "  background-color: var(--sklearn-color-unfitted-level-3);\n",
       "  color: var(--sklearn-color-background);\n",
       "  text-decoration: none;\n",
       "}\n",
       "\n",
       "#sk-container-id-2 a.estimator_doc_link.fitted:hover {\n",
       "  /* fitted */\n",
       "  background-color: var(--sklearn-color-fitted-level-3);\n",
       "}\n",
       "</style><div id=\"sk-container-id-2\" class=\"sk-top-container\"><div class=\"sk-text-repr-fallback\"><pre>LinearRegression()</pre><b>In a Jupyter environment, please rerun this cell to show the HTML representation or trust the notebook. <br />On GitHub, the HTML representation is unable to render, please try loading this page with nbviewer.org.</b></div><div class=\"sk-container\" hidden><div class=\"sk-item\"><div class=\"sk-estimator fitted sk-toggleable\"><input class=\"sk-toggleable__control sk-hidden--visually\" id=\"sk-estimator-id-2\" type=\"checkbox\" checked><label for=\"sk-estimator-id-2\" class=\"sk-toggleable__label fitted sk-toggleable__label-arrow fitted\">&nbsp;&nbsp;LinearRegression<a class=\"sk-estimator-doc-link fitted\" rel=\"noreferrer\" target=\"_blank\" href=\"https://scikit-learn.org/1.5/modules/generated/sklearn.linear_model.LinearRegression.html\">?<span>Documentation for LinearRegression</span></a><span class=\"sk-estimator-doc-link fitted\">i<span>Fitted</span></span></label><div class=\"sk-toggleable__content fitted\"><pre>LinearRegression()</pre></div> </div></div></div></div>"
      ],
      "text/plain": [
       "LinearRegression()"
      ]
     },
     "execution_count": 36,
     "metadata": {},
     "output_type": "execute_result"
    }
   ],
   "source": [
    "from sklearn.linear_model import LinearRegression\n",
    "lm = LinearRegression()\n",
    "lm.fit(x_train, y_train)"
   ]
  },
  {
   "cell_type": "markdown",
   "metadata": {},
   "source": [
    "## Evaluación del modelo\n",
    "\n",
    "**Intercepto**\n",
    "\n",
    "intercept_ es un atributo del modelo de regresión lineal que contiene el valor del intercepto de la recta ajustada.\n",
    "En la ecuación de una regresión lineal simple (con una sola característica de entrada), el modelo tiene la forma: y=b0 + b1x.\n",
    "\n",
    "Donde b0 es el intercepto, el valor de y cuando x=0\n",
    "\n",
    "b1 es el coeficiente de la pendiente\n",
    "\n",
    "Esta línea imprime el valor del intercepto (b0) del modelo de regresión lineal ajustado. El intercepto es el valor predicho de la variable dependiente 𝑦 y cuando todas las características de entrada son cero.\n",
    "\n",
    "Un intercepto de 1.8520906282183314 significa que, según el modelo de regresión lineal, cuando todas las variables de entrada (x1, x2 ...) son cero, que x=0, la predicción de la variable objetivo 𝑦 y será aproximadamente 1.85. Este valor proporciona un punto de referencia para las predicciones del modelo.\n",
    "\n",
    "**Coeficiente**\n",
    "\n",
    "lm: Es la instancia del modelo de regresión lineal que has creado y entrenado previamente utilizando LinearRegression() y el método fit(). En este caso, lm ya contiene los parámetros aprendidos del modelo.\n",
    "coef_:\n",
    "\n",
    "Es un atributo del modelo de regresión lineal que almacena los coeficientes de la ecuación de la recta de regresión.\n",
    "\n",
    "En un modelo de regresión lineal simple (con una sola característica), la ecuación tiene la forma: y = b0 +b1x1\n",
    "\n",
    "Donde b0 es el intercepto. b1, b2 ...bn son los coeficientes que indican cómo cada característica x1, x2 ... afecta a la variable objeto y. \n",
    "\n",
    ".coef_ devuelve un array de valores que corresponden a los coeficientes b1, b2 ... del modelo. Estos coefieicnetes se calculan durante el proceso de entrenamiento y son lo que define la relación entre cada característica xi y la variable objetivo y.\n",
    "\n",
    "**EJEMPLO**\n",
    "\n",
    "Supongamos que tienes un modelo de regresión lineal con dos características de entrada, x1 y x2, y la ecuación del modelo resultante es: y = 3 +2x1 -1x2.\n",
    "\n",
    "En este caso:\n",
    "- El intercepto b0 = 3\n",
    "\n",
    "- El coeficiente de x1 (es decir b1) es 2\n",
    "\n",
    "- El coeficiente de x2 (es decir b2) es -1\n",
    "\n",
    "Al llamar a print(lm.coef_) en este modelo, la salida sería algo como: [2. -1]\n",
    "\n",
    "Este resultado indica que:\n",
    "\n",
    "Para cada unidad que aumenta en x1, la variable objetivo y aumenta en 2 unidades. \n",
    "\n",
    "Para cada unidad que aumenta en x2, la variable objetivo 𝑦 y disminuye en 1 unidad (ya que el coeficiente es negativo).\n",
    "\n",
    "¿Qué nos dice cada coeficiente?\n",
    "**Coeficientes positivos:** Un coeficiente positivo indica que a medida que la característica xi aumenta, la variable objetivo 𝑦 y también aumenta.\n",
    "\n",
    "**Coeficientes negativos:** Un coeficiente negativo indica que a medida que la característica xi aumenta la variable objetivo 𝑦 y disminuye.\n",
    "\n",
    "**Valor cercano a cero:** Si un coeficiente está cerca de cero, significa que esa característica tiene una relación débil o casi nula con la variable objetivo."
   ]
  },
  {
   "cell_type": "code",
   "execution_count": 37,
   "metadata": {},
   "outputs": [
    {
     "name": "stdout",
     "output_type": "stream",
     "text": [
      "1.8520906282183314\n"
     ]
    }
   ],
   "source": [
    "# imprime el intercepto y el coeficiente\n",
    "print(lm.intercept_)"
   ]
  },
  {
   "cell_type": "code",
   "execution_count": 17,
   "metadata": {},
   "outputs": [
    {
     "name": "stdout",
     "output_type": "stream",
     "text": [
      "[-0.00414006]\n"
     ]
    }
   ],
   "source": [
    "# imprime el intercepto y el coeficiente\n",
    "print(lm.coef_)"
   ]
  },
  {
   "cell_type": "markdown",
   "metadata": {},
   "source": [
    "(Altura) = 1.85 - 0.0041*(Edad)"
   ]
  },
  {
   "cell_type": "markdown",
   "metadata": {},
   "source": [
    "## Interpretación de coeficientes"
   ]
  },
  {
   "cell_type": "code",
   "execution_count": 18,
   "metadata": {},
   "outputs": [
    {
     "data": {
      "text/html": [
       "<div>\n",
       "<style scoped>\n",
       "    .dataframe tbody tr th:only-of-type {\n",
       "        vertical-align: middle;\n",
       "    }\n",
       "\n",
       "    .dataframe tbody tr th {\n",
       "        vertical-align: top;\n",
       "    }\n",
       "\n",
       "    .dataframe thead th {\n",
       "        text-align: right;\n",
       "    }\n",
       "</style>\n",
       "<table border=\"1\" class=\"dataframe\">\n",
       "  <thead>\n",
       "    <tr style=\"text-align: right;\">\n",
       "      <th></th>\n",
       "      <th>Coefficient</th>\n",
       "    </tr>\n",
       "  </thead>\n",
       "  <tbody>\n",
       "    <tr>\n",
       "      <th>edad</th>\n",
       "      <td>-0.00414</td>\n",
       "    </tr>\n",
       "  </tbody>\n",
       "</table>\n",
       "</div>"
      ],
      "text/plain": [
       "      Coefficient\n",
       "edad     -0.00414"
      ]
     },
     "execution_count": 18,
     "metadata": {},
     "output_type": "execute_result"
    }
   ],
   "source": [
    "coeff_df = pd.DataFrame(lm.coef_,\n",
    "                        x.columns,\n",
    "                        columns=['Coefficient'])\n",
    "coeff_df"
   ]
  },
  {
   "cell_type": "markdown",
   "metadata": {},
   "source": [
    "## Predicciones de nuestro modelo"
   ]
  },
  {
   "cell_type": "code",
   "execution_count": 19,
   "metadata": {},
   "outputs": [
    {
     "data": {
      "text/html": [
       "<div>\n",
       "<style scoped>\n",
       "    .dataframe tbody tr th:only-of-type {\n",
       "        vertical-align: middle;\n",
       "    }\n",
       "\n",
       "    .dataframe tbody tr th {\n",
       "        vertical-align: top;\n",
       "    }\n",
       "\n",
       "    .dataframe thead th {\n",
       "        text-align: right;\n",
       "    }\n",
       "</style>\n",
       "<table border=\"1\" class=\"dataframe\">\n",
       "  <thead>\n",
       "    <tr style=\"text-align: right;\">\n",
       "      <th></th>\n",
       "      <th>edad</th>\n",
       "    </tr>\n",
       "  </thead>\n",
       "  <tbody>\n",
       "    <tr>\n",
       "      <th>0</th>\n",
       "      <td>24</td>\n",
       "    </tr>\n",
       "    <tr>\n",
       "      <th>17</th>\n",
       "      <td>34</td>\n",
       "    </tr>\n",
       "    <tr>\n",
       "      <th>15</th>\n",
       "      <td>32</td>\n",
       "    </tr>\n",
       "    <tr>\n",
       "      <th>1</th>\n",
       "      <td>25</td>\n",
       "    </tr>\n",
       "    <tr>\n",
       "      <th>8</th>\n",
       "      <td>36</td>\n",
       "    </tr>\n",
       "    <tr>\n",
       "      <th>5</th>\n",
       "      <td>27</td>\n",
       "    </tr>\n",
       "    <tr>\n",
       "      <th>11</th>\n",
       "      <td>30</td>\n",
       "    </tr>\n",
       "  </tbody>\n",
       "</table>\n",
       "</div>"
      ],
      "text/plain": [
       "    edad\n",
       "0     24\n",
       "17    34\n",
       "15    32\n",
       "1     25\n",
       "8     36\n",
       "5     27\n",
       "11    30"
      ]
     },
     "execution_count": 19,
     "metadata": {},
     "output_type": "execute_result"
    }
   ],
   "source": [
    "# Realiza una predicción con el conjunto de test\n",
    "predictit = pd.DataFrame(x_test)\n",
    "predictit"
   ]
  },
  {
   "cell_type": "code",
   "execution_count": 20,
   "metadata": {},
   "outputs": [],
   "source": [
    "lista_alumnos = lista_alumnos.rename(columns={0:\"nombre\", 1:\"edad\", 2:\"altura\"})"
   ]
  },
  {
   "cell_type": "code",
   "execution_count": 21,
   "metadata": {},
   "outputs": [
    {
     "data": {
      "text/html": [
       "<div>\n",
       "<style scoped>\n",
       "    .dataframe tbody tr th:only-of-type {\n",
       "        vertical-align: middle;\n",
       "    }\n",
       "\n",
       "    .dataframe tbody tr th {\n",
       "        vertical-align: top;\n",
       "    }\n",
       "\n",
       "    .dataframe thead th {\n",
       "        text-align: right;\n",
       "    }\n",
       "</style>\n",
       "<table border=\"1\" class=\"dataframe\">\n",
       "  <thead>\n",
       "    <tr style=\"text-align: right;\">\n",
       "      <th></th>\n",
       "      <th>edad</th>\n",
       "      <th>predicciones</th>\n",
       "      <th>altura</th>\n",
       "    </tr>\n",
       "  </thead>\n",
       "  <tbody>\n",
       "    <tr>\n",
       "      <th>0</th>\n",
       "      <td>24</td>\n",
       "      <td>1.752729</td>\n",
       "      <td>1.82</td>\n",
       "    </tr>\n",
       "    <tr>\n",
       "      <th>17</th>\n",
       "      <td>34</td>\n",
       "      <td>1.711329</td>\n",
       "      <td>1.80</td>\n",
       "    </tr>\n",
       "    <tr>\n",
       "      <th>15</th>\n",
       "      <td>32</td>\n",
       "      <td>1.719609</td>\n",
       "      <td>1.75</td>\n",
       "    </tr>\n",
       "    <tr>\n",
       "      <th>1</th>\n",
       "      <td>25</td>\n",
       "      <td>1.748589</td>\n",
       "      <td>1.71</td>\n",
       "    </tr>\n",
       "    <tr>\n",
       "      <th>8</th>\n",
       "      <td>36</td>\n",
       "      <td>1.703048</td>\n",
       "      <td>1.74</td>\n",
       "    </tr>\n",
       "    <tr>\n",
       "      <th>5</th>\n",
       "      <td>27</td>\n",
       "      <td>1.740309</td>\n",
       "      <td>1.80</td>\n",
       "    </tr>\n",
       "    <tr>\n",
       "      <th>11</th>\n",
       "      <td>30</td>\n",
       "      <td>1.727889</td>\n",
       "      <td>1.65</td>\n",
       "    </tr>\n",
       "  </tbody>\n",
       "</table>\n",
       "</div>"
      ],
      "text/plain": [
       "    edad  predicciones  altura\n",
       "0     24      1.752729    1.82\n",
       "17    34      1.711329    1.80\n",
       "15    32      1.719609    1.75\n",
       "1     25      1.748589    1.71\n",
       "8     36      1.703048    1.74\n",
       "5     27      1.740309    1.80\n",
       "11    30      1.727889    1.65"
      ]
     },
     "execution_count": 21,
     "metadata": {},
     "output_type": "execute_result"
    }
   ],
   "source": [
    "# Crea un df con el conjunto de test\n",
    "# df_test\n",
    "# Añade una columna con la predicción\n",
    "# Añade una columna con la altura real\n",
    "predictions = lm.predict(x_test)\n",
    "df_test = pd.DataFrame(x_test)\n",
    "df_test = df_test.rename(columns={0:\"prediccion\"})\n",
    "df_test[\"predicciones\"]=predictions\n",
    "df_test[\"altura\"]=y_test\n",
    "df_test"
   ]
  },
  {
   "cell_type": "code",
   "execution_count": 22,
   "metadata": {},
   "outputs": [
    {
     "data": {
      "image/png": "[encoded data removed]",
      "text/plain": [
       "<Figure size 640x480 with 1 Axes>"
      ]
     },
     "metadata": {},
     "output_type": "display_data"
    }
   ],
   "source": [
    "# Crea un plot con los datos reales y la predicción\n",
    "sns.scatterplot(x=df_test.loc[:,\"edad\"], y=df_test.loc[:,\"altura\"]);\n",
    "sns.lineplot(x = df_test[\"edad\"], y = df_test[\"predicciones\"], color=\"red\");"
   ]
  },
  {
   "cell_type": "markdown",
   "metadata": {},
   "source": [
    "\n",
    "La función score del modelo de regresión lineal, evalua el desempeño del modelo en un conjunto de prueba. En regresión lineal, el método score() devuelve el coeficiente de determinación R**2 o R al cuadrado, una medida que indica qué tan bien se ajusta el modelo a los datos de prueba.\n",
    "\n",
    "Si el modelo es muy malo el R2 tiende a ser negativo, lo que indica que el modelo está haciendo peores predicciones que una simple media. \n",
    "\n",
    "Si por ejemplo nos da un score de 0.85% significa que la varianza de los datos de prueba es explicada por el modelo de regresión lineal. El modelo tiene un buen desempeño ya que su valor R2 es cercano a 1. "
   ]
  },
  {
   "cell_type": "code",
   "execution_count": 23,
   "metadata": {},
   "outputs": [
    {
     "data": {
      "text/plain": [
       "-0.19742015635643928"
      ]
     },
     "execution_count": 23,
     "metadata": {},
     "output_type": "execute_result"
    }
   ],
   "source": [
    "# Muestra el score del módelo\n",
    "from sklearn import metrics\n",
    "\n",
    "lm.score(x_test, y_test)"
   ]
  },
  {
   "cell_type": "markdown",
   "metadata": {},
   "source": [
    "## Métricas para evaluar el modelo\n",
    "\n",
    "Tres métricas clave de evaluación de modelos de regresión: Mean Absolute Error (MAE), Mean Squared Error (MSE) y Root Mean Squared Error (RMSE). Estas métricas se utilizan para cuantificar el error entre las predicciones del modelo y los valores reales.\n",
    "\n",
    "**MAE (Mean Absolute Error)** mide el error promedio entre las predicciones del modelo y los valores reales. Se calcula como el promedio de las diferencias absolutas entre las predicciones y los valores reales.\n",
    "Interpretación:\n",
    "\n",
    "Un MAE bajo indica que las predicciones están bastante cerca de los valores reales, es decir, el modelo está cometiendo pocos errores.\n",
    "\n",
    "Un MAE alto indica que el modelo está haciendo errores grandes en las predicciones.\n",
    "\n",
    "Ejemplo: Si el MAE es 5.2, eso significa que, en promedio, el modelo se equivoca en 5.2 unidades en sus predicciones.\n",
    "\n",
    "**MSE (Mean Squared Error)** mide el error cuadrático medio entre las predicciones y los valores reales. Se calcula como el promedio de los cuadrados de las diferencias entre las predicciones y los valores reales.\n",
    "Interpretación:\n",
    "Un MSE bajo significa que las predicciones están cerca de los valores reales, pero es sensible a los errores grandes, ya que se elevan al cuadrado.\n",
    "\n",
    "Un MSE alto indica que el modelo está cometiendo errores grandes en sus predicciones.\n",
    "\n",
    "Ejemplo: Si el MSE es 30.25, esto indica que, en promedio, las diferencias al cuadrado entre las predicciones y los valores reales son de 30.25 unidades cuadradas.\n",
    "\n",
    "**RMSE (Root Mean Squared Error)** es la raíz cuadrada del MSE. Al tomar la raíz cuadrada, el RMSE devuelve un valor en las mismas unidades que los datos originales, lo que lo hace más interpretable en comparación con el MSE.\n",
    "Interpretación:\n",
    "\n",
    "Un RMSE bajo indica que el modelo hace predicciones precisas.\n",
    "\n",
    "Un RMSE alto indica que el modelo tiene grandes errores de predicción.\n",
    "\n",
    "Ejemplo: Si el RMSE es 5.5, eso significa que, en promedio, el modelo se equivoca en 5.5 unidades (en las mismas unidades que los datos originales).\n",
    "\n",
    "**MAPE** es una métrica que mide el error relativo entre las predicciones del modelo y los valores reales, expresado como un porcentaje. Es particularmente útil cuando se desea comprender el rendimiento del modelo de manera proporcional o relativa, en lugar de absoluta.\n",
    "Interpreteción:\n",
    "\n",
    "MAPE bajo: Un valor bajo de MAPE indica que el modelo tiene un buen rendimiento y hace predicciones cercanas a los valores reales en términos relativos.\n",
    "\n",
    "MAPE alto: Un valor alto de MAPE significa que el modelo está cometiendo errores relativamente grandes, especialmente en comparación con los valores reales.\n",
    "\n",
    "**EJEMPLO**\n",
    "\n",
    "MAE = 3.5: El modelo tiene un error promedio de 3.5 unidades en sus predicciones.\n",
    "\n",
    "MSE = 25.6: El error cuadrático promedio es 25.6, lo que indica que hay una cierta cantidad de error acumulado, con penalización por grandes errores.\n",
    "\n",
    "RMSE = 5.06: La raíz cuadrada del error cuadrático medio es 5.06, lo que nos da un valor interpretativo en las mismas unidades de los datos."
   ]
  },
  {
   "cell_type": "code",
   "execution_count": 24,
   "metadata": {},
   "outputs": [],
   "source": [
    "from sklearn.metrics import mean_absolute_error, mean_squared_error, mean_absolute_percentage_error\n"
   ]
  },
  {
   "cell_type": "code",
   "execution_count": 38,
   "metadata": {},
   "outputs": [
    {
     "name": "stdout",
     "output_type": "stream",
     "text": [
      "MAE: 0.05706488156539665\n",
      "MSE: 0.0036851216240520687\n",
      "RMSE: 0.060705202611078306\n",
      "MAPE: 0.03253724207144201\n"
     ]
    }
   ],
   "source": [
    "# Muestra el Mean Absolute Error, el Mean Squared Error y el Root Mean Squared Error\n",
    "print('MAE:', metrics.mean_absolute_error(y_test, predictions))\n",
    "print('MSE:', metrics.mean_squared_error(y_test, predictions))\n",
    "print('RMSE:', np.sqrt(metrics.mean_squared_error(y_test, predictions)))\n",
    "print('MAPE:', metrics.mean_absolute_percentage_error(y_test, predictions))"
   ]
  },
  {
   "cell_type": "code",
   "execution_count": 27,
   "metadata": {},
   "outputs": [
    {
     "data": {
      "text/plain": [
       "1.5015"
      ]
     },
     "execution_count": 27,
     "metadata": {},
     "output_type": "execute_result"
    }
   ],
   "source": [
    "# Muestra cual sería la predicción para 85 años de edad\n",
    "octogenario= 1.85 -0.0041*85\n",
    "octogenario"
   ]
  },
  {
   "cell_type": "code",
   "execution_count": 28,
   "metadata": {},
   "outputs": [
    {
     "data": {
      "text/html": [
       "<div>\n",
       "<style scoped>\n",
       "    .dataframe tbody tr th:only-of-type {\n",
       "        vertical-align: middle;\n",
       "    }\n",
       "\n",
       "    .dataframe tbody tr th {\n",
       "        vertical-align: top;\n",
       "    }\n",
       "\n",
       "    .dataframe thead th {\n",
       "        text-align: right;\n",
       "    }\n",
       "</style>\n",
       "<table border=\"1\" class=\"dataframe\">\n",
       "  <thead>\n",
       "    <tr style=\"text-align: right;\">\n",
       "      <th></th>\n",
       "      <th>edad</th>\n",
       "      <th>predicciones</th>\n",
       "      <th>altura</th>\n",
       "    </tr>\n",
       "  </thead>\n",
       "  <tbody>\n",
       "    <tr>\n",
       "      <th>0</th>\n",
       "      <td>24</td>\n",
       "      <td>1.752729</td>\n",
       "      <td>1.82</td>\n",
       "    </tr>\n",
       "    <tr>\n",
       "      <th>17</th>\n",
       "      <td>34</td>\n",
       "      <td>1.711329</td>\n",
       "      <td>1.80</td>\n",
       "    </tr>\n",
       "    <tr>\n",
       "      <th>15</th>\n",
       "      <td>32</td>\n",
       "      <td>1.719609</td>\n",
       "      <td>1.75</td>\n",
       "    </tr>\n",
       "    <tr>\n",
       "      <th>1</th>\n",
       "      <td>25</td>\n",
       "      <td>1.748589</td>\n",
       "      <td>1.71</td>\n",
       "    </tr>\n",
       "    <tr>\n",
       "      <th>8</th>\n",
       "      <td>36</td>\n",
       "      <td>1.703048</td>\n",
       "      <td>1.74</td>\n",
       "    </tr>\n",
       "    <tr>\n",
       "      <th>5</th>\n",
       "      <td>27</td>\n",
       "      <td>1.740309</td>\n",
       "      <td>1.80</td>\n",
       "    </tr>\n",
       "    <tr>\n",
       "      <th>11</th>\n",
       "      <td>30</td>\n",
       "      <td>1.727889</td>\n",
       "      <td>1.65</td>\n",
       "    </tr>\n",
       "  </tbody>\n",
       "</table>\n",
       "</div>"
      ],
      "text/plain": [
       "    edad  predicciones  altura\n",
       "0     24      1.752729    1.82\n",
       "17    34      1.711329    1.80\n",
       "15    32      1.719609    1.75\n",
       "1     25      1.748589    1.71\n",
       "8     36      1.703048    1.74\n",
       "5     27      1.740309    1.80\n",
       "11    30      1.727889    1.65"
      ]
     },
     "execution_count": 28,
     "metadata": {},
     "output_type": "execute_result"
    }
   ],
   "source": [
    "df_test"
   ]
  },
  {
   "cell_type": "code",
   "execution_count": 29,
   "metadata": {},
   "outputs": [
    {
     "name": "stdout",
     "output_type": "stream",
     "text": [
      "MAE: 0.05706488156539665\n",
      "MSE: 0.0036851216240520687\n",
      "RMSE: 0.060705202611078306\n",
      "MAPE: 0.03253724207144201\n"
     ]
    }
   ],
   "source": [
    "# Ahora vamos a calcular el MAE, MSE, RMSE y MAPE a mano\n",
    "\n",
    "MAE =sum(np.abs(df_test[\"predicciones\"] - df_test[\"altura\"]))/len(df_test[\"predicciones\"])\n",
    "print('MAE:', MAE)\n",
    "\n",
    "MSE = sum((df_test[\"altura\"] - df_test[\"predicciones\"])**2)/len(df_test[\"predicciones\"])\n",
    "print('MSE:', MSE)\n",
    "\n",
    "RMSE = np.sqrt(MSE)\n",
    "print('RMSE:', RMSE)\n",
    "\n",
    "MAPE = sum(np.abs((df_test[\"predicciones\"] - df_test[\"altura\"])/df_test[\"altura\"]))/len(df_test[\"predicciones\"])\n",
    "print('MAPE:', MAPE)"
   ]
  },
  {
   "cell_type": "code",
   "execution_count": 30,
   "metadata": {},
   "outputs": [
    {
     "data": {
      "text/html": [
       "<div>\n",
       "<style scoped>\n",
       "    .dataframe tbody tr th:only-of-type {\n",
       "        vertical-align: middle;\n",
       "    }\n",
       "\n",
       "    .dataframe tbody tr th {\n",
       "        vertical-align: top;\n",
       "    }\n",
       "\n",
       "    .dataframe thead th {\n",
       "        text-align: right;\n",
       "    }\n",
       "</style>\n",
       "<table border=\"1\" class=\"dataframe\">\n",
       "  <thead>\n",
       "    <tr style=\"text-align: right;\">\n",
       "      <th></th>\n",
       "      <th>edad</th>\n",
       "      <th>predicciones</th>\n",
       "      <th>altura</th>\n",
       "      <th>error</th>\n",
       "    </tr>\n",
       "  </thead>\n",
       "  <tbody>\n",
       "    <tr>\n",
       "      <th>0</th>\n",
       "      <td>24</td>\n",
       "      <td>1.752729</td>\n",
       "      <td>1.82</td>\n",
       "      <td>0.067271</td>\n",
       "    </tr>\n",
       "    <tr>\n",
       "      <th>17</th>\n",
       "      <td>34</td>\n",
       "      <td>1.711329</td>\n",
       "      <td>1.80</td>\n",
       "      <td>0.088671</td>\n",
       "    </tr>\n",
       "    <tr>\n",
       "      <th>15</th>\n",
       "      <td>32</td>\n",
       "      <td>1.719609</td>\n",
       "      <td>1.75</td>\n",
       "      <td>0.030391</td>\n",
       "    </tr>\n",
       "    <tr>\n",
       "      <th>1</th>\n",
       "      <td>25</td>\n",
       "      <td>1.748589</td>\n",
       "      <td>1.71</td>\n",
       "      <td>0.038589</td>\n",
       "    </tr>\n",
       "    <tr>\n",
       "      <th>8</th>\n",
       "      <td>36</td>\n",
       "      <td>1.703048</td>\n",
       "      <td>1.74</td>\n",
       "      <td>0.036952</td>\n",
       "    </tr>\n",
       "    <tr>\n",
       "      <th>5</th>\n",
       "      <td>27</td>\n",
       "      <td>1.740309</td>\n",
       "      <td>1.80</td>\n",
       "      <td>0.059691</td>\n",
       "    </tr>\n",
       "    <tr>\n",
       "      <th>11</th>\n",
       "      <td>30</td>\n",
       "      <td>1.727889</td>\n",
       "      <td>1.65</td>\n",
       "      <td>0.077889</td>\n",
       "    </tr>\n",
       "  </tbody>\n",
       "</table>\n",
       "</div>"
      ],
      "text/plain": [
       "    edad  predicciones  altura     error\n",
       "0     24      1.752729    1.82  0.067271\n",
       "17    34      1.711329    1.80  0.088671\n",
       "15    32      1.719609    1.75  0.030391\n",
       "1     25      1.748589    1.71  0.038589\n",
       "8     36      1.703048    1.74  0.036952\n",
       "5     27      1.740309    1.80  0.059691\n",
       "11    30      1.727889    1.65  0.077889"
      ]
     },
     "execution_count": 30,
     "metadata": {},
     "output_type": "execute_result"
    }
   ],
   "source": [
    "# Añade una columna con el error\n",
    "\n",
    "df_test[\"error\"] = np.abs(df_test[\"altura\"]-df_test[\"predicciones\"])\n",
    "df_test"
   ]
  },
  {
   "cell_type": "code",
   "execution_count": 31,
   "metadata": {},
   "outputs": [
    {
     "data": {
      "text/plain": [
       "0.05706488156539665"
      ]
     },
     "execution_count": 31,
     "metadata": {},
     "output_type": "execute_result"
    }
   ],
   "source": [
    "# Muestra el error medio\n",
    "df_test[\"error\"].mean()"
   ]
  },
  {
   "cell_type": "code",
   "execution_count": 32,
   "metadata": {},
   "outputs": [
    {
     "data": {
      "text/html": [
       "<div>\n",
       "<style scoped>\n",
       "    .dataframe tbody tr th:only-of-type {\n",
       "        vertical-align: middle;\n",
       "    }\n",
       "\n",
       "    .dataframe tbody tr th {\n",
       "        vertical-align: top;\n",
       "    }\n",
       "\n",
       "    .dataframe thead th {\n",
       "        text-align: right;\n",
       "    }\n",
       "</style>\n",
       "<table border=\"1\" class=\"dataframe\">\n",
       "  <thead>\n",
       "    <tr style=\"text-align: right;\">\n",
       "      <th></th>\n",
       "      <th>edad</th>\n",
       "      <th>predicciones</th>\n",
       "      <th>altura</th>\n",
       "      <th>error</th>\n",
       "      <th>error cuadratico</th>\n",
       "    </tr>\n",
       "  </thead>\n",
       "  <tbody>\n",
       "    <tr>\n",
       "      <th>0</th>\n",
       "      <td>24</td>\n",
       "      <td>1.752729</td>\n",
       "      <td>1.82</td>\n",
       "      <td>0.067271</td>\n",
       "      <td>0.004525</td>\n",
       "    </tr>\n",
       "    <tr>\n",
       "      <th>17</th>\n",
       "      <td>34</td>\n",
       "      <td>1.711329</td>\n",
       "      <td>1.80</td>\n",
       "      <td>0.088671</td>\n",
       "      <td>0.007863</td>\n",
       "    </tr>\n",
       "    <tr>\n",
       "      <th>15</th>\n",
       "      <td>32</td>\n",
       "      <td>1.719609</td>\n",
       "      <td>1.75</td>\n",
       "      <td>0.030391</td>\n",
       "      <td>0.000924</td>\n",
       "    </tr>\n",
       "    <tr>\n",
       "      <th>1</th>\n",
       "      <td>25</td>\n",
       "      <td>1.748589</td>\n",
       "      <td>1.71</td>\n",
       "      <td>0.038589</td>\n",
       "      <td>0.001489</td>\n",
       "    </tr>\n",
       "    <tr>\n",
       "      <th>8</th>\n",
       "      <td>36</td>\n",
       "      <td>1.703048</td>\n",
       "      <td>1.74</td>\n",
       "      <td>0.036952</td>\n",
       "      <td>0.001365</td>\n",
       "    </tr>\n",
       "    <tr>\n",
       "      <th>5</th>\n",
       "      <td>27</td>\n",
       "      <td>1.740309</td>\n",
       "      <td>1.80</td>\n",
       "      <td>0.059691</td>\n",
       "      <td>0.003563</td>\n",
       "    </tr>\n",
       "    <tr>\n",
       "      <th>11</th>\n",
       "      <td>30</td>\n",
       "      <td>1.727889</td>\n",
       "      <td>1.65</td>\n",
       "      <td>0.077889</td>\n",
       "      <td>0.006067</td>\n",
       "    </tr>\n",
       "  </tbody>\n",
       "</table>\n",
       "</div>"
      ],
      "text/plain": [
       "    edad  predicciones  altura     error  error cuadratico\n",
       "0     24      1.752729    1.82  0.067271          0.004525\n",
       "17    34      1.711329    1.80  0.088671          0.007863\n",
       "15    32      1.719609    1.75  0.030391          0.000924\n",
       "1     25      1.748589    1.71  0.038589          0.001489\n",
       "8     36      1.703048    1.74  0.036952          0.001365\n",
       "5     27      1.740309    1.80  0.059691          0.003563\n",
       "11    30      1.727889    1.65  0.077889          0.006067"
      ]
     },
     "execution_count": 32,
     "metadata": {},
     "output_type": "execute_result"
    }
   ],
   "source": [
    "# Añade una columna que contenga el error cuadrático\n",
    "df_test[\"error cuadratico\"] = df_test[\"error\"]**2\n",
    "df_test"
   ]
  },
  {
   "cell_type": "code",
   "execution_count": 33,
   "metadata": {},
   "outputs": [
    {
     "data": {
      "text/plain": [
       "0.0036851216240520687"
      ]
     },
     "execution_count": 33,
     "metadata": {},
     "output_type": "execute_result"
    }
   ],
   "source": [
    "# Muestra el error cuadrático medio\n",
    "error_cuadratico_medio = df_test.loc[:, \"error cuadratico\"].mean()\n",
    "error_cuadratico_medio"
   ]
  },
  {
   "cell_type": "code",
   "execution_count": 34,
   "metadata": {},
   "outputs": [
    {
     "data": {
      "text/plain": [
       "0.060705202611078306"
      ]
     },
     "execution_count": 34,
     "metadata": {},
     "output_type": "execute_result"
    }
   ],
   "source": [
    "# Muestra la raíz del error cuadrático medio\n",
    "np.sqrt(error_cuadratico_medio)\n"
   ]
  },
  {
   "cell_type": "code",
   "execution_count": 35,
   "metadata": {},
   "outputs": [
    {
     "data": {
      "text/plain": [
       "0.03253724207144201"
      ]
     },
     "execution_count": 35,
     "metadata": {},
     "output_type": "execute_result"
    }
   ],
   "source": [
    "# Muestra el error absoluto medio porcentual\n",
    "MAPE\n"
   ]
  }
 ],
 "metadata": {
  "interpreter": {
   "hash": "d1cd2e48b36ca5a693dc5fee925acb7c04e62f78a1ba1a62d0d9fd679ea6383d"
  },
  "kernelspec": {
   "display_name": "Python 3.9.7 ('base')",
   "language": "python",
   "name": "python3"
  },
  "language_info": {
   "codemirror_mode": {
    "name": "ipython",
    "version": 3
   },
   "file_extension": ".py",
   "mimetype": "text/x-python",
   "name": "python",
   "nbconvert_exporter": "python",
   "pygments_lexer": "ipython3",
   "version": "3.11.10"
  }
 },
 "nbformat": 4,
 "nbformat_minor": 4
}
