{
 "cells": [
  {
   "cell_type": "markdown",
   "metadata": {},
   "source": [
    "Escriba un programa que pida dos números y escriba qué números son pares y cuáles impares desde el primero hasta el segundo"
   ]
  },
  {
   "cell_type": "code",
   "execution_count": 3,
   "metadata": {},
   "outputs": [
    {
     "name": "stdout",
     "output_type": "stream",
     "text": [
      "El 6 es par\n",
      "El 7 es impar\n",
      "El 8 es par\n",
      "El 9 es impar\n",
      "El 10 es par\n"
     ]
    }
   ],
   "source": [
    "numero_1 = int (input(\"Escriba un número entero: \"))\n",
    "numero_2 = int (input (\"Escriba un número entero mayor que el anterior: \"))\n",
    "\n",
    "if numero_2 < numero_1:\n",
    "    print (\"Le he pedido que el número sea mayor que el anterior\")\n",
    "\n",
    "else: \n",
    "    for numero in range (numero_1, numero_2 +1):\n",
    "        if numero % 2 == 0:\n",
    "            print (f\"El {numero} es par\")\n",
    "        \n",
    "        else:\n",
    "            print (f\"El {numero} es impar\")\n",
    "    "
   ]
  },
  {
   "cell_type": "markdown",
   "metadata": {},
   "source": [
    "Escriba un programa que pida un número entero mayor que cero y que escriba sus divisores"
   ]
  },
  {
   "cell_type": "code",
   "execution_count": 7,
   "metadata": {},
   "outputs": [
    {
     "name": "stdout",
     "output_type": "stream",
     "text": [
      "1 2 5 10 "
     ]
    }
   ],
   "source": [
    "numero_entero = int (input(\"Escriba un numero entero mayor que 0: \"))\n",
    "\n",
    "if numero_entero <= 0:\n",
    "    print (\"Le he pedido un numero entero mayor que cero\")\n",
    "\n",
    "else:\n",
    "    for numero_divisible in range (1, numero +1):\n",
    "        if numero % numero_divisible == 0:\n",
    "            print (numero_divisible, end = \" \") \n",
    "    \n",
    "                     "
   ]
  },
  {
   "cell_type": "markdown",
   "metadata": {},
   "source": [
    "Escriba un programa que pregunte cuantos numeros se van a introducir, pida esos numeros y muestre un mensaje cada vez que un numero no sea mayor que el primero https://www.mclibre.org/consultar/python/ejercicios/ej-for-1.html"
   ]
  },
  {
   "cell_type": "code",
   "execution_count": 2,
   "metadata": {},
   "outputs": [],
   "source": [
    "valores = int (input (\"¿Cuantos valores va a introducir? \"))\n",
    "\n",
    "if valores < 1:\n",
    "    print (\"Imposible\")\n",
    "\n",
    "else:\n",
    "    primero = int (input(\"Escriba un numero: \"))\n",
    "    for numero in range (valores -1):\n",
    "        numero = int (input(f\"Escriba un numero mayor que {primero}\"))\n",
    "        if numero <= primero:\n",
    "            print (f\"{numero} no es mayor que {primero}\")"
   ]
  },
  {
   "cell_type": "markdown",
   "metadata": {},
   "source": [
    "Escriba un programa que pregunte cuántos números se van a introducir, pida esos números, y muestre un mensaje cada vez que un número no sea mayor que el anterior."
   ]
  },
  {
   "cell_type": "code",
   "execution_count": 5,
   "metadata": {},
   "outputs": [
    {
     "name": "stdout",
     "output_type": "stream",
     "text": [
      "MAYORES QUE EL ANTERIOR\n",
      "¡4 no es mayor que 5!\n"
     ]
    }
   ],
   "source": [
    "print(\"MAYORES QUE EL ANTERIOR\")\n",
    "\n",
    "valores = int(input(\"¿Cuántos valores va a introducir? \"))\n",
    "\n",
    "if valores < 1:\n",
    "    print(\"¡Imposible!\")\n",
    "\n",
    "else:\n",
    "    anterior = int(input(\"Escriba un número: \"))\n",
    "    for i in range(valores - 1):\n",
    "        numero = int(input(f\"Escriba un número más grande que {anterior}: \"))\n",
    "        if numero <= anterior:\n",
    "            print(f\"¡{numero} no es mayor que {anterior}!\")\n",
    "        anterior = numero"
   ]
  },
  {
   "cell_type": "markdown",
   "metadata": {},
   "source": [
    "Escriba un programa que pregunte cuántos números se van a introducir, pida esos números y escriba cuántos negativos ha introducido."
   ]
  },
  {
   "cell_type": "code",
   "execution_count": 16,
   "metadata": {},
   "outputs": [
    {
     "name": "stdout",
     "output_type": "stream",
     "text": [
      "NUMERO NEGATIVOS\n"
     ]
    }
   ],
   "source": [
    "print (\"NUMERO NEGATIVOS\")\n",
    "\n",
    "valores = int (input (\"¿Cuántos valores va a introducir?: \"))\n",
    "\n",
    "if valores < 0:\n",
    "    print (\"IMPOSIBLE\")\n",
    "\n",
    "else:\n",
    "    contador = 0\n",
    "    for i in range (1, valores+1):\n",
    "        numero = int (input(f\"Escriba el numero {i}: \"))\n",
    "        if numero < 0:\n",
    "            contador = contador +1\n",
    "    if contador == 0:\n",
    "        print (\"No has escrito ningun numero negativo\")\n",
    "    elif contador == 1:\n",
    "        print (\"Has escrito 1 número negativo\")\n",
    "    else:\n",
    "        print (f\"Has escrito {contador} numeros negativos\")"
   ]
  },
  {
   "cell_type": "markdown",
   "metadata": {},
   "source": [
    "Escriba un programa que pregunte cuántos números se van a introducir, pida esos números, y diga al final cuántos han sido pares y cuántos impares."
   ]
  },
  {
   "cell_type": "code",
   "execution_count": 21,
   "metadata": {},
   "outputs": [
    {
     "name": "stdout",
     "output_type": "stream",
     "text": [
      "CONTADOR PARES E IMPARES\n",
      "Has escrito 3 numero pares y 0 numeros impares\n"
     ]
    }
   ],
   "source": [
    "print (\"CONTADOR PARES E IMPARES\")\n",
    "\n",
    "valores = int (input(\"¿Cuántos valores va a introducir? \"))\n",
    "\n",
    "if valores <0:\n",
    "    print (\"IMPOSIBLE\")\n",
    "    \n",
    "else:\n",
    "    contadorpar = 0\n",
    "    contadorimpar = 0\n",
    "    \n",
    "    for i in range (1, valores +1):\n",
    "        numero = int (input(f\"Escriba el valor {i}: \"))\n",
    "        if numero % 2 == 0:\n",
    "            contadorpar = contadorpar + 1\n",
    "        else:\n",
    "            contadorimpar = contadorimpar +1\n",
    "    print (f\"Has escrito {contadorpar} numero pares y {contadorimpar} numeros impares\")"
   ]
  },
  {
   "cell_type": "markdown",
   "metadata": {},
   "source": [
    "Escriba un programa que pida un número entero mayor que 1 y que escriba si el número es un número primo o no."
   ]
  },
  {
   "cell_type": "code",
   "execution_count": 30,
   "metadata": {},
   "outputs": [
    {
     "name": "stdout",
     "output_type": "stream",
     "text": [
      "NUMERO PRIMO\n",
      "3 es primo\n"
     ]
    }
   ],
   "source": [
    "print (\"NUMERO PRIMO\")\n",
    "\n",
    "numero = int (input(\"Escriba un numero mayor que 1: \"))\n",
    "\n",
    "if numero <= 1:\n",
    "    print (\"Le he pedido un número entero mayor que 1\")\n",
    "    \n",
    "else:\n",
    "    contadordivisores = 0\n",
    "    for num in range (1, numero +1):\n",
    "        if numero % num == 0:\n",
    "            contadordivisores = contadordivisores +1\n",
    "    if contadordivisores == 2:\n",
    "        print (f\"{numero} es primo\")\n",
    "    else:\n",
    "        print (f\"{numero} no es primo\")\n"
   ]
  },
  {
   "cell_type": "markdown",
   "metadata": {},
   "source": [
    "Escriba un programa que pregunte cuantos números se van a introducir, pida esos números (que puedan ser decimales) y calcule su suma."
   ]
  },
  {
   "cell_type": "code",
   "execution_count": 36,
   "metadata": {},
   "outputs": [
    {
     "name": "stdout",
     "output_type": "stream",
     "text": [
      "SUMA VALORES\n",
      "La suma de los número que ha escrito es 100.5\n"
     ]
    }
   ],
   "source": [
    "print (\"SUMA VALORES\")\n",
    "\n",
    "valores = int(input(\"¿Cuantos valores va a introducir?: \"))\n",
    "\n",
    "if valores < 0:\n",
    "    print (\"IMPOSIBLE\")\n",
    "\n",
    "else:\n",
    "    sumavalores = 0\n",
    "    \n",
    "    for i in range (1, valores +1):\n",
    "        numeros = float (input(f\"Escriba el numero {i}\"))\n",
    "        sumavalores = sumavalores + numeros\n",
    "    else:\n",
    "        print (f\"La suma de los número que ha escrito es {sumavalores}\")"
   ]
  },
  {
   "cell_type": "markdown",
   "metadata": {},
   "source": [
    "Escriba un programa que pida dos números enteros y escriba la suma de todos los enteros desde el primer número hasta el segundo."
   ]
  },
  {
   "cell_type": "code",
   "execution_count": 4,
   "metadata": {},
   "outputs": [
    {
     "name": "stdout",
     "output_type": "stream",
     "text": [
      "SUMA ENTRE VALORES\n",
      "La suma de 2 hasta 7 es de 27\n"
     ]
    }
   ],
   "source": [
    "print (\"SUMA ENTRE VALORES\")\n",
    "\n",
    "valor1 = int(input(\"Escriba un numero entero positivo: \"))\n",
    "\n",
    "if valor1 <0:\n",
    "    print (\"Le he pedido un numero entero positivo\")\n",
    "\n",
    "valor2 = int (input(f\"Escriba un numero entero mayor que {valor1}: \"))\n",
    "\n",
    "if valor2 < valor1:\n",
    "    print (f\"Le he pedido un numero entero mayor que {valor1}\")\n",
    "\n",
    "else:\n",
    "    sumavalores = 0\n",
    "    for numero in range (valor1, valor2+1):\n",
    "        sumavalores = sumavalores + numero\n",
    "        \n",
    "    print (f\"La suma de {valor1} hasta {valor2} es de {sumavalores}\")\n"
   ]
  },
  {
   "cell_type": "markdown",
   "metadata": {},
   "source": [
    "Mejore el programa anterior haciendo que el programa escriba la suma realizada"
   ]
  },
  {
   "cell_type": "code",
   "execution_count": 12,
   "metadata": {},
   "outputs": [
    {
     "name": "stdout",
     "output_type": "stream",
     "text": [
      "SUMA ENTRE VALORES\n",
      "La suma de 2 hasta 7 es de 27\n",
      "2 + 3 + 4 + 5 + 6 + 7 = 27\n"
     ]
    }
   ],
   "source": [
    "print (\"SUMA ENTRE VALORES\")\n",
    "\n",
    "valor1 = int(input(\"Escriba un numero entero positivo: \"))\n",
    "\n",
    "if valor1 <0:\n",
    "    print (\"Le he pedido un numero entero positivo\")\n",
    "\n",
    "valor2 = int (input(f\"Escriba un numero entero mayor que {valor1}: \"))\n",
    "\n",
    "if valor2 < valor1:\n",
    "    print (f\"Le he pedido un numero entero mayor que {valor1}\")\n",
    "    \n",
    "else:\n",
    "    sumavalores = 0\n",
    "    for numero in range (valor1, valor2 +1):\n",
    "        sumavalores = sumavalores + numero\n",
    "    print (f\"La suma de {valor1} hasta {valor2} es de {sumavalores}\")\n",
    "    \n",
    "    for numero in range (valor1, valor2):\n",
    "        print (f\"{numero} +\", end = \" \")\n",
    "    print (f\"{valor2} = {sumavalores}\")\n",
    "\n",
    "        "
   ]
  }
 ],
 "metadata": {
  "kernelspec": {
   "display_name": "Python 3",
   "language": "python",
   "name": "python3"
  },
  "language_info": {
   "codemirror_mode": {
    "name": "ipython",
    "version": 3
   },
   "file_extension": ".py",
   "mimetype": "text/x-python",
   "name": "python",
   "nbconvert_exporter": "python",
   "pygments_lexer": "ipython3",
   "version": "3.12.4"
  }
 },
 "nbformat": 4,
 "nbformat_minor": 2
}
