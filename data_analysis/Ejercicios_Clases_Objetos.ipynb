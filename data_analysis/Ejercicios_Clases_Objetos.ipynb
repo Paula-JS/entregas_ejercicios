{
 "cells": [
  {
   "cell_type": "markdown",
   "metadata": {},
   "source": [
    "![imagen](./img/ejercicios.png)\n",
    "\n",
    "# Ejercicios Clases y Objetos"
   ]
  },
  {
   "attachments": {},
   "cell_type": "markdown",
   "metadata": {},
   "source": [
    "## Ejercicio 1\n",
    "Somos una empresa que tiene varias tiendas de electrodomésticos. Necesitamos un programa para manejar las tiendas, ver las ventas que han tenido, cuántos empleados hay, etc... Para ello vamos a modelizar la tienda en una clase, que tendrá las siguientes características:\n",
    "* Nombre clase: \"Tienda\"\n",
    "* Atributos comunes:\n",
    "    * Tipo: \"Electrodomésticos\"\n",
    "    * Abierta: True\n",
    "* Atributos propios de cada tienda:\n",
    "    * Nombre - String\n",
    "    * Dirección - String\n",
    "    * Número de empleados - int\n",
    "    * Ventas últimos 3 meses - Lista de 3 numeros\n",
    "* Método para calcular las ventas de todos los meses, que devuelva un número con todas las ventas.\n",
    "* Método que calcula la media de ventas de los últimos meses, por empleado\n",
    "* Método que devuelve en un string el nombre de la tienda, junto con su dirección.\n",
    "* Método que obtiene las ventas del último mes.\n",
    "* Método para dar una proyección de las ventas en caso de haber invertido X dinero en marketing en esa tienda. Siendo X el parámetro de entrada. Si X es menor de 1000, las ventas de los ultimos 3 meses hubiesen sido de (1.2 x ventas), si es mayor o igual de 1000, las ventas hubiesen sido de (1.5 x venta). El método reescribe el atributo de ventas en los últimos 3 meses, y además devuelve las ventas con el aumento.\n",
    "\n",
    "Se pide:\n",
    "1. Implementar la clase \"Tienda\"\n",
    "2. Crear tres tiendas con datos inventados\n",
    "3. Comprueba en al menos una de ellas, todo lo implementado en la clase tienda (sus atributos, media de ventas, ventas/empleado...)\n",
    "3. Calcular las ventas del último mes de todas las tiendas. Para ello usa el bucle `for`\n",
    "4. Imprime por pantalla los nombres de las tiendas cuya dirección lleve el string \"Avenida\"\n",
    "5. Seguro que ya has hecho este apartado... Documenta la clase :)"
   ]
  },
  {
   "cell_type": "code",
   "execution_count": 1,
   "metadata": {},
   "outputs": [],
   "source": [
    "class TiendaElectrodomesticos ():\n",
    "    tipo = \"electrodomesticos\"\n",
    "    abierta = True\n",
    "\n",
    "    \n",
    "    #definir los atributos propios de la tienda\n",
    "\n",
    "    def __init__(self, nombre, direccion, numero_empleados, ventas):\n",
    "        self.nombre = nombre\n",
    "        self.direccion = direccion\n",
    "        self.numero_empleados = numero_empleados\n",
    "        self.ventas = ventas\n",
    "        \n",
    "    #crear un metodo para calcular las ventas de todos los meses:\n",
    "    \n",
    "    def ventas_meses (self):\n",
    "        suma_total_ventas = sum(self.ventas)\n",
    "        return (f\"Las ventas totales de los últimos tres meses han sido de {suma_total_ventas}\")\n",
    "    \n",
    "    #metodo para calcular la media de ventas de los ultimos meses por empleados\n",
    "    def media_ventas (self):\n",
    "        media_ventas = sum(self.ventas) / self.numero_empleados \n",
    "        return (f\"La media de las ventas por empleado es de {media_ventas}\")\n",
    "    \n",
    "    #metodo que devuelve en un string el nombre de la tienda y la dirección:\n",
    "    \n",
    "    def datos_tienda (self):\n",
    "        return (f\"El nombre de la tienda es {self.nombre} y su dirección es {self.direccion}\")\n",
    "    \n",
    "    #metodo que devuelve las ventas del ultimo mes:\n",
    "    \n",
    "    def ventas_ultimo_mes (self):\n",
    "        for venta in self.ventas:\n",
    "            self.ventas[-1]\n",
    "            return (f\"Las ventas del último mes han sido de {self.ventas[-1]}\") \n",
    "        \n",
    "    #saber en cuanto han aumentado las ventas segun el presupuesto de mk\n",
    "    \n",
    "    def marketing (self, dinero_invertido):\n",
    "        if dinero_invertido < 1000:\n",
    "            ventas_obtenidas = sum(self.ventas) * 1.2 \n",
    "            return (f\"Las ventas han aumentado en {ventas_obtenidas}\")\n",
    "        \n",
    "        elif dinero_invertido > 1000:\n",
    "            ventas_obtenidas2 = sum(self.ventas) * 1.5\n",
    "            return (f\"Las ventas han aumentado en {ventas_obtenidas2}\")\n",
    "        \n",
    "    #correcion del anterior ejercicio\n",
    "    \n",
    "    def correcicion (self, dinero_invertido_marketing):\n",
    "        \n",
    "        if x < 1000:\n",
    "            incremento = 1.2\n",
    "        \n",
    "        else:\n",
    "            incremento = 1.5\n",
    "\n",
    "        valores_proyectados = []\n",
    "        \n",
    "        for numero in self.ventas:\n",
    "            valores_proyectados.append(numero*incremento)\n",
    "\n",
    "            self.ventas_ultimo_mes = valores_proyectados\n",
    "            return self.ventas_ultimo_mes\n"
   ]
  },
  {
   "cell_type": "code",
   "execution_count": 8,
   "metadata": {},
   "outputs": [],
   "source": [
    "#crear 3 tiendas con datos diferentes\n",
    "\n",
    "tienda1 = TiendaElectrodomesticos(\"tienda1\", \"C/Islas Canarias\", 6, [1500, 25000, 30000])\n",
    "\n",
    "tienda2 = TiendaElectrodomesticos(\"tienda2\", \"Av Puerto\", 8, [50000, 35000, 40000])\n",
    "\n",
    "tienda3 = TiendaElectrodomesticos(\"tienda3\", \"C/Albocasser\", 10, [60000, 60000, 700000])"
   ]
  },
  {
   "cell_type": "code",
   "execution_count": 4,
   "metadata": {},
   "outputs": [
    {
     "data": {
      "text/plain": [
       "{'nombre': 'tienda1',\n",
       " 'direccion': 'C/Islas Canarias',\n",
       " 'numero_empleados': 6,\n",
       " 'ventas': [1500, 25000, 30000]}"
      ]
     },
     "execution_count": 4,
     "metadata": {},
     "output_type": "execute_result"
    }
   ],
   "source": [
    "tienda1.__dict__"
   ]
  },
  {
   "cell_type": "code",
   "execution_count": 11,
   "metadata": {},
   "outputs": [
    {
     "ename": "NameError",
     "evalue": "name 'ventas' is not defined",
     "output_type": "error",
     "traceback": [
      "\u001b[0;31m---------------------------------------------------------------------------\u001b[0m",
      "\u001b[0;31mNameError\u001b[0m                                 Traceback (most recent call last)",
      "Cell \u001b[0;32mIn[11], line 4\u001b[0m\n\u001b[1;32m      1\u001b[0m \u001b[38;5;66;03m#venta del ultimo mes para todas las tiendas\u001b[39;00m\n\u001b[1;32m      3\u001b[0m \u001b[38;5;28;01mfor\u001b[39;00m tienda \u001b[38;5;129;01min\u001b[39;00m [tienda1, tienda2, tienda3]:\n\u001b[0;32m----> 4\u001b[0m     \u001b[43mventas\u001b[49m \u001b[38;5;241m+\u001b[39m\u001b[38;5;241m=\u001b[39m tienda\u001b[38;5;241m.\u001b[39msuma_ventas()\n\u001b[1;32m      5\u001b[0m ventas\n",
      "\u001b[0;31mNameError\u001b[0m: name 'ventas' is not defined"
     ]
    }
   ],
   "source": [
    "#venta del ultimo mes para todas las tiendas\n",
    "\n",
    "for tienda in [tienda1, tienda2, tienda3]:\n",
    "    ventas += tienda.suma_ventas()\n",
    "ventas"
   ]
  },
  {
   "cell_type": "code",
   "execution_count": 112,
   "metadata": {},
   "outputs": [
    {
     "data": {
      "text/plain": [
       "'Las ventas totales de los últimos tres meses han sido de 56500'"
      ]
     },
     "execution_count": 112,
     "metadata": {},
     "output_type": "execute_result"
    }
   ],
   "source": [
    "#usando el metodo venta_meses para calcular las ventas totales de cada tienda de los últimos tres meses\n",
    "tienda1.ventas_meses()"
   ]
  },
  {
   "cell_type": "code",
   "execution_count": 93,
   "metadata": {},
   "outputs": [
    {
     "data": {
      "text/plain": [
       "'La media de las ventas por empleado es de 15625.0'"
      ]
     },
     "execution_count": 93,
     "metadata": {},
     "output_type": "execute_result"
    }
   ],
   "source": [
    "#para saber la media de empleados\n",
    "\n",
    "tienda2.media_ventas()"
   ]
  },
  {
   "cell_type": "code",
   "execution_count": 113,
   "metadata": {},
   "outputs": [
    {
     "data": {
      "text/plain": [
       "'El nombre de la tienda es tienda1 y su dirección es C/Islas Canarias'"
      ]
     },
     "execution_count": 113,
     "metadata": {},
     "output_type": "execute_result"
    }
   ],
   "source": [
    "#devolver los datos de la tienda\n",
    "\n",
    "tienda1.datos_tienda()"
   ]
  },
  {
   "cell_type": "code",
   "execution_count": 114,
   "metadata": {},
   "outputs": [
    {
     "data": {
      "text/plain": [
       "'Las ventas del último mes han sido de 30000'"
      ]
     },
     "execution_count": 114,
     "metadata": {},
     "output_type": "execute_result"
    }
   ],
   "source": [
    "#devolver las ventas del ultimo mes\n",
    "\n",
    "tienda1.ventas_ultimo_mes()"
   ]
  },
  {
   "cell_type": "code",
   "execution_count": 116,
   "metadata": {},
   "outputs": [
    {
     "data": {
      "text/plain": [
       "'Las ventas han aumentado en 84750.0'"
      ]
     },
     "execution_count": 116,
     "metadata": {},
     "output_type": "execute_result"
    }
   ],
   "source": [
    "#saber si las ventas han aumentado o no\n",
    "tienda1.marketing(1500)"
   ]
  },
  {
   "cell_type": "markdown",
   "metadata": {},
   "source": [
    "## Ejercicio 2\n",
    "En este ejercicio vamos a implementar una clase *Perro* en Python. La clase tiene las siguientes características:\n",
    "* Cosas que sabemos seguro que tiene un perro\n",
    "    * Tiene 4 patas\n",
    "    * 2 orejas\n",
    "    * 2 ojos\n",
    "    * Una velocidad de 0. Por defecto, el perro está parado\n",
    "* Cuando se inicialice:\n",
    "    * El perro será de una determinada raza\n",
    "    * Por defecto tendrá pelo \"Marrón\", a no ser que se diga lo contrario.\n",
    "    * Por defecto no tendrá dueño, a no ser que se diga lo contrario.\n",
    "    \n",
    "* Dispondrá también de un método llamado andar, que tiene un argumento de entrada (aumento_velocidad). Este valor se le sumará a la velocidad que ya llevaba el perro.\n",
    "* Necesita otro método (parar), donde pondremos la velocidad a 0.\n",
    "* Otro método llamado \"ladrar\", que tendrá un argumento de entrada, y la salida será el siguiente string: \"GUAU!\" + el argumento de entrada.\n",
    "\n",
    "\n",
    "Se pide:\n",
    "* Implementa la clase *Perro*\n",
    "* Crea un objeto de tipo *Perro*, sin dueño\n",
    "* Comprueba que están bien todos sus atributos\n",
    "* Prueba que ande, y comprueba su velocidad\n",
    "* Páralo\n",
    "* Documenta la clase *Perro*"
   ]
  },
  {
   "cell_type": "code",
   "execution_count": 15,
   "metadata": {},
   "outputs": [],
   "source": [
    "class Perro ():\n",
    "    patas = 4\n",
    "    orejas = 2\n",
    "    ojos = 2\n",
    "    velocidad = 0\n",
    "    \n",
    "    def __init__ (self, raza, pelo = \"marrón\", dueño = False):\n",
    "        self.raza = raza\n",
    "        self.pelo = pelo\n",
    "        self.dueño = dueño\n",
    "        \n",
    "    def andar (self, aumento_velocidad):\n",
    "        self.velocidad = self.velocidad + aumento_velocidad\n",
    "        return (f\"La velocidad de mi mascota es de {aumento_velocidad} km por hora\")\n",
    "    \n",
    "    def parar (self):\n",
    "        self.velocidad = 0\n",
    "        return (f\"La velocidad después de parar es de {velocidad} km por hora\") \n",
    "        \n",
    "    def ladrar (self,mensaje):\n",
    "        return \"Guau\" + \" \" + mensaje\n",
    "    "
   ]
  },
  {
   "cell_type": "code",
   "execution_count": 142,
   "metadata": {},
   "outputs": [],
   "source": [
    "nala = Perro(\"Golden Retriever\")"
   ]
  },
  {
   "cell_type": "code",
   "execution_count": 141,
   "metadata": {},
   "outputs": [
    {
     "data": {
      "text/plain": [
       "'La velocidad de mi mascota es de 5 km por hora'"
      ]
     },
     "execution_count": 141,
     "metadata": {},
     "output_type": "execute_result"
    }
   ],
   "source": [
    "nala.andar (5)"
   ]
  },
  {
   "cell_type": "code",
   "execution_count": 143,
   "metadata": {},
   "outputs": [
    {
     "data": {
      "text/plain": [
       "'Guau holaaaaa'"
      ]
     },
     "execution_count": 143,
     "metadata": {},
     "output_type": "execute_result"
    }
   ],
   "source": [
    "nala.ladrar (\"holaaaaa\")"
   ]
  },
  {
   "cell_type": "markdown",
   "metadata": {},
   "source": [
    "## Ejercicio 7: Calculadora\n",
    "\n",
    "Vamos a modelar una calculadora que pueda realizar operaciones matemáticas básicas.\n",
    "\n",
    "    Nombre de la clase: \"Calculadora\"\n",
    "    Atributos comunes:\n",
    "        Marca - String\n",
    "        memoria - lista\n",
    "    Métodos:\n",
    "        Sumar: recibe dos números y devuelve su suma.\n",
    "        Restar: recibe dos números y devuelve su diferencia.\n",
    "        Multiplicar: recibe dos números y devuelve su producto.\n",
    "        Dividir: recibe dos números y devuelve su cociente. Si el divisor es 0, devuelve un mensaje de error.\n",
    "        Elevar al cuadrado: recibe un número y devuelve su cuadrado.\n",
    "        Raíz cuadrada: recibe un número y devuelve su raíz cuadrada. Si el número es negativo, devuelve un mensaje de error.\n",
    "\n",
    "        Siempre que se hace una operacion se almacena en memoria\n",
    "\n",
    "\n",
    "Se pide:\n",
    "\n",
    "    Implementar la clase \"Calculadora\".\n",
    "    Crear una instancia de calculadora con una marca inventada.\n",
    "    Probar todas las operaciones con ejemplos.\n",
    "    Imprimir los resultados de las operaciones."
   ]
  },
  {
   "cell_type": "code",
   "execution_count": 124,
   "metadata": {},
   "outputs": [],
   "source": [
    "class Calculadora ():\n",
    "    marca = (\"Calculator\")\n",
    "    memoria = []\n",
    "\n",
    "    \n",
    "    \n",
    "    def sumar (self, numero1, numero2):\n",
    "        resultadosuma = numero1 + numero2\n",
    "        self.memoria.append({\"operacion\": \"suma\", \"numero1\": numero1, \"numero2\": numero2, \"resultado\": resultadosuma})\n",
    "        return (f\"El resultado es {resultadosuma}\")\n",
    "    \n",
    "    def restar (self, numeroresta1, numeroresta2):\n",
    "        resultadoresta = numeroresta1 - numeroresta2\n",
    "        self.memoria.append({\"operacion\": \"division\", \"numero1\": numeroresta1, \"numero2\": numeroresta2, \"resultado\": resultadoresta})\n",
    "        return (f\"El resultado es {resultadoresta}\")\n",
    "        \n",
    "    \n",
    "    def multiplicar (self, numeromultiplicacion1, numeromultiplicacion2):\n",
    "        resultadomultiplicacion = numeromultiplicacion1 * numeromultiplicacion2\n",
    "        self.memoria.append({\"operacion\": \"multiplicacion\", \"numero1\": numeromultiplicacion1, \"numero2\": numeromultiplicacion2, \"resultado\": resultadomultiplicacion})\n",
    "        return (f\"El resultado es {resultadomultiplicacion}\")\n",
    "    \n",
    "    def dividir (self, numerodivision1, numerodivision2):\n",
    "        if numerodivision2 == 0:\n",
    "            print (\"Error, no se puede dividir entre 0\")\n",
    "            \n",
    "        else:\n",
    "            resultadodivision = numerodivision1 / numerodivision2\n",
    "            self.memoria.append({\"operacion\": \"division\", \"numero1\": numerodivision1, \"numero2\": numerodivision2, \"resultado\": resultadodivision})\n",
    "            return (f\"El resultado es {resultadodivision}\")\n",
    "        \n",
    "    \n",
    "    def elevar (self, numerocuadrado):\n",
    "        resultadoelevar = numerocuadrado **2\n",
    "        self.memoria.append({\"operacion\": \"elevar\", \"numero\": numerocuadrado, \"resultado\": resultadoelevar})\n",
    "        print (self.memoria)\n",
    "        return (f\"El resultado es {resultadoelevar}\")\n",
    "        \n",
    "    \n",
    "    def raizcuadrada (self, numeroraiz):\n",
    "        import math\n",
    "        if numeroraiz >= 0:\n",
    "            resultadoraiz = math.sqrt(numeroraiz)\n",
    "            self.memoria.append({\"operacion\": \"raizcuadradas\", \"numero\": numeroraiz, \"resultado\": resultadoraiz})\n",
    "            return  (f\"El resultado es {resultadoraiz}\")   \n",
    "        else:\n",
    "            return (\"Error, no se puede usar numero negativos\")"
   ]
  },
  {
   "cell_type": "code",
   "execution_count": 120,
   "metadata": {},
   "outputs": [
    {
     "data": {
      "text/plain": [
       "{}"
      ]
     },
     "execution_count": 120,
     "metadata": {},
     "output_type": "execute_result"
    }
   ],
   "source": [
    "calculadora1 = Calculadora()\n",
    "\n",
    "calculadora1.__dict__"
   ]
  },
  {
   "cell_type": "code",
   "execution_count": 119,
   "metadata": {},
   "outputs": [
    {
     "data": {
      "text/plain": [
       "[]"
      ]
     },
     "execution_count": 119,
     "metadata": {},
     "output_type": "execute_result"
    }
   ],
   "source": [
    "calculadora1.memoria"
   ]
  },
  {
   "cell_type": "code",
   "execution_count": 121,
   "metadata": {},
   "outputs": [
    {
     "data": {
      "text/plain": [
       "'El resultado es 4'"
      ]
     },
     "execution_count": 121,
     "metadata": {},
     "output_type": "execute_result"
    }
   ],
   "source": [
    "calculadora1.sumar (2,2)\n"
   ]
  },
  {
   "cell_type": "code",
   "execution_count": 122,
   "metadata": {},
   "outputs": [
    {
     "data": {
      "text/plain": [
       "[{'operacion': 'suma', 'numero1': 2, 'numero2': 2, 'resultado': 4}]"
      ]
     },
     "execution_count": 122,
     "metadata": {},
     "output_type": "execute_result"
    }
   ],
   "source": [
    "calculadora1.memoria"
   ]
  },
  {
   "cell_type": "code",
   "execution_count": 104,
   "metadata": {},
   "outputs": [
    {
     "name": "stdout",
     "output_type": "stream",
     "text": [
      "[{'operacion': 'suma', 'numero1': 2, 'numero2': 2, 'resultado': 4}, {'operacion': 'division', 'numero1': 4, 'numero2': 5, 'resultado': -1}, 12, {'operacion': 'division', 'numero1': 4, 'numero2': 5, 'resultado': -1}]\n"
     ]
    },
    {
     "data": {
      "text/plain": [
       "'El resultado es -1'"
      ]
     },
     "execution_count": 104,
     "metadata": {},
     "output_type": "execute_result"
    }
   ],
   "source": [
    "calculadora1.restar (4, 5)"
   ]
  },
  {
   "cell_type": "code",
   "execution_count": 105,
   "metadata": {},
   "outputs": [
    {
     "name": "stdout",
     "output_type": "stream",
     "text": [
      "[{'operacion': 'suma', 'numero1': 2, 'numero2': 2, 'resultado': 4}, {'operacion': 'division', 'numero1': 4, 'numero2': 5, 'resultado': -1}, 12, {'operacion': 'division', 'numero1': 4, 'numero2': 5, 'resultado': -1}, 12]\n"
     ]
    },
    {
     "data": {
      "text/plain": [
       "'El resultado es 12'"
      ]
     },
     "execution_count": 105,
     "metadata": {},
     "output_type": "execute_result"
    }
   ],
   "source": [
    "calculadora1.multiplicar(2, 6)"
   ]
  },
  {
   "cell_type": "code",
   "execution_count": 113,
   "metadata": {},
   "outputs": [
    {
     "name": "stdout",
     "output_type": "stream",
     "text": [
      "[{'operacion': 'suma', 'numero1': 2, 'numero2': 2, 'resultado': 4}, {'operacion': 'division', 'numero1': 4, 'numero2': 5, 'resultado': -1}, 12, {'operacion': 'division', 'numero1': 4, 'numero2': 5, 'resultado': -1}, 12, 0.4, 4, 0.4, 4, 0.4]\n"
     ]
    },
    {
     "data": {
      "text/plain": [
       "'El resultado es 0.4'"
      ]
     },
     "execution_count": 113,
     "metadata": {},
     "output_type": "execute_result"
    }
   ],
   "source": [
    "calculadora1.dividir (2, 5)"
   ]
  },
  {
   "cell_type": "code",
   "execution_count": 114,
   "metadata": {},
   "outputs": [
    {
     "name": "stdout",
     "output_type": "stream",
     "text": [
      "[{'operacion': 'suma', 'numero1': 2, 'numero2': 2, 'resultado': 4}, {'operacion': 'division', 'numero1': 4, 'numero2': 5, 'resultado': -1}, 12, {'operacion': 'division', 'numero1': 4, 'numero2': 5, 'resultado': -1}, 12, 0.4, 4, 0.4, 4, 0.4, 4]\n"
     ]
    },
    {
     "data": {
      "text/plain": [
       "'El resultado es 4'"
      ]
     },
     "execution_count": 114,
     "metadata": {},
     "output_type": "execute_result"
    }
   ],
   "source": [
    "calculadora1.elevar(2)"
   ]
  },
  {
   "cell_type": "code",
   "execution_count": 72,
   "metadata": {},
   "outputs": [
    {
     "name": "stdout",
     "output_type": "stream",
     "text": [
      "[4, -1, 12, 0.4, 4, 1.7320508075688772]\n"
     ]
    },
    {
     "data": {
      "text/plain": [
       "'El resultado es 1.7320508075688772'"
      ]
     },
     "execution_count": 72,
     "metadata": {},
     "output_type": "execute_result"
    }
   ],
   "source": [
    "calculadora1.raizcuadrada(3)"
   ]
  },
  {
   "cell_type": "code",
   "execution_count": 125,
   "metadata": {},
   "outputs": [
    {
     "name": "stdout",
     "output_type": "stream",
     "text": [
      "[[3, 10, 3], [2, 7, 7], [5, 3, 1], []]\n"
     ]
    }
   ],
   "source": [
    "#EJERCICIOS CLASE REPASO\n",
    "\n",
    "import random\n",
    "\n",
    "ancho = 3\n",
    "matrix = [[]]\n",
    "\n",
    "#el primer for se encarga de crear x listas vacias \n",
    "for indice_fila in range (ancho):\n",
    "    matrix.append([])\n",
    "    \n",
    "#el segundo for se encarga de que en esas listas vacias se le añada un numero aleatorio importandolo con la funcion random\n",
    "    for indice_columna in range (ancho):\n",
    "        matrix [indice_fila].append(random.randint(1,10))\n",
    "print (matrix)\n",
    "\n",
    "#usamos otro for que indice que en la posición indice_fila y la posicion indice_columna si es el numero \n",
    "numero = 4\n",
    "\n",
    "for indice_fila in range (ancho):\n",
    "    for indice_columna in range (ancho):\n",
    "        if matrix[indice_fila] [indice_columna] == numero:\n",
    "            print (indice_fila, indice_columna)\n",
    "        "
   ]
  }
 ],
 "metadata": {
  "kernelspec": {
   "display_name": "Python 3.7.4 64-bit",
   "language": "python",
   "name": "python3"
  },
  "language_info": {
   "codemirror_mode": {
    "name": "ipython",
    "version": 3
   },
   "file_extension": ".py",
   "mimetype": "text/x-python",
   "name": "python",
   "nbconvert_exporter": "python",
   "pygments_lexer": "ipython3",
   "version": "3.12.4"
  },
  "vscode": {
   "interpreter": {
    "hash": "90139cb9a825bf3d63f6f6704e828dbd1ff7edbd4d0c6e906a71235d6efc74af"
   }
  }
 },
 "nbformat": 4,
 "nbformat_minor": 4
}
