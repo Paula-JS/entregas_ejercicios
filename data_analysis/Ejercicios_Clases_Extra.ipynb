{
 "cells": [
  {
   "cell_type": "markdown",
   "metadata": {},
   "source": [
    "## Ejercicio 3\n",
    "Vamos a crear una clase para representar una biblioteca. La clase debe permitir gestionar libros y su disponibilidad.\n",
    "\n",
    "* Nombre de la clase: \"Biblioteca\"\n",
    "* Atributos comunes:\n",
    "    * Tipo: \"Pública\"\n",
    "    * Horario: \"09:00 - 20:00\"\n",
    "* Atributos propios de cada biblioteca:\n",
    "    * Nombre - String\n",
    "    * Dirección - String\n",
    "    * Lista de libros disponibles - Lista de strings\n",
    "    * Lista de libros prestados - Lista de strings\n",
    "* Método para añadir un libro a la lista de disponibles\n",
    "* Método para prestar un libro, que lo elimine de la lista de disponibles y lo añada a la de prestados\n",
    "* Método para devolver un libro, que lo elimine de la lista de prestados y lo añada a la de disponibles\n",
    "* Método que imprime el nombre de la biblioteca y su dirección\n",
    "* Método que devuelve la cantidad total de libros en la biblioteca (sumando disponibles y prestados)\n",
    "\n",
    "Se pide:\n",
    "1. Implementar la clase \"Biblioteca\"\n",
    "2. Crear dos bibliotecas con datos inventados\n",
    "3. Añadir libros y prestar algunos de ellos\n",
    "4. Verificar la cantidad total de libros en ambas bibliotecas\n",
    "5. Imprimir el nombre y dirección de todas las bibliotecas que contengan la palabra \"Central\"\n"
   ]
  },
  {
   "cell_type": "code",
   "execution_count": 66,
   "metadata": {},
   "outputs": [],
   "source": [
    "\n",
    "class Biblioteca():\n",
    "    tipo = \"publica\"\n",
    "    horario = 11\n",
    "    \n",
    "    \n",
    "    def __init__ (self, nombre, direccion, libros_disponibles, libros_presentados):\n",
    "        self.nombre = nombre\n",
    "        self.direccion = direccion\n",
    "        self.libros_disponibles = libros_disponibles\n",
    "        self.libros_presentados = libros_presentados\n",
    "        \n",
    "    def agregar (self, libroagregado):\n",
    "        self.libros_disponibles.append(libroagregado)\n",
    "        return (f\"{libroagregado} se ha agregado a tu lista de libros disponibles\")\n",
    "    \n",
    "    def prestar (self, libroprestado):\n",
    "        for libro in self.libros_disponibles:\n",
    "            if libroprestado in self.libros_disponibles:\n",
    "                self.libros_disponibles.remove(libroprestado)\n",
    "                self.libros_presentados.append(libroprestado)\n",
    "                return (f\"Tu libro {libroprestado} se ha añadido a la lista de libros prestados\")\n",
    "            \n",
    "            elif libroprestado not in self.libros_disponibles:\n",
    "                return (\"Ese libro no está en la lista de disponibles\")\n",
    "    \n",
    "    def devolver (self, librodevolver):\n",
    "        for libro in self.libros_presentados:\n",
    "            if librodevolver in self.libros_presentados:\n",
    "                self.libros_presentados.remove(librodevolver)\n",
    "                self.libros_disponibles.append(librodevolver)\n",
    "                return (f\"Tu libro {librodevolver} se ha añadido a la lista de libros disponibles\")\n",
    "            \n",
    "    def datos (self):\n",
    "        return (f\"El nombre de la biblioteca es {self.nombre} y su dirección es {self.direccion}\")\n",
    "    \n",
    "    def sumatotal (self):\n",
    "        sumatotallibros = len(self.libros_disponibles) + len(self.libros_presentados)\n",
    "        return (f\"La suma actual de los libros que tiene es de {sumatotallibros}\")\n",
    "        \n",
    "        \n",
    "               "
   ]
  },
  {
   "cell_type": "code",
   "execution_count": 69,
   "metadata": {},
   "outputs": [],
   "source": [
    "bibliotecamunicipal = Biblioteca(\"biblioteca municipal\", \"C/calle\", [\"Harry Potter\", \"Narnia\", \"La Divina Comedia\"], [\"El circulo\", \"Sherk\"])\n",
    "bibliotecario = Biblioteca (\"biblioteca rio\", \"C/Islas Canarias\", [\"Harry Potter 2\", \"Narnia 3\", \"La Divina Comedia 4\"], [\"El circulo 1\", \"Sherk 5\"])"
   ]
  },
  {
   "cell_type": "code",
   "execution_count": 70,
   "metadata": {},
   "outputs": [
    {
     "data": {
      "text/plain": [
       "['Harry Potter', 'Narnia', 'La Divina Comedia', 'La Naranja Mecanica']"
      ]
     },
     "execution_count": 70,
     "metadata": {},
     "output_type": "execute_result"
    }
   ],
   "source": [
    "bibliotecamunicipal.agregar (\"La Naranja Mecanica\")\n",
    "bibliotecamunicipal.libros_disponibles"
   ]
  },
  {
   "cell_type": "code",
   "execution_count": 71,
   "metadata": {},
   "outputs": [
    {
     "data": {
      "text/plain": [
       "'Tu libro Harry Potter se ha añadido a la lista de libros prestados'"
      ]
     },
     "execution_count": 71,
     "metadata": {},
     "output_type": "execute_result"
    }
   ],
   "source": [
    "bibliotecamunicipal.prestar(\"Harry Potter\")"
   ]
  },
  {
   "cell_type": "code",
   "execution_count": 72,
   "metadata": {},
   "outputs": [
    {
     "data": {
      "text/plain": [
       "'Tu libro Harry Potter se ha añadido a la lista de libros disponibles'"
      ]
     },
     "execution_count": 72,
     "metadata": {},
     "output_type": "execute_result"
    }
   ],
   "source": [
    "bibliotecamunicipal.devolver(\"Harry Potter\")"
   ]
  },
  {
   "cell_type": "code",
   "execution_count": 73,
   "metadata": {},
   "outputs": [
    {
     "data": {
      "text/plain": [
       "'El nombre de la biblioteca es biblioteca municipal y su dirección es C/calle'"
      ]
     },
     "execution_count": 73,
     "metadata": {},
     "output_type": "execute_result"
    }
   ],
   "source": [
    "bibliotecamunicipal.datos()"
   ]
  },
  {
   "cell_type": "code",
   "execution_count": 74,
   "metadata": {},
   "outputs": [
    {
     "data": {
      "text/plain": [
       "'La suma actual de los libros que tiene es de 6'"
      ]
     },
     "execution_count": 74,
     "metadata": {},
     "output_type": "execute_result"
    }
   ],
   "source": [
    "bibliotecamunicipal.sumatotal()"
   ]
  },
  {
   "cell_type": "markdown",
   "metadata": {},
   "source": [
    "\n",
    "## Ejercicio 4\n",
    "Vamos a modelar un vehículo que se puede alquilar, como en una empresa de alquiler de coches.\n",
    "\n",
    "* Nombre de la clase: \"VehículoAlquiler\"\n",
    "* Atributos comunes:\n",
    "    * Disponible: True\n",
    "* Atributos propios de cada vehículo:\n",
    "    * Marca - String\n",
    "    * Modelo - String\n",
    "    * Año - int\n",
    "    * Kilometraje - float\n",
    "* Método para alquilar el vehículo, que cambie el atributo `Disponible` a False\n",
    "* Método para devolver el vehículo, que cambie `Disponible` a True y aumente el kilometraje con el valor que se pasa como argumento\n",
    "* Método para obtener la descripción del vehículo (marca, modelo y año)\n",
    "* Método que calcula el precio del alquiler según los kilómetros recorridos, con una tarifa fija de 0.50€/km\n",
    "\n",
    "Se pide:\n",
    "1. Implementar la clase \"VehículoAlquiler\"\n",
    "2. Crear tres vehículos y alquilar dos de ellos\n",
    "3. Devolver uno de los vehículos con un kilometraje añadido\n",
    "4. Imprimir la descripción de todos los vehículos disponibles\n",
    "5. Calcular el precio del alquiler de uno de los vehículos devueltos\n"
   ]
  },
  {
   "cell_type": "code",
   "execution_count": 134,
   "metadata": {},
   "outputs": [],
   "source": [
    "class VehiculoAlquiler ():\n",
    "    disponible = True\n",
    "    \n",
    "    def __init__ (self, marca, modelo, año, kilometraje):\n",
    "        self.marca = marca\n",
    "        self.modelo = modelo\n",
    "        self.año = año\n",
    "        self.kilometraje = kilometraje\n",
    "        \n",
    "    def alquilar (self):\n",
    "        self.disponible = False \n",
    "    \n",
    "    def disponibilidad (self, aumentokm):\n",
    "        self.disponible = True\n",
    "        self.kilometraje = self.kilometraje + aumentokm\n",
    "        return (f\"El kilometraje ahora es de {self.kilometraje}\")\n",
    "    \n",
    "    def datos (self):\n",
    "        return (f\"La marca del vehículo es {self.marca} su modelo es {self.modelo} y es del {self.año}\")\n",
    "    \n",
    "    def precio (self):\n",
    "        preciocoche = 0.5 * int(self.kilometraje)\n",
    "        return (f\"El precio del vehiculo segun sus kilometros es de {preciocoche} euros\")\n",
    "        \n",
    "    \n",
    "    "
   ]
  },
  {
   "cell_type": "code",
   "execution_count": 135,
   "metadata": {},
   "outputs": [],
   "source": [
    "chochefiatpunto = VehiculoAlquiler(\"fiat\", \"punto\", 2004, 12000)\n",
    "chochebmw = VehiculoAlquiler (\"BMW\", \"C3\", 2010, 0)\n",
    "cochetesla = VehiculoAlquiler (\"Tesla\", \"Rio\", 2020, 100)"
   ]
  },
  {
   "cell_type": "code",
   "execution_count": 115,
   "metadata": {},
   "outputs": [
    {
     "data": {
      "text/plain": [
       "True"
      ]
     },
     "execution_count": 115,
     "metadata": {},
     "output_type": "execute_result"
    }
   ],
   "source": [
    "chochefiatpunto.disponible"
   ]
  },
  {
   "cell_type": "code",
   "execution_count": 116,
   "metadata": {},
   "outputs": [],
   "source": [
    "chochefiatpunto.alquilar()"
   ]
  },
  {
   "cell_type": "code",
   "execution_count": 128,
   "metadata": {},
   "outputs": [
    {
     "data": {
      "text/plain": [
       "'El kilometraje ahora es de 12500'"
      ]
     },
     "execution_count": 128,
     "metadata": {},
     "output_type": "execute_result"
    }
   ],
   "source": [
    "chochefiatpunto.disponibilidad(500)"
   ]
  },
  {
   "cell_type": "code",
   "execution_count": 129,
   "metadata": {},
   "outputs": [
    {
     "data": {
      "text/plain": [
       "'La marca del vehículo es fiat su modelo es punto y es del 2004'"
      ]
     },
     "execution_count": 129,
     "metadata": {},
     "output_type": "execute_result"
    }
   ],
   "source": [
    "chochefiatpunto.datos()"
   ]
  },
  {
   "cell_type": "code",
   "execution_count": 130,
   "metadata": {},
   "outputs": [
    {
     "data": {
      "text/plain": [
       "'El precio del vehiculo segun sus kilometros es de 6000.0 euros'"
      ]
     },
     "execution_count": 130,
     "metadata": {},
     "output_type": "execute_result"
    }
   ],
   "source": [
    "chochefiatpunto.precio()"
   ]
  },
  {
   "cell_type": "code",
   "execution_count": 136,
   "metadata": {},
   "outputs": [
    {
     "data": {
      "text/plain": [
       "'El kilometraje ahora es de 500'"
      ]
     },
     "execution_count": 136,
     "metadata": {},
     "output_type": "execute_result"
    }
   ],
   "source": [
    "chochebmw.disponibilidad(500)"
   ]
  },
  {
   "cell_type": "code",
   "execution_count": 137,
   "metadata": {},
   "outputs": [
    {
     "data": {
      "text/plain": [
       "'El precio del vehiculo segun sus kilometros es de 250.0 euros'"
      ]
     },
     "execution_count": 137,
     "metadata": {},
     "output_type": "execute_result"
    }
   ],
   "source": [
    "chochebmw.precio()"
   ]
  },
  {
   "cell_type": "markdown",
   "metadata": {},
   "source": [
    "\n",
    "## Ejercicio 5\n",
    "Vamos a modelar un sistema de gestión de cursos para una plataforma educativa.\n",
    "\n",
    "* Nombre de la clase: \"Curso\"\n",
    "* Atributos comunes:\n",
    "    * Modalidad: \"Online\"\n",
    "* Atributos propios de cada curso:\n",
    "    * Nombre - String\n",
    "    * Profesor - String\n",
    "    * Número de lecciones - int\n",
    "    * Estudiantes inscritos - Lista de strings (nombres de los estudiantes)\n",
    "* Método para inscribir un estudiante, que añade un nombre a la lista de inscritos\n",
    "* Método para calcular el número total de estudiantes inscritos\n",
    "* Método que imprime un resumen del curso con su nombre y profesor\n",
    "* Método para cambiar al profesor del curso\n",
    "\n",
    "Se pide:\n",
    "1. Implementar la clase \"Curso\"\n",
    "2. Crear dos cursos con información inventada\n",
    "3. Inscribir a algunos estudiantes en cada curso\n",
    "4. Cambiar el profesor de uno de los cursos\n",
    "5. Imprimir el resumen de todos los cursos con más de 3 estudiantes inscritos\n"
   ]
  },
  {
   "cell_type": "code",
   "execution_count": 212,
   "metadata": {},
   "outputs": [],
   "source": [
    "class Curso ():\n",
    "    modalidad = \"Online\"\n",
    "    \n",
    "    def __init__ (self, nombre, profesor, numerolecciones, listaestudiantes):\n",
    "        self.nombre = nombre\n",
    "        self.profesor = profesor\n",
    "        self.numerolecciones = numerolecciones\n",
    "        self.listaestudiantes = listaestudiantes\n",
    "    \n",
    "    def nuevoestudiante (self, nombrenuevoestudiante):\n",
    "        self.listaestudiantes = self.listaestudiantes.append(nombrenuevoestudiante)\n",
    "    \n",
    "    def totalalumnos (self):\n",
    "        totalalumnosinscritos = len(self.listaestudiantes)\n",
    "        return (f\"El total de alumnos inscritos es de {totalalumnosinscritos}\")\n",
    "    \n",
    "    def resumencurso (self):\n",
    "        return (f\"El curso {self.nombre} lo impartirá {self.profesor}\")\n",
    "    \n",
    "    def cambioprofesor (self, nombrenuevoprofe):\n",
    "        self.profesor = self.profesor.replace(self.profesor, nombrenuevoprofe)    \n",
    "    \n",
    "        \n",
    "\n",
    "    "
   ]
  },
  {
   "cell_type": "code",
   "execution_count": 255,
   "metadata": {},
   "outputs": [],
   "source": [
    "cursoingles = Curso(\"curso ingles\", \"silvia\", 8, [\"pepe\", \"paula\", \"ana\"])\n",
    "cursofrances = Curso(\"curso frances\", \"monica\", 4, [\"luisa\", \"mario\", \"alex\"])"
   ]
  },
  {
   "cell_type": "code",
   "execution_count": 214,
   "metadata": {},
   "outputs": [],
   "source": [
    "cursoingles.nuevoestudiante(\"camila\")"
   ]
  },
  {
   "cell_type": "code",
   "execution_count": 256,
   "metadata": {},
   "outputs": [
    {
     "data": {
      "text/plain": [
       "'El total de alumnos inscritos es de 3'"
      ]
     },
     "execution_count": 256,
     "metadata": {},
     "output_type": "execute_result"
    }
   ],
   "source": [
    "cursoingles.totalalumnos()"
   ]
  },
  {
   "cell_type": "code",
   "execution_count": 216,
   "metadata": {},
   "outputs": [
    {
     "data": {
      "text/plain": [
       "'El curso curso ingles lo impartirá silvia'"
      ]
     },
     "execution_count": 216,
     "metadata": {},
     "output_type": "execute_result"
    }
   ],
   "source": [
    "cursoingles.resumencurso()"
   ]
  },
  {
   "cell_type": "code",
   "execution_count": 217,
   "metadata": {},
   "outputs": [],
   "source": [
    "cursoingles.cambioprofesor(\"lili\")"
   ]
  },
  {
   "cell_type": "code",
   "execution_count": 218,
   "metadata": {},
   "outputs": [
    {
     "data": {
      "text/plain": [
       "'El curso curso ingles lo impartirá lili'"
      ]
     },
     "execution_count": 218,
     "metadata": {},
     "output_type": "execute_result"
    }
   ],
   "source": [
    "cursoingles.resumencurso()"
   ]
  },
  {
   "cell_type": "markdown",
   "metadata": {},
   "source": [
    "\n",
    "## Ejercicio 6\n",
    "Vamos a crear una clase para modelar una cuenta bancaria.\n",
    "\n",
    "* Nombre de la clase: \"CuentaBancaria\"\n",
    "* Atributos comunes:\n",
    "    * Moneda: \"EUR\"\n",
    "* Atributos propios de cada cuenta:\n",
    "    * Número de cuenta - String\n",
    "    * Titular - String\n",
    "    * Saldo - float\n",
    "* Método para realizar un depósito, que aumente el saldo con un valor pasado como argumento\n",
    "* Método para retirar una cantidad, que disminuya el saldo si hay fondos suficientes, sino devuelve un mensaje indicando falta de fondos\n",
    "* Método para obtener el saldo actual\n",
    "* Método para transferir dinero a otra cuenta (pasada como argumento), que disminuya el saldo si hay fondos suficientes y aumente el saldo de la cuenta destino\n",
    "\n",
    "Se pide:\n",
    "1. Implementar la clase \"CuentaBancaria\"\n",
    "2. Crear dos cuentas con información inventada\n",
    "3. Realizar depósitos y retirar dinero de las cuentas\n",
    "4. Transferir dinero de una cuenta a otra\n",
    "5. Imprimir el saldo de ambas cuentas después de la transferencia\n"
   ]
  },
  {
   "cell_type": "code",
   "execution_count": 272,
   "metadata": {},
   "outputs": [],
   "source": [
    "class CuentaBancaria ():\n",
    "    moneda = \"Eur\"\n",
    "    \n",
    "    def __init__ (self, numerocuenta, titular, saldo):\n",
    "        self.numerocuenta = numerocuenta\n",
    "        self.titular = titular\n",
    "        self.saldo = saldo\n",
    "    \n",
    "    def deposito (self, ingresocuenta):\n",
    "        self.saldo = self.saldo + ingresocuenta  \n",
    "    \n",
    "    def retirardinero (self, dineroretirar):\n",
    "        \n",
    "        if self.saldo > 0:\n",
    "            self.saldo = self.saldo - dineroretirar\n",
    "        \n",
    "        else:\n",
    "            print (\"El saldo está negativo, a currar chaval\")\n",
    "    \n",
    "    def saldoactual (self):\n",
    "        return (f\"Tu saldo actual es de {self.saldo}\")\n",
    "    \n",
    "    def transferencia (self, dinero_transferir, cuenta_destino):\n",
    "        if dinero_transferir <0:\n",
    "            return (\"La cantidad debe ser positiva\")\n",
    "        \n",
    "        if dinero_transferir > self.saldo:\n",
    "            return (\"No hay fondos suficientes\")\n",
    "        \n",
    "        self.saldo -= dinero_transferir\n",
    "        \n",
    "        cuenta_destino.transferencia(dinero_transferir)\n",
    "        return (f\"Transferencia de {dinero_transferir} depositada en {cuenta_destino} correctamente\")\n",
    "            \n",
    "        \n",
    "\n",
    "    "
   ]
  },
  {
   "cell_type": "code",
   "execution_count": 285,
   "metadata": {},
   "outputs": [],
   "source": [
    "cuentapaula = CuentaBancaria (\"ochoveintiocho\", \"Paula Jimenez Suaza\", 50500.50)\n",
    "cuentasebas = CuentaBancaria (\"ochodosseis\", \"Juan Sebastian Jimenez\", 0.0)"
   ]
  },
  {
   "cell_type": "code",
   "execution_count": 278,
   "metadata": {},
   "outputs": [],
   "source": [
    "cuentasebas.deposito(500)"
   ]
  },
  {
   "cell_type": "code",
   "execution_count": 279,
   "metadata": {},
   "outputs": [
    {
     "data": {
      "text/plain": [
       "{'numerocuenta': 'ochodosseis',\n",
       " 'titular': 'Juan Sebastian Jimenez',\n",
       " 'saldo': 500.0}"
      ]
     },
     "execution_count": 279,
     "metadata": {},
     "output_type": "execute_result"
    }
   ],
   "source": [
    "cuentasebas.__dict__"
   ]
  },
  {
   "cell_type": "code",
   "execution_count": 280,
   "metadata": {},
   "outputs": [],
   "source": [
    "cuentasebas.retirardinero (480)"
   ]
  },
  {
   "cell_type": "code",
   "execution_count": 281,
   "metadata": {},
   "outputs": [
    {
     "data": {
      "text/plain": [
       "{'numerocuenta': 'ochodosseis',\n",
       " 'titular': 'Juan Sebastian Jimenez',\n",
       " 'saldo': 20.0}"
      ]
     },
     "execution_count": 281,
     "metadata": {},
     "output_type": "execute_result"
    }
   ],
   "source": [
    "cuentasebas.__dict__"
   ]
  },
  {
   "cell_type": "code",
   "execution_count": 282,
   "metadata": {},
   "outputs": [],
   "source": [
    "cuentasebas.retirardinero(20)"
   ]
  },
  {
   "cell_type": "code",
   "execution_count": 283,
   "metadata": {},
   "outputs": [
    {
     "data": {
      "text/plain": [
       "'Tu saldo actual es de 0.0'"
      ]
     },
     "execution_count": 283,
     "metadata": {},
     "output_type": "execute_result"
    }
   ],
   "source": [
    "cuentasebas.saldoactual()"
   ]
  }
 ],
 "metadata": {
  "kernelspec": {
   "display_name": "gmail_env",
   "language": "python",
   "name": "python3"
  },
  "language_info": {
   "codemirror_mode": {
    "name": "ipython",
    "version": 3
   },
   "file_extension": ".py",
   "mimetype": "text/x-python",
   "name": "python",
   "nbconvert_exporter": "python",
   "pygments_lexer": "ipython3",
   "version": "3.12.4"
  }
 },
 "nbformat": 4,
 "nbformat_minor": 2
}
