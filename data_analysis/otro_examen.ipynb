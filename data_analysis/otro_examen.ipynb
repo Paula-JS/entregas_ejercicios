{
 "cells": [
  {
   "cell_type": "markdown",
   "metadata": {},
   "source": [
    "\n",
    "### Ejercicio 1 (1 punto)\n",
    "En este ejercicio trabajarás con variables de distintos tipos. Sigue las instrucciones detalladas a continuación:\n",
    "\n",
    "1. Crea una variable llamada `precio_habitacion` de tipo Integer que represente el costo por noche de una habitación en un hotel.\n",
    "2. Crea una variable llamada `nombre_cliente` de tipo String que contenga el nombre completo de un cliente que reserva la habitación.\n",
    "3. Crea una variable llamada `descuento` de tipo Float que contenga el porcentaje de descuento aplicado por reservar más de tres noches (por ejemplo, 15.5).\n",
    "4. Crea una variable llamada `es_vip` de tipo Boolean que sea True si el cliente es parte del programa VIP del hotel, y False en caso contrario.\n",
    "5. Crea una variable llamada `dias_estancia` de tipo Integer que contenga el número de días que el cliente se hospedará en el hotel.\n",
    "6. Crea una variable llamada `servicios_extras` de tipo List que contenga tres servicios adicionales que el cliente ha solicitado (por ejemplo, 'Desayuno', 'Gimnasio', 'Spa').\n",
    "7. Crea una variable llamada `tupla_contacto` de tipo Tuple que contenga el número de teléfono y la dirección de correo electrónico del cliente.\n",
    "8. Añade todas estas variables a una lista llamada `detalles_reserva` en el orden de aparición **usando una función de lista**.\n",
    "9. Responde en un comentario a la siguiente pregunta: ¿Cómo podrías calcular el total a pagar de la estancia si sabes el precio por noche, los días de estancia y el descuento?\n",
    "\n"
   ]
  },
  {
   "cell_type": "code",
   "execution_count": 104,
   "metadata": {},
   "outputs": [
    {
     "name": "stdout",
     "output_type": "stream",
     "text": [
      "[150, 'Paula Jimenez', 10.5, True, 8, ['desayuno', 'gimmnasio', 'spa'], (601653289, 'C/Islas Canarias', 'paulaajs20@gmail.com')]\n",
      "1200\n",
      "1074.0\n"
     ]
    }
   ],
   "source": [
    "#Ejercicio 1, 1\n",
    "precio_habitacion = 150\n",
    "nombre_cliente = \"Paula Jimenez\"\n",
    "descuento = 10.5 \n",
    "es_vip = True\n",
    "dias_estancia = 8\n",
    "servicios_extras = [\"desayuno\", \"gimmnasio\", \"spa\"]\n",
    "tupla_contacto = (601653289, \"C/Islas Canarias\", \"paulaajs20@gmail.com\")\n",
    "\n",
    "detalles_reserva = []\n",
    "\n",
    "detalles_reserva.append(precio_habitacion)\n",
    "detalles_reserva.append(nombre_cliente)\n",
    "detalles_reserva.append(descuento)\n",
    "detalles_reserva.append(es_vip)\n",
    "detalles_reserva.append(dias_estancia)\n",
    "detalles_reserva.append(servicios_extras)\n",
    "detalles_reserva.append(tupla_contacto)\n",
    "\n",
    "print (detalles_reserva)\n",
    "\n",
    "precio_noches = precio_habitacion * 8 \n",
    "print (precio_noches)\n",
    "precio_descuento = precio_noches - (precio_noches * 0.105)\n",
    "print (precio_descuento)"
   ]
  },
  {
   "cell_type": "markdown",
   "metadata": {},
   "source": [
    "\n",
    "\n",
    "### Ejercicio 2 (2 puntos)\n",
    "\n",
    "Para este ejercicio trabajarás con colecciones. Utiliza la lista `detalles_reserva` que has creado en el ejercicio anterior. Lee atentamente cada punto antes de comenzar.\n",
    "\n",
    "1. Mostrar por pantalla, sin uso de funciones (puedes usar `print`) ni bucles:\n",
    "   - Un mensaje de presentación que incluya el nombre del cliente y su número de teléfono.\n",
    "   - El precio de la habitación y el número de días de estancia.\n",
    "   - El segundo servicio adicional solicitado por el cliente.\n",
    "   - Si el cliente es VIP, muestra el descuento aplicado; en caso contrario, muestra un mensaje indicando que no tiene descuento.\n",
    "   - Muestra el correo electrónico del cliente.\n",
    "\n",
    "2. Mostrar por pantalla, con uso de un bucle `for`:\n",
    "   - Todos los elementos de `detalles_reserva`.\n",
    "   - Todos los elementos de `detalles_reserva` en orden inverso.\n",
    "   - Todos aquellos elementos que sean strings.\n",
    "   - El número de caracteres de cada servicio adicional solicitado por el cliente.\n",
    "\n",
    "3. Con uso de un bucle `while`, elimina los servicios extras de la lista uno por uno hasta que no queden más servicios en `detalles_reserva`, y guarda los eliminados en una lista llamada `servicios_eliminados`.\n",
    "\n"
   ]
  },
  {
   "cell_type": "code",
   "execution_count": 97,
   "metadata": {},
   "outputs": [
    {
     "name": "stdout",
     "output_type": "stream",
     "text": [
      "Buenos días Paula Jimenez por favor, confirme que su numero de teledono es correcto: 601653289\n",
      "El precio de su habitación es de 1200 y su estancia será de 8\n",
      "Su segundo servicio adicional es gimmnasio\n",
      "Debido a que se trata de un cliente VIP, se le ha añadido un descuento, el precio final a pagar es de 1074.0\n",
      "Su correo electronico es paulaajs20@gmail.com\n"
     ]
    }
   ],
   "source": [
    "detalles_reserva = [150, 'Paula Jimenez', 10.5, True, 8, ['desayuno', 'gimmnasio', 'spa'], (601653289, 'C/Islas Canarias', 'paulaajs20@gmail.com')]\n",
    "\n",
    "mensaje = (f\"Buenos días {nombre_cliente} por favor, confirme que su numero de teledono es correcto: {tupla_contacto[0]}\") \n",
    "print (mensaje)\n",
    "\n",
    "precio_mensaje = (f\"El precio de su habitación es de {precio_noches} y su estancia será de {dias_estancia}\")\n",
    "print (precio_mensaje)\n",
    "\n",
    "servicio_mensaje = (f\"Su segundo servicio adicional es {servicios_extras[1]}\")\n",
    "print (servicio_mensaje)\n",
    "\n",
    "if es_vip == True:\n",
    "    print (f\"Debido a que se trata de un cliente VIP, se le ha añadido un descuento, el precio final a pagar es de {precio_descuento}\")\n",
    "    \n",
    "else:\n",
    "    print (\"No tiene descuento\")\n",
    "    \n",
    "correo_mensaje = (f\"Su correo electronico es {tupla_contacto[2]}\")\n",
    "print (correo_mensaje)"
   ]
  },
  {
   "cell_type": "code",
   "execution_count": 105,
   "metadata": {},
   "outputs": [
    {
     "name": "stdout",
     "output_type": "stream",
     "text": [
      "150\n",
      "Paula Jimenez\n",
      "10.5\n",
      "True\n",
      "8\n",
      "['desayuno', 'gimmnasio', 'spa']\n",
      "(601653289, 'C/Islas Canarias', 'paulaajs20@gmail.com')\n",
      "(601653289, 'C/Islas Canarias', 'paulaajs20@gmail.com')\n",
      "['desayuno', 'gimmnasio', 'spa']\n",
      "8\n",
      "True\n",
      "10.5\n",
      "Paula Jimenez\n",
      "150\n",
      "Paula Jimenez\n",
      "desayuno\n",
      "gimmnasio\n",
      "spa\n",
      "C/Islas Canarias\n",
      "paulaajs20@gmail.com\n",
      "8\n",
      "9\n",
      "3\n"
     ]
    }
   ],
   "source": [
    "\n",
    "\n",
    "#mostrar todos los elementos con un bucle for:\n",
    "\n",
    "for elementos in detalles_reserva:\n",
    "    print (elementos)\n",
    "    \n",
    "#mostrar todos los elementos con un bucle for en orden inverso:\n",
    "for elementos in reversed(detalles_reserva):\n",
    "    print (elementos)\n",
    "    \n",
    "#mostrar todos aquellos elementos que sean string\n",
    "for elementos in detalles_reserva:\n",
    "    if type (elementos) == str:\n",
    "        print (elementos)\n",
    "    elif type (elementos) in [list, tuple]:\n",
    "        for elemento in elementos:\n",
    "            if type(elemento) == str:\n",
    "                print (elemento)\n",
    "        \n",
    "#numero caracteres de cada servicio adicional solicitado por el cliente:\n",
    "\n",
    "for cosa in detalles_reserva[-2]:\n",
    "    print (len(cosa))"
   ]
  },
  {
   "cell_type": "code",
   "execution_count": 106,
   "metadata": {},
   "outputs": [
    {
     "name": "stdout",
     "output_type": "stream",
     "text": [
      "['spa']\n",
      "['spa', 'gimmnasio']\n",
      "['spa', 'gimmnasio', 'desayuno']\n"
     ]
    }
   ],
   "source": [
    "#3. Con uso de un bucle `while`, elimina los servicios extras de la lista uno por uno hasta que no queden más servicios en `detalles_reserva`, y guarda los eliminados en una lista llamada `servicios_eliminados`.\n",
    "\n",
    "servicios_eliminados = []\n",
    "while len (detalles_reserva[-2]) > 0:\n",
    "    loquesaco = detalles_reserva[-2].pop(-1)\n",
    "    servicios_eliminados.append(loquesaco)\n",
    "    print (servicios_eliminados)\n"
   ]
  },
  {
   "cell_type": "code",
   "execution_count": 108,
   "metadata": {},
   "outputs": [
    {
     "data": {
      "text/plain": [
       "[]"
      ]
     },
     "execution_count": 108,
     "metadata": {},
     "output_type": "execute_result"
    }
   ],
   "source": [
    "servicios_extras"
   ]
  },
  {
   "cell_type": "code",
   "execution_count": 107,
   "metadata": {},
   "outputs": [
    {
     "data": {
      "text/plain": [
       "['spa', 'gimmnasio', 'desayuno']"
      ]
     },
     "execution_count": 107,
     "metadata": {},
     "output_type": "execute_result"
    }
   ],
   "source": [
    "servicios_eliminados"
   ]
  },
  {
   "cell_type": "markdown",
   "metadata": {},
   "source": [
    "\n",
    "\n",
    "### Ejercicio 3: Simulación de préstamos bancarios (2 puntos)\n",
    "\n",
    "En este ejercicio, implementarás un sistema básico de cálculo de préstamos bancarios utilizando funciones.\n",
    "\n",
    "1. **Cálculo del monto total a pagar:**\n",
    "\n",
    "   Crea una función llamada `calcular_monto_total` que reciba tres parámetros: `monto_prestamo` (float), `tasa_interes` (float, en porcentaje) y `plazo_anios` (int). La función debe calcular el monto total a pagar por el préstamo utilizando la siguiente fórmula:\n",
    "\n",
    "   **monto_total = monto_prestamo * (1 + (tasa_interes / 100) * plazo_anios)**\n",
    "\n",
    "   Solicita al usuario que ingrese los valores de cada parámetro e invoca la función para mostrar el monto total a pagar.\n",
    "\n",
    "2. **Cálculo de la cuota mensual:**\n",
    "\n",
    "   Crea una función llamada `calcular_cuota_mensual` que reciba como parámetros el `monto_total` (float) calculado anteriormente y el `plazo_anios` (int). La función debe calcular y retornar la cuota mensual utilizando la fórmula:\n",
    "\n",
    "   **cuota_mensual = monto_total / (plazo_anios * 12)**\n",
    "\n",
    "   Muestra la cuota mensual que deberá pagar el usuario.\n",
    "\n",
    "3. **Simulación del pago del préstamo:**\n",
    "\n",
    "   Crea una función llamada `simular_pago` que reciba como parámetros `monto_total`, `cuota_mensual` y `ingresos_mensuales` (float). La función debe simular los pagos mensuales y calcular cuántos meses le llevará pagar el préstamo completamente. Si en algún mes la cuota mensual es superior al 40% de los ingresos mensuales del usuario, el préstamo se considerará \"incumplido\" y se mostrará un mensaje.\n",
    "\n",
    "4. **Función final:**\n",
    "\n",
    "   Crea una función llamada `evaluar_prestamo` que combine las anteriores. La función debe solicitar los datos del préstamo (monto, tasa de interés, plazo), calcular el monto total y la cuota mensual, y finalmente llamar a `simular_pago` para verificar si el usuario puede cumplir con los pagos.\n",
    "\n"
   ]
  },
  {
   "cell_type": "code",
   "execution_count": 111,
   "metadata": {},
   "outputs": [],
   "source": [
    "#primera parte:\n",
    "\n",
    "def calcular_monto_total (monto_prestamo, tasa_interes, plazo_anios):\n",
    "    return monto_prestamo*(1+(tasa_interes/100)*plazo_anios)\n",
    "\n",
    "\n",
    "monto_prestamo = float(input(\"Dame el monto: \"))\n",
    "tasa_interes = float (input(\"Dame la tasa_interes: \"))\n",
    "plazo = int (input(\"dame el plazo: \"))\n",
    "\n",
    "calcular_couta_mensual (monto_prestamo, tasa_interes, plazo)\n",
    "    "
   ]
  },
  {
   "cell_type": "code",
   "execution_count": null,
   "metadata": {},
   "outputs": [],
   "source": [
    "monto_total = calcular_monto_total (monto_prestamo, tasa_interes, plazo)\n",
    "\n",
    "def calcular_cuota_mensual (monto_total, plazo):\n",
    "    return monto_total / (plazo_anios *12)\n"
   ]
  },
  {
   "cell_type": "code",
   "execution_count": 66,
   "metadata": {},
   "outputs": [
    {
     "name": "stdout",
     "output_type": "stream",
     "text": [
      "22.5\n",
      "22.5\n"
     ]
    }
   ],
   "source": [
    "monto_total = calcular_monto_total (monto_prestamo, tasa_interes, plazo)\n",
    "calcular_couta_mensual = calcular_couta_mensual(monto_total, plazo)\n",
    "\n",
    "ingresos_mensuales = float(input(\"Dame los ingresos mensuales: \"))\n",
    "\n",
    "\n",
    "def simular_pago (monto_total, cuota_mensual, ingresos_mensuales):\n",
    "    \n",
    "    "
   ]
  },
  {
   "cell_type": "markdown",
   "metadata": {},
   "source": [
    "\n",
    "### Ejercicio 4: Gestión de un hotel (2 puntos)\n",
    "\n",
    "En este ejercicio crearás una clase para gestionar un hotel.\n",
    "\n",
    "1. **Nombre de la clase:** `Hotel`\n",
    "\n",
    "   **Atributos:**\n",
    "   COMUNES\n",
    "   - `reservas`: Lista de diccionarios donde cada diccionario representa una reserva, con las claves: `nombre_cliente`, `numero_habitacion/es`, `dias_reserva`, y `costo_total`.\n",
    "   - `precio_habitacion` = 100\n",
    "   - `capacidad_habitacion` = 2\n",
    "   VARIABLES\n",
    "   - `nombre`: Nombre del hotel (str).\n",
    "   - `habitaciones_disponibles`: Número de habitaciones disponibles en el hotel (int).\n",
    "\n",
    "\n",
    "2. **Métodos:**\n",
    "   - `realizar_reserva(nombre_cliente, personas, dias_reserva)`: Si hay habitaciones disponibles (en funcion de las personas), crea una nueva reserva, calcula el costo total (número de días por precio por noche), y añade la reserva a la lista de `reservas`. Si no hay habitaciones disponibles, muestra un mensaje indicando que no se puede realizar la reserva.\n",
    "   - `cancelar_reserva(nombre_cliente)`: Elimina la reserva de un cliente en la lista de reservas si existe. Si no existe, muestra un mensaje indicando que no hay reserva a cancelar.\n",
    "   - `mostrar_reservas()`: Muestra todas las reservas actuales con el nombre del cliente, número de habitación y costo total.\n",
    "\n",
    "3. **Simulación:**\n",
    "   Crea una instancia de la clase `Hotel` llamada `mi_hotel`. Realiza al menos tres reservas diferentes, cancela una de ellas, y muestra la lista de reservas actualizada.\n",
    "\n"
   ]
  },
  {
   "cell_type": "code",
   "execution_count": 17,
   "metadata": {},
   "outputs": [],
   "source": [
    "class Hotel:\n",
    "    \n",
    "    reservas = []\n",
    "    precio_habitacion = 100\n",
    "    capacidad = 2 \n",
    "    \n",
    "    def __init__ (self, nombre, disponibles):\n",
    "        self.nombre = nombre\n",
    "        self.disponibles = disponibles\n",
    "    \n",
    "    def realizar_reserva(self, nombre_cliente, personas, dias_reserva):\n",
    "        import math\n",
    "        numero_hab_que_necesitan = math.ceil(personas / self.capacidad)\n",
    "        \n",
    "        if numero_hab_que_necesitan <= self.disponibles:\n",
    "            costo = numero_hab_que_necesitan * self.precio_habitacion * dias_reserva\n",
    "            nombre_cliente = nombre_cliente\n",
    "            numero_habitacion = numero_hab_que_necesitan\n",
    "            dias_reserva = dias_reserva\n",
    "            costo_total = costo\n",
    "            reserva = {\"nombre_cliente\": nombre_cliente,\n",
    "                       \"numero_habitacion\": numero_habitacion,\n",
    "                       \"dias_reserva\": dias_reserva,\n",
    "                       \"costo_total\": costo_total}\n",
    "            self.reservas.append(reserva)\n",
    "            self.disponibles = self.disponibles - numero_hab_que_necesitan\n",
    "            return self.reservas\n",
    "            \n",
    "        else:\n",
    "            return (\"No hay reservas\")\n",
    "        \n",
    "        def cancelar_reserva (self, nombre_cliente):\n",
    "            for reserva in self.reservas:\n",
    "                if reserva[\"nombre_cliente\"] == nombre_cliente:\n",
    "                    self.reservas.remove(reserva)\n",
    "                    "
   ]
  },
  {
   "cell_type": "code",
   "execution_count": 18,
   "metadata": {},
   "outputs": [],
   "source": [
    "hotelbudapest = Hotel (\"Hotel Budapest\", 5)\n",
    "hotehilton = Hotel(\"Hotel Hilton\", 23)"
   ]
  },
  {
   "cell_type": "code",
   "execution_count": 19,
   "metadata": {},
   "outputs": [
    {
     "data": {
      "text/plain": [
       "[{'nombre_cliente': 'antonio',\n",
       "  'numero_habitacion': 3,\n",
       "  'dias_reserva': 2,\n",
       "  'costo_total': 600}]"
      ]
     },
     "execution_count": 19,
     "metadata": {},
     "output_type": "execute_result"
    }
   ],
   "source": [
    "hotelbudapest.realizar_reserva(\"antonio\", 5, 2)"
   ]
  },
  {
   "cell_type": "code",
   "execution_count": 20,
   "metadata": {},
   "outputs": [
    {
     "data": {
      "text/plain": [
       "2"
      ]
     },
     "execution_count": 20,
     "metadata": {},
     "output_type": "execute_result"
    }
   ],
   "source": [
    "hotelbudapest.disponibles"
   ]
  },
  {
   "cell_type": "code",
   "execution_count": null,
   "metadata": {},
   "outputs": [],
   "source": []
  }
 ],
 "metadata": {
  "kernelspec": {
   "display_name": "opencv_environ",
   "language": "python",
   "name": "python3"
  },
  "language_info": {
   "codemirror_mode": {
    "name": "ipython",
    "version": 3
   },
   "file_extension": ".py",
   "mimetype": "text/x-python",
   "name": "python",
   "nbconvert_exporter": "python",
   "pygments_lexer": "ipython3",
   "version": "3.12.4"
  }
 },
 "nbformat": 4,
 "nbformat_minor": 2
}
