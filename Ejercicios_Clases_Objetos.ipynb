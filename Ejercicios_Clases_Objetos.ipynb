{
 "cells": [
  {
   "cell_type": "markdown",
   "metadata": {},
   "source": [
    "![imagen](./img/ejercicios.png)\n",
    "\n",
    "# Ejercicios Clases y Objetos"
   ]
  },
  {
   "attachments": {},
   "cell_type": "markdown",
   "metadata": {},
   "source": [
    "## Ejercicio 1\n",
    "Somos una empresa que tiene varias tiendas de electrodomésticos. Necesitamos un programa para manejar las tiendas, ver las ventas que han tenido, cuántos empleados hay, etc... Para ello vamos a modelizar la tienda en una clase, que tendrá las siguientes características:\n",
    "* Nombre clase: \"Tienda\"\n",
    "* Atributos comunes:\n",
    "    * Tipo: \"Electrodomésticos\"\n",
    "    * Abierta: True\n",
    "* Atributos propios de cada tienda:\n",
    "    * Nombre - String\n",
    "    * Dirección - String\n",
    "    * Número de empleados - int\n",
    "    * Ventas últimos 3 meses - Lista de 3 numeros\n",
    "* Método para calcular las ventas de todos los meses, que devuelva un número con todas las ventas.\n",
    "* Método que calcula la media de ventas de los últimos meses, por empleado\n",
    "* Método que devuelve en un string el nombre de la tienda, junto con su dirección.\n",
    "* Método que obtiene las ventas del último mes.\n",
    "* Método para dar una proyección de las ventas en caso de haber invertido X dinero en marketing en esa tienda. Siendo X el parámetro de entrada. Si X es menor de 1000, las ventas de los ultimos 3 meses hubiesen sido de (1.2 x ventas), si es mayor o igual de 1000, las ventas hubiesen sido de (1.5 x venta). El método reescribe el atributo de ventas en los últimos 3 meses, y además devuelve las ventas con el aumento.\n",
    "\n",
    "Se pide:\n",
    "1. Implementar la clase \"Tienda\"\n",
    "2. Crear tres tiendas con datos inventados\n",
    "3. Comprueba en al menos una de ellas, todo lo implementado en la clase tienda (sus atributos, media de ventas, ventas/empleado...)\n",
    "3. Calcular las ventas del último mes de todas las tiendas. Para ello usa el bucle `for`\n",
    "4. Imprime por pantalla los nombres de las tiendas cuya dirección lleve el string \"Avenida\"\n",
    "5. Seguro que ya has hecho este apartado... Documenta la clase :)"
   ]
  },
  {
   "cell_type": "code",
   "execution_count": 117,
   "metadata": {},
   "outputs": [],
   "source": [
    "class TiendaElectrodomesticos ():\n",
    "    tipo = \"electrodomesticos\"\n",
    "    abierta = True\n",
    "\n",
    "    \n",
    "    #definir los atributos propios de la tienda\n",
    "\n",
    "    def __init__(self, nombre, direccion, numero_empleados, ventas):\n",
    "        self.nombre = nombre\n",
    "        self.direccion = direccion\n",
    "        self.numero_empleados = numero_empleados\n",
    "        self.ventas = ventas\n",
    "        \n",
    "    #crear un metodo para calcular las ventas de todos los meses:\n",
    "    \n",
    "    def ventas_meses (self):\n",
    "        suma_total_ventas = sum(self.ventas)\n",
    "        return (f\"Las ventas totales de los últimos tres meses han sido de {suma_total_ventas}\")\n",
    "    \n",
    "    #metodo para calcular la media de ventas de los ultimos meses por empleados\n",
    "    def media_ventas (self):\n",
    "        media_ventas = sum(self.ventas) / self.numero_empleados \n",
    "        return (f\"La media de las ventas por empleado es de {media_ventas}\")\n",
    "    \n",
    "    #metodo que devuelve en un string el nombre de la tienda y la dirección:\n",
    "    \n",
    "    def datos_tienda (self):\n",
    "        return (f\"El nombre de la tienda es {self.nombre} y su dirección es {self.direccion}\")\n",
    "    \n",
    "    #metodo que devuelve las ventas del ultimo mes:\n",
    "    \n",
    "    def ventas_ultimo_mes (self):\n",
    "        for venta in self.ventas:\n",
    "            self.ventas[-1]\n",
    "            return (f\"Las ventas del último mes han sido de {self.ventas[-1]}\")\n",
    "        \n",
    "    #saber en cuanto han aumentado las ventas segun el presupuesto de mk\n",
    "    \n",
    "    def marketing (self, dinero_invertido):\n",
    "        if dinero_invertido < 1000:\n",
    "            ventas_obtenidas = sum(self.ventas) * 1.2 \n",
    "            return (f\"Las ventas han aumentado en {ventas_obtenidas}\")\n",
    "        \n",
    "        elif dinero_invertido > 1000:\n",
    "            ventas_obtenidas2 = sum(self.ventas) * 1.5\n",
    "            return (f\"Las ventas han aumentado en {ventas_obtenidas2}\")\n",
    "        \n",
    "    \n",
    "        \n",
    "    \n"
   ]
  },
  {
   "cell_type": "code",
   "execution_count": 111,
   "metadata": {},
   "outputs": [],
   "source": [
    "#crear 3 tiendas con datos diferentes\n",
    "\n",
    "tienda1 = TiendaElectrodomesticos(\"tienda1\", \"C/Islas Canarias\", 6, [1500, 25000, 30000])\n",
    "\n",
    "tienda2 = TiendaElectrodomesticos(\"tienda2\", \"Av Puerto\", 8, [50000, 35000, 40000])\n",
    "\n",
    "tienda3 = TiendaElectrodomesticos(\"tienda3\", \"C/Albocasser\", 10, [60000, 60000, 700000])"
   ]
  },
  {
   "cell_type": "code",
   "execution_count": 112,
   "metadata": {},
   "outputs": [
    {
     "data": {
      "text/plain": [
       "'Las ventas totales de los últimos tres meses han sido de 56500'"
      ]
     },
     "execution_count": 112,
     "metadata": {},
     "output_type": "execute_result"
    }
   ],
   "source": [
    "#usando el metodo venta_meses para calcular las ventas totales de cada tienda de los últimos tres meses\n",
    "tienda1.ventas_meses()"
   ]
  },
  {
   "cell_type": "code",
   "execution_count": 93,
   "metadata": {},
   "outputs": [
    {
     "data": {
      "text/plain": [
       "'La media de las ventas por empleado es de 15625.0'"
      ]
     },
     "execution_count": 93,
     "metadata": {},
     "output_type": "execute_result"
    }
   ],
   "source": [
    "#para saber la media de empleados\n",
    "\n",
    "tienda2.media_ventas()"
   ]
  },
  {
   "cell_type": "code",
   "execution_count": 113,
   "metadata": {},
   "outputs": [
    {
     "data": {
      "text/plain": [
       "'El nombre de la tienda es tienda1 y su dirección es C/Islas Canarias'"
      ]
     },
     "execution_count": 113,
     "metadata": {},
     "output_type": "execute_result"
    }
   ],
   "source": [
    "#devolver los datos de la tienda\n",
    "\n",
    "tienda1.datos_tienda()"
   ]
  },
  {
   "cell_type": "code",
   "execution_count": 114,
   "metadata": {},
   "outputs": [
    {
     "data": {
      "text/plain": [
       "'Las ventas del último mes han sido de 30000'"
      ]
     },
     "execution_count": 114,
     "metadata": {},
     "output_type": "execute_result"
    }
   ],
   "source": [
    "#devolver las ventas del ultimo mes\n",
    "\n",
    "tienda1.ventas_ultimo_mes()"
   ]
  },
  {
   "cell_type": "code",
   "execution_count": 116,
   "metadata": {},
   "outputs": [
    {
     "data": {
      "text/plain": [
       "'Las ventas han aumentado en 84750.0'"
      ]
     },
     "execution_count": 116,
     "metadata": {},
     "output_type": "execute_result"
    }
   ],
   "source": [
    "#saber si las ventas han aumentado o no\n",
    "tienda1.marketing(1500)"
   ]
  },
  {
   "cell_type": "markdown",
   "metadata": {},
   "source": [
    "## Ejercicio 2\n",
    "En este ejercicio vamos a implementar una clase *Perro* en Python. La clase tiene las siguientes características:\n",
    "* Cosas que sabemos seguro que tiene un perro\n",
    "    * Tiene 4 patas\n",
    "    * 2 orejas\n",
    "    * 2 ojos\n",
    "    * Una velocidad de 0. Por defecto, el perro está parado\n",
    "* Cuando se inicialice:\n",
    "    * El perro será de una determinada raza\n",
    "    * Por defecto tendrá pelo \"Marrón\", a no ser que se diga lo contrario.\n",
    "    * Por defecto no tendrá dueño, a no ser que se diga lo contrario.\n",
    "    \n",
    "* Dispondrá también de un método llamado andar, que tiene un argumento de entrada (aumento_velocidad). Este valor se le sumará a la velocidad que ya llevaba el perro.\n",
    "* Necesita otro método (parar), donde pondremos la velocidad a 0.\n",
    "* Otro método llamado \"ladrar\", que tendrá un argumento de entrada, y la salida será el siguiente string: \"GUAU!\" + el argumento de entrada.\n",
    "\n",
    "\n",
    "Se pide:\n",
    "* Implementa la clase *Perro*\n",
    "* Crea un objeto de tipo *Perro*, sin dueño\n",
    "* Comprueba que están bien todos sus atributos\n",
    "* Prueba que ande, y comprueba su velocidad\n",
    "* Páralo\n",
    "* Documenta la clase *Perro*"
   ]
  },
  {
   "cell_type": "code",
   "execution_count": 140,
   "metadata": {},
   "outputs": [],
   "source": [
    "class Perro ():\n",
    "    patas = 4\n",
    "    orejas = 2\n",
    "    velocidad = 0\n",
    "    \n",
    "    def __init__ (self, raza, dueño = None, pelo = \"marrón\"):\n",
    "        self.raza = raza\n",
    "        self.pelo = pelo\n",
    "        self.dueño = dueño\n",
    "        \n",
    "    def andar (self, aumento_velocidad):\n",
    "        self.velocidad += aumento_velocidad\n",
    "        return (f\"La velocidad de mi mascota es de {aumento_velocidad} km por hora\")\n",
    "    \n",
    "    def parar (self):\n",
    "        self.velocidad = 0\n",
    "        return (f\"La velocidad después de parar es de {velocidad} km por hora\")\n",
    "        \n",
    "    def ladrar (self,mensaje):\n",
    "        return \"Guau\" + \" \" + mensaje\n",
    "\n",
    "        \n",
    "    "
   ]
  },
  {
   "cell_type": "code",
   "execution_count": 142,
   "metadata": {},
   "outputs": [],
   "source": [
    "nala = Perro(\"Golden Retriever\")"
   ]
  },
  {
   "cell_type": "code",
   "execution_count": 141,
   "metadata": {},
   "outputs": [
    {
     "data": {
      "text/plain": [
       "'La velocidad de mi mascota es de 5 km por hora'"
      ]
     },
     "execution_count": 141,
     "metadata": {},
     "output_type": "execute_result"
    }
   ],
   "source": [
    "nala.andar (5)"
   ]
  },
  {
   "cell_type": "code",
   "execution_count": 143,
   "metadata": {},
   "outputs": [
    {
     "data": {
      "text/plain": [
       "'Guau holaaaaa'"
      ]
     },
     "execution_count": 143,
     "metadata": {},
     "output_type": "execute_result"
    }
   ],
   "source": [
    "nala.ladrar (\"holaaaaa\")"
   ]
  }
 ],
 "metadata": {
  "kernelspec": {
   "display_name": "Python 3.7.4 64-bit",
   "language": "python",
   "name": "python3"
  },
  "language_info": {
   "codemirror_mode": {
    "name": "ipython",
    "version": 3
   },
   "file_extension": ".py",
   "mimetype": "text/x-python",
   "name": "python",
   "nbconvert_exporter": "python",
   "pygments_lexer": "ipython3",
   "version": "3.12.4"
  },
  "vscode": {
   "interpreter": {
    "hash": "90139cb9a825bf3d63f6f6704e828dbd1ff7edbd4d0c6e906a71235d6efc74af"
   }
  }
 },
 "nbformat": 4,
 "nbformat_minor": 4
}
